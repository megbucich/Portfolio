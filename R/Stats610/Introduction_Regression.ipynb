{
  "nbformat": 4,
  "nbformat_minor": 0,
  "metadata": {
    "colab": {
      "provenance": []
    },
    "kernelspec": {
      "name": "ir",
      "display_name": "R"
    }
  },
  "cells": [
    {
      "cell_type": "markdown",
      "metadata": {
        "id": "gtETsh5j8vHw"
      },
      "source": [
        "# **Class Assignment: Prerequisite Review (20 points)**\n",
        "\n",
        "#### **Meg Bucich**\n"
      ]
    },
    {
      "cell_type": "markdown",
      "metadata": {
        "id": "en9tcPcGuFyc"
      },
      "source": [
        "---\n",
        "\n",
        "**IMPORTANT**:\n",
        "- Before starting the lab, save a copy to your google drive by navigating to `File > Save a copy in Drive` <br>\n",
        "\n",
        "<br>\n",
        "\n",
        "\n",
        "**Instructions**: Complete the in-class assignment below.\n",
        "- <font color=red>Tasks</font> indicated in red must be completed to receive credit\n",
        "- Include all code for your work\n",
        "- Include markdown cells with written answers explaining your work when prompted\n",
        "- Your completed assignment must be submitted to Canvas as a .ipynb file by the deadline listed on Canvas\n",
        "---"
      ]
    },
    {
      "cell_type": "markdown",
      "metadata": {
        "id": "c7sADPiGJvIe"
      },
      "source": [
        "<br>"
      ]
    },
    {
      "cell_type": "markdown",
      "metadata": {
        "id": "MfKT4gy91QKV"
      },
      "source": [
        "####<font color=red>Organized</font>\n",
        "* Answers should be organized in the following format for organization and readability\n",
        "\n",
        "<br>\n",
        "\n",
        "```\n",
        "# 1.\n",
        "This will be the code block to answer the first part of a task\n",
        "```\n",
        "\n",
        "1. This will be the text answer/explanation (if prompted) for the first task\n",
        "\n",
        "```\n",
        "# 2.\n",
        "This will be the code block to answer the second part of a task in a separate code cell\n",
        "```\n",
        "\n",
        "2. This will be the text answer/explanation (if prompted) for the second task\n",
        "\n",
        "<br>\n",
        "\n",
        "Continue this format for the remaining subtasks\n"
      ]
    },
    {
      "cell_type": "markdown",
      "metadata": {
        "id": "YfKhJv3Q1PBh"
      },
      "source": [
        "<br>\n",
        "\n",
        "---\n",
        "\n",
        "<br>\n",
        "\n",
        "\n",
        "\n",
        "\n"
      ]
    },
    {
      "cell_type": "markdown",
      "source": [
        "####<font color=red>Task 1</font>  (2 points)\n",
        "\n",
        "We are interested in exploring the distribution of standardized math test scores.\n",
        "\n",
        "1. Load the dataset of from this [link](https://raw.githubusercontent.com/khasenst/datasets_teaching/main/StudentsPerformance.csv)\n",
        "\n",
        "2. Plot a histogram of the math scores from the dataset.\n",
        "\n",
        "3. In complete sentences, describe what you observe from the histogram (e.g., Does the distribution appear normal? Is the distribution symmetric or skewed? etc.)"
      ],
      "metadata": {
        "id": "Mv7NhuQMqLUL"
      }
    },
    {
      "cell_type": "markdown",
      "source": [],
      "metadata": {
        "id": "FPB5uM8ikVYB"
      }
    },
    {
      "cell_type": "code",
      "source": [
        "#1\n",
        "data = read.csv(\"https://raw.githubusercontent.com/khasenst/datasets_teaching/main/StudentsPerformance.csv\")"
      ],
      "metadata": {
        "id": "TzBYxiuSi0rF"
      },
      "execution_count": 2,
      "outputs": []
    },
    {
      "cell_type": "code",
      "source": [
        "#2\n",
        "math_scores = data$math.score\n",
        "hist(math_scores)"
      ],
      "metadata": {
        "colab": {
          "base_uri": "https://localhost:8080/",
          "height": 437
        },
        "id": "ej0mCvhmj3dY",
        "outputId": "0c2a83e9-21e9-4e11-c712-d04a4f900278"
      },
      "execution_count": 3,
      "outputs": [
        {
          "output_type": "display_data",
          "data": {
            "text/plain": [
              "Plot with title “Histogram of math_scores”"
            ],
            "image/png": "[encoded data removed]"
          },
          "metadata": {
            "image/png": {
              "width": 420,
              "height": 420
            }
          }
        }
      ]
    },
    {
      "cell_type": "markdown",
      "source": [
        "#3\n",
        "The histogram appears normal in shape but skewed left. if it were symmetrical normal we would expect to see the same frequency on the upper half as the lower half. instead we can see that more studnets scored above average than below. The mean sits at values between 60 and 70 percent whichg is pretty good, with more students scoring between 70 and 100 than 0 to 60."
      ],
      "metadata": {
        "id": "xAZQ_v32kadw"
      }
    },
    {
      "cell_type": "markdown",
      "metadata": {
        "id": "ArZXAN6msbIZ"
      },
      "source": [
        "<br>\n",
        "\n",
        "---\n",
        "\n",
        "<br>\n",
        "\n",
        "\n",
        "\n",
        "\n"
      ]
    },
    {
      "cell_type": "markdown",
      "source": [
        "####<font color=red>Task 2</font>  (4 points)\n",
        "\n",
        "1. By \"hand\" (in R), create a 95% confidence interval for the true population average math score. Note you must use the `qt()` function to find the quantiles of the t-distribution.\n",
        "\n",
        "2. Verify you have the correct answer using the `confint` object from the built-in `t.test()` R function.\n",
        "\n",
        "3. Interpret the confidence interval in complete sentences.\n",
        "\n",
        "4. Based on the confidence interval, is the true population average math score significantly greater than 66 points? Explain your answer in complete sentences."
      ],
      "metadata": {
        "id": "nzxmfHphrrTI"
      }
    },
    {
      "cell_type": "markdown",
      "source": [
        "#1\n"
      ],
      "metadata": {
        "id": "GNGacw5y67Af"
      }
    },
    {
      "cell_type": "code",
      "source": [
        "#1\n",
        "n = length(math_scores)\n",
        "x_bar = mean(math_scores)\n",
        "s = sd(math_scores)\n",
        "t_value = qt(1-.05/2,n-1)\n",
        "upper = x_bar + t_value * (s/sqrt(n))\n",
        "lower = x_bar - t_value * (s/sqrt(n))\n",
        "print('95% confidence interval')\n",
        "print(c(lower,upper))"
      ],
      "metadata": {
        "colab": {
          "base_uri": "https://localhost:8080/"
        },
        "id": "YUvYx8EZw0vB",
        "outputId": "3fbd9b07-32bc-4a5c-df1a-9954d506574c"
      },
      "execution_count": 4,
      "outputs": [
        {
          "output_type": "stream",
          "name": "stdout",
          "text": [
            "[1] \"95% confidence interval\"\n",
            "[1] 65.14806 67.02994\n"
          ]
        }
      ]
    },
    {
      "cell_type": "markdown",
      "source": [
        "#2\n"
      ],
      "metadata": {
        "id": "D9Jo-3Y36_f7"
      }
    },
    {
      "cell_type": "code",
      "source": [
        "# 2\n",
        "t_test = t.test(math_scores)\n",
        "print(t_test$conf.int)"
      ],
      "metadata": {
        "colab": {
          "base_uri": "https://localhost:8080/"
        },
        "id": "p34Wa9DW07Jt",
        "outputId": "8049b477-3e52-4f94-f25c-c85ff2da8d9c"
      },
      "execution_count": 5,
      "outputs": [
        {
          "output_type": "stream",
          "name": "stdout",
          "text": [
            "[1] 65.14806 67.02994\n",
            "attr(,\"conf.level\")\n",
            "[1] 0.95\n"
          ]
        }
      ]
    },
    {
      "cell_type": "markdown",
      "source": [
        "#3\n",
        "we are 95% sure that the true population mean math score is within the interval above.\n"
      ],
      "metadata": {
        "id": "gZe0RVaN6BbK"
      }
    },
    {
      "cell_type": "markdown",
      "source": [
        "#4\n",
        "66% falls within our 95% confidence interval so we are unable to say the true population average math score is significantly greater than 66."
      ],
      "metadata": {
        "id": "FsUYUMqn6AZJ"
      }
    },
    {
      "cell_type": "markdown",
      "metadata": {
        "id": "W0s4Wk4osbd4"
      },
      "source": [
        "<br>\n",
        "\n",
        "---\n",
        "\n",
        "<br>\n",
        "\n",
        "\n",
        "\n",
        "\n"
      ]
    },
    {
      "cell_type": "markdown",
      "source": [
        "####<font color=red>Task 3</font>  (4 points)\n",
        "\n",
        "1. By \"hand\" (in R), create a 90% confidence interval for the true population average math score. Note you must use the `qt()` function to find the quantiles of the t-distribution.\n",
        "\n",
        "2. Verify you have the correct answer the built-in `t.test()` R function (e.g., `t.test(x, conf.level = 0.90)`).\n",
        "\n",
        "3. Interpret the confidence interval in complete sentences.\n",
        "\n",
        "4. Is the confidence interval wider or narrower than the 95% confidence interval from Task 2? Explain in complete sentences."
      ],
      "metadata": {
        "id": "2HIJuUEAxCYJ"
      }
    },
    {
      "cell_type": "code",
      "source": [
        "#1\n",
        "n = length(math_scores)\n",
        "x_bar = mean(math_scores)\n",
        "s = sd(math_scores)\n",
        "t_value = qt(1-.1/2,n-1)\n",
        "upper = x_bar + t_value * (s/sqrt(n))\n",
        "lower = x_bar - t_value * (s/sqrt(n))\n",
        "print('90% confidence interval')\n",
        "print(c(lower,upper))"
      ],
      "metadata": {
        "colab": {
          "base_uri": "https://localhost:8080/"
        },
        "id": "3G6QTC3Q3izi",
        "outputId": "acbd00e7-03f2-42ac-d467-ca5f88901ccd"
      },
      "execution_count": 6,
      "outputs": [
        {
          "output_type": "stream",
          "name": "stdout",
          "text": [
            "[1] \"90% confidence interval\"\n",
            "[1] 65.29956 66.87844\n"
          ]
        }
      ]
    },
    {
      "cell_type": "code",
      "source": [
        "#2\n",
        "t_test = t.test(math_scores,conf.level=.9)\n",
        "print(t_test$conf.int)"
      ],
      "metadata": {
        "colab": {
          "base_uri": "https://localhost:8080/"
        },
        "id": "oYXBeuE35a9t",
        "outputId": "486e4bad-3969-4d4e-e3f9-d210ad5ea2fd"
      },
      "execution_count": 7,
      "outputs": [
        {
          "output_type": "stream",
          "name": "stdout",
          "text": [
            "[1] 65.29956 66.87844\n",
            "attr(,\"conf.level\")\n",
            "[1] 0.9\n"
          ]
        }
      ]
    },
    {
      "cell_type": "markdown",
      "source": [
        "#3"
      ],
      "metadata": {
        "id": "VHGhl3ej7Eur"
      }
    },
    {
      "cell_type": "markdown",
      "source": [
        "we are 90% confident that the true population mean math score is within the interval above"
      ],
      "metadata": {
        "id": "SMZAePAd7C0g"
      }
    },
    {
      "cell_type": "markdown",
      "source": [
        "#4\n"
      ],
      "metadata": {
        "id": "gyRSnf4N7HED"
      }
    },
    {
      "cell_type": "code",
      "source": [
        "t_value_95 = qt(1-.05/2,n-1)\n",
        "t_value_90 = qt(1-.1/2,n-1)\n",
        "\n",
        "upper_95 = x_bar + t_value_95 * (s/sqrt(n))\n",
        "lower_95 = x_bar - t_value_95 * (s/sqrt(n))\n",
        "upper_90 = x_bar + t_value_90 * (s/sqrt(n))\n",
        "lower_90 = x_bar - t_value_90 * (s/sqrt(n))\n",
        "diff95 = upper_95 - lower_95\n",
        "diff90 = upper_90 - lower_90\n",
        "diff95\n",
        "diff90"
      ],
      "metadata": {
        "colab": {
          "base_uri": "https://localhost:8080/",
          "height": 52
        },
        "id": "S18XNvAN7w8w",
        "outputId": "add1c0a3-21a6-4963-8b2a-26b7efe19897"
      },
      "execution_count": 8,
      "outputs": [
        {
          "output_type": "display_data",
          "data": {
            "text/html": [
              "1.8818803374339"
            ],
            "text/markdown": "1.8818803374339",
            "text/latex": "1.8818803374339",
            "text/plain": [
              "[1] 1.88188"
            ]
          },
          "metadata": {}
        },
        {
          "output_type": "display_data",
          "data": {
            "text/html": [
              "1.57887445246564"
            ],
            "text/markdown": "1.57887445246564",
            "text/latex": "1.57887445246564",
            "text/plain": [
              "[1] 1.578874"
            ]
          },
          "metadata": {}
        }
      ]
    },
    {
      "cell_type": "markdown",
      "source": [
        "the 90% confidence interval is smaller than the 95% interval because we are less certain about the true mean. As we increase our confidence level we would expect to get a larger range of values for our true mean."
      ],
      "metadata": {
        "id": "UcLsPfkP7IbN"
      }
    },
    {
      "cell_type": "markdown",
      "metadata": {
        "id": "akJf0KnfxCYY"
      },
      "source": [
        "<br>\n",
        "\n",
        "---\n",
        "\n",
        "<br>\n",
        "\n",
        "\n",
        "\n",
        "\n"
      ]
    },
    {
      "cell_type": "markdown",
      "source": [
        "####<font color=red>Task 4</font>  (5 points)\n",
        "\n",
        "By \"hand\" (in R), perform a t-test to determine if the true population average math score is significantly different from 0.\n",
        "\n",
        "1. What are your null and alternative hypotheses? Answer in a text cell.\n",
        "\n",
        "2. What is your t-statistic?\n",
        "\n",
        "3. What is the p-value associated with this t-test? You must show that you have used the `pt()` function.\n",
        "\n",
        "4. Verify you have the correct answers using the built-in `t.test()` R function.\n",
        "\n",
        "5. Interpret the results of your t-test.\n"
      ],
      "metadata": {
        "id": "ZNHnEA3GsT_j"
      }
    },
    {
      "cell_type": "markdown",
      "source": [
        "#1\n"
      ],
      "metadata": {
        "id": "dHbw0xvr85G3"
      }
    },
    {
      "cell_type": "markdown",
      "source": [
        "$H_{0}: \\mu = 0$ \\\n",
        "$H_{a}: \\mu \\neq 0$\n"
      ],
      "metadata": {
        "id": "VKjeeDsd85J-"
      }
    },
    {
      "cell_type": "code",
      "source": [
        "#2\n",
        "n = length(math_scores)\n",
        "x_bar = mean(math_scores)\n",
        "s = sd(math_scores)\n",
        "t_value = (x_bar - 0) / (s/sqrt(n))\n",
        "t_value"
      ],
      "metadata": {
        "colab": {
          "base_uri": "https://localhost:8080/",
          "height": 34
        },
        "id": "v6vTcWOt9rCk",
        "outputId": "33e3e029-fc02-4fb2-c2f8-dbe96b78d224"
      },
      "execution_count": 19,
      "outputs": [
        {
          "output_type": "display_data",
          "data": {
            "text/html": [
              "137.829363796521"
            ],
            "text/markdown": "137.829363796521",
            "text/latex": "137.829363796521",
            "text/plain": [
              "[1] 137.8294"
            ]
          },
          "metadata": {}
        }
      ]
    },
    {
      "cell_type": "code",
      "source": [
        "#3\n",
        "abs_t_value = abs(t_value)\n",
        "one_tailed = 1 - pt(abs_t_value, df = n-1)\n",
        "p_val = 2 * one_tailed\n",
        "p_val"
      ],
      "metadata": {
        "colab": {
          "base_uri": "https://localhost:8080/",
          "height": 34
        },
        "id": "tKVGml5U-19F",
        "outputId": "90c03351-29b7-4cea-e025-6b0509144d49"
      },
      "execution_count": 20,
      "outputs": [
        {
          "output_type": "display_data",
          "data": {
            "text/html": [
              "0"
            ],
            "text/markdown": "0",
            "text/latex": "0",
            "text/plain": [
              "[1] 0"
            ]
          },
          "metadata": {}
        }
      ]
    },
    {
      "cell_type": "code",
      "source": [
        "#4\n",
        "t_test = t.test(math_scores,conf.level=.95)\n",
        "t_test"
      ],
      "metadata": {
        "colab": {
          "base_uri": "https://localhost:8080/",
          "height": 208
        },
        "id": "ZuuqBhtTxWim",
        "outputId": "82971fd2-fe4a-4412-bb59-a609e3e77b43"
      },
      "execution_count": 21,
      "outputs": [
        {
          "output_type": "display_data",
          "data": {
            "text/plain": [
              "\n",
              "\tOne Sample t-test\n",
              "\n",
              "data:  math_scores\n",
              "t = 137.83, df = 999, p-value < 2.2e-16\n",
              "alternative hypothesis: true mean is not equal to 0\n",
              "95 percent confidence interval:\n",
              " 65.14806 67.02994\n",
              "sample estimates:\n",
              "mean of x \n",
              "   66.089 \n"
            ]
          },
          "metadata": {}
        }
      ]
    },
    {
      "cell_type": "markdown",
      "source": [
        "#5\n",
        "when doing a hypothesis test to see if the mean is significantly different than zero, we obtained a very small p-value and a confidence interval that zero does not fall into. we reject the null that stated the true population mean was not significantly different than zero."
      ],
      "metadata": {
        "id": "qkwC9U7px1YN"
      }
    },
    {
      "cell_type": "markdown",
      "metadata": {
        "id": "0QJeXYRKsb2m"
      },
      "source": [
        "<br>\n",
        "\n",
        "---\n",
        "\n",
        "<br>\n",
        "\n",
        "\n",
        "\n",
        "\n"
      ]
    },
    {
      "cell_type": "markdown",
      "source": [
        "####<font color=red>Task 5</font>  (5 points)\n",
        "\n",
        "By \"hand\" (in R), perform a t-test to determine if the true population average math score is significantly different from ***66***.\n",
        "\n",
        "1. What are your null and alternative hypothesis?\n",
        "\n",
        "2. What is your t-statistic?\n",
        "\n",
        "3. What is the p-value associated with this t-test? You must show that you have used the `pt()` function.\n",
        "\n",
        "4. Verify you have the correct answers using the built-in `t.test()` R function (`t.test(x, mu = 66)`).\n",
        "\n",
        "5. Interpret the results of your t-test in complete sentences.\n"
      ],
      "metadata": {
        "id": "j0MNtkTJtT9I"
      }
    },
    {
      "cell_type": "markdown",
      "source": [
        "#1\n",
        "\n",
        "$H_{0}: \\mu = 66$ \\\n",
        "$H_{a}: \\mu \\neq 66$\n"
      ],
      "metadata": {
        "id": "AAfEbbElya-K"
      }
    },
    {
      "cell_type": "code",
      "source": [
        "#2\n",
        "n = length(math_scores)\n",
        "x_bar = mean(math_scores)\n",
        "s = sd(math_scores)\n",
        "t_value = (x_bar - 66) / (s/sqrt(n))\n",
        "t_value"
      ],
      "metadata": {
        "colab": {
          "base_uri": "https://localhost:8080/",
          "height": 34
        },
        "id": "bFi5v6Xay8mg",
        "outputId": "714034ff-7a81-4308-ce08-9ae40735ab2b"
      },
      "execution_count": 13,
      "outputs": [
        {
          "output_type": "display_data",
          "data": {
            "text/html": [
              "0.185610515787653"
            ],
            "text/markdown": "0.185610515787653",
            "text/latex": "0.185610515787653",
            "text/plain": [
              "[1] 0.1856105"
            ]
          },
          "metadata": {}
        }
      ]
    },
    {
      "cell_type": "code",
      "source": [
        "#3\n",
        "\n",
        "abs_t_value = abs(t_value)\n",
        "one_tailed = 1 - pt(abs_t_value, df = n-1)\n",
        "p_val = 2 * one_tailed\n",
        "p_val"
      ],
      "metadata": {
        "colab": {
          "base_uri": "https://localhost:8080/",
          "height": 34
        },
        "id": "LIpMg7qIzB6u",
        "outputId": "e92f2022-a067-4066-85f5-6539d89b8dd5"
      },
      "execution_count": 18,
      "outputs": [
        {
          "output_type": "display_data",
          "data": {
            "text/html": [
              "0.85278788468988"
            ],
            "text/markdown": "0.85278788468988",
            "text/latex": "0.85278788468988",
            "text/plain": [
              "[1] 0.8527879"
            ]
          },
          "metadata": {}
        }
      ]
    },
    {
      "cell_type": "code",
      "source": [
        "#4\n",
        "t_test = t.test(math_scores,conf.level=.95,mu=66)\n",
        "t_test"
      ],
      "metadata": {
        "colab": {
          "base_uri": "https://localhost:8080/",
          "height": 208
        },
        "id": "8oO5dtvgzECR",
        "outputId": "0a67aa49-3a54-4274-c183-739942c3e143"
      },
      "execution_count": 15,
      "outputs": [
        {
          "output_type": "display_data",
          "data": {
            "text/plain": [
              "\n",
              "\tOne Sample t-test\n",
              "\n",
              "data:  math_scores\n",
              "t = 0.18561, df = 999, p-value = 0.8528\n",
              "alternative hypothesis: true mean is not equal to 66\n",
              "95 percent confidence interval:\n",
              " 65.14806 67.02994\n",
              "sample estimates:\n",
              "mean of x \n",
              "   66.089 \n"
            ]
          },
          "metadata": {}
        }
      ]
    },
    {
      "cell_type": "markdown",
      "source": [
        "#5\n",
        "when we ran a hypothesis test to see if the true population mean was significantly different than 66, we obtained a large p-value and a confidence interval that 66 falls into. that means we can fail to reject the null hypothesis."
      ],
      "metadata": {
        "id": "I_ExMIXf0LzI"
      }
    },
    {
      "cell_type": "markdown",
      "metadata": {
        "id": "RlUwzSLmtT9c"
      },
      "source": [
        "<br>\n",
        "\n",
        "---\n",
        "\n",
        "<br>\n",
        "\n",
        "\n",
        "\n",
        "\n"
      ]
    },
    {
      "cell_type": "markdown",
      "source": [
        "#### **More Practice (optional but useful)**\n",
        "\n",
        "By \"hand\" (in R), perform a t-test to determine if the true population average math score is significantly different the true population average reading score.\n",
        "\n",
        "1. Subtract reading score from math score and store as another variable called `diff`. We need to test of the mean of the difference is different from 0.\n",
        "\n",
        "2. What are your null and alternative hypotheses? Answer in a text cell.\n",
        "\n",
        "3. What is your t-statistic?\n",
        "\n",
        "4. What is the p-value associated with this t-test? You must show that you have used the `pt()` function.\n",
        "\n",
        "5. Verify you have the correct answers using the built-in `t.test()` R function.\n",
        "\n",
        "6. Interpret the results of your t-test.\n"
      ],
      "metadata": {
        "id": "4l52jzKEtpSe"
      }
    },
    {
      "cell_type": "markdown",
      "metadata": {
        "id": "inHtKy0qtpSr"
      },
      "source": [
        "<br>\n",
        "\n",
        "---\n",
        "\n",
        "<br>\n",
        "\n",
        "\n",
        "\n",
        "\n"
      ]
    }
  ]
}
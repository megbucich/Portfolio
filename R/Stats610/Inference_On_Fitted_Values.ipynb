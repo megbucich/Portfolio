{
  "nbformat": 4,
  "nbformat_minor": 0,
  "metadata": {
    "colab": {
      "provenance": []
    },
    "kernelspec": {
      "name": "ir",
      "display_name": "R"
    }
  },
  "cells": [
    {
      "cell_type": "markdown",
      "metadata": {
        "id": "gtETsh5j8vHw"
      },
      "source": [
        "# **Class Assignment: Inference on Fitted Values (20 points)**\n",
        "\n",
        "#### **Meg Bucich**\n"
      ]
    },
    {
      "cell_type": "markdown",
      "metadata": {
        "id": "en9tcPcGuFyc"
      },
      "source": [
        "---\n",
        "**Instructions**: Complete the in-class assignment below.\n",
        "- <font color=red>Tasks</font> indicated in red must be completed to receive credit\n",
        "- Include all code for your work\n",
        "- Include markdown cells with written answers explaining your work when prompted\n",
        "- Your completed assignment must be submitted to Canvas as a .ipynb file by the deadline listed on Canvas\n",
        "---"
      ]
    },
    {
      "cell_type": "markdown",
      "metadata": {
        "id": "c7sADPiGJvIe"
      },
      "source": [
        "<br>"
      ]
    },
    {
      "cell_type": "markdown",
      "metadata": {
        "id": "MfKT4gy91QKV"
      },
      "source": [
        "####<font color=red>Organized</font>\n",
        "* Answers should be organized in the following format for organization and readability\n",
        "\n",
        "<br>\n",
        "\n",
        "```\n",
        "# 1.\n",
        "This will be the code block to answer the first part of a task\n",
        "```\n",
        "\n",
        "1. This will be the text answer/explanation (if prompted) for the first task\n",
        "\n",
        "```\n",
        "# 2.\n",
        "This will be the code block to answer the second part of a task in a separate code cell\n",
        "```\n",
        "\n",
        "2. This will be the text answer/explanation (if prompted) for the second task\n",
        "\n",
        "<br>\n",
        "\n",
        "Continue this format for the remaining subtasks\n"
      ]
    },
    {
      "cell_type": "markdown",
      "metadata": {
        "id": "oJRIVPYCWsrV"
      },
      "source": [
        "<br>\n",
        "\n",
        "---\n",
        "\n",
        "<br>\n",
        "\n",
        "\n",
        "\n",
        "\n"
      ]
    },
    {
      "cell_type": "markdown",
      "source": [
        "####<font color=red>Task 1</font>\n",
        "\n",
        "The goal of this assignment is to code all aspects of parameter inference related to fitted values for simple linear regression by hand (in R).\n",
        "\n",
        "1. We will be working with a dataset `mtcars` already loaded into R's workspace. `mtcars` contains data on the attributes of several vehicles.  Run the following command to view the `mtcars` dataset\n",
        "\n",
        "    `head(mtcars)`\n",
        "\n",
        "2. We are interested in investigating the relationship between engine displace `disp` (i.e. volume of air displaced by pistons [cubic inches]) and vehicle horse power `hp`.\n",
        "\n",
        "  * Plot a scatterplot with `hp` on the y-axis and `disp` on the x-axis. Does there appear to be a relationship between `disp` and `hp`? Explain your observations in complete sentences."
      ],
      "metadata": {
        "id": "AZ4bgrGz28TA"
      }
    },
    {
      "cell_type": "code",
      "source": [
        "#1\n",
        "head(mtcars)"
      ],
      "metadata": {
        "colab": {
          "base_uri": "https://localhost:8080/",
          "height": 286
        },
        "id": "SvS9CHV1P1T6",
        "outputId": "cf17ff7e-ea7c-415e-d577-2c0f895551b0"
      },
      "execution_count": 1,
      "outputs": [
        {
          "output_type": "display_data",
          "data": {
            "text/html": [
              "<table class=\"dataframe\">\n",
              "<caption>A data.frame: 6 × 11</caption>\n",
              "<thead>\n",
              "\t<tr><th></th><th scope=col>mpg</th><th scope=col>cyl</th><th scope=col>disp</th><th scope=col>hp</th><th scope=col>drat</th><th scope=col>wt</th><th scope=col>qsec</th><th scope=col>vs</th><th scope=col>am</th><th scope=col>gear</th><th scope=col>carb</th></tr>\n",
              "\t<tr><th></th><th scope=col>&lt;dbl&gt;</th><th scope=col>&lt;dbl&gt;</th><th scope=col>&lt;dbl&gt;</th><th scope=col>&lt;dbl&gt;</th><th scope=col>&lt;dbl&gt;</th><th scope=col>&lt;dbl&gt;</th><th scope=col>&lt;dbl&gt;</th><th scope=col>&lt;dbl&gt;</th><th scope=col>&lt;dbl&gt;</th><th scope=col>&lt;dbl&gt;</th><th scope=col>&lt;dbl&gt;</th></tr>\n",
              "</thead>\n",
              "<tbody>\n",
              "\t<tr><th scope=row>Mazda RX4</th><td>21.0</td><td>6</td><td>160</td><td>110</td><td>3.90</td><td>2.620</td><td>16.46</td><td>0</td><td>1</td><td>4</td><td>4</td></tr>\n",
              "\t<tr><th scope=row>Mazda RX4 Wag</th><td>21.0</td><td>6</td><td>160</td><td>110</td><td>3.90</td><td>2.875</td><td>17.02</td><td>0</td><td>1</td><td>4</td><td>4</td></tr>\n",
              "\t<tr><th scope=row>Datsun 710</th><td>22.8</td><td>4</td><td>108</td><td> 93</td><td>3.85</td><td>2.320</td><td>18.61</td><td>1</td><td>1</td><td>4</td><td>1</td></tr>\n",
              "\t<tr><th scope=row>Hornet 4 Drive</th><td>21.4</td><td>6</td><td>258</td><td>110</td><td>3.08</td><td>3.215</td><td>19.44</td><td>1</td><td>0</td><td>3</td><td>1</td></tr>\n",
              "\t<tr><th scope=row>Hornet Sportabout</th><td>18.7</td><td>8</td><td>360</td><td>175</td><td>3.15</td><td>3.440</td><td>17.02</td><td>0</td><td>0</td><td>3</td><td>2</td></tr>\n",
              "\t<tr><th scope=row>Valiant</th><td>18.1</td><td>6</td><td>225</td><td>105</td><td>2.76</td><td>3.460</td><td>20.22</td><td>1</td><td>0</td><td>3</td><td>1</td></tr>\n",
              "</tbody>\n",
              "</table>\n"
            ],
            "text/markdown": "\nA data.frame: 6 × 11\n\n| <!--/--> | mpg &lt;dbl&gt; | cyl &lt;dbl&gt; | disp &lt;dbl&gt; | hp &lt;dbl&gt; | drat &lt;dbl&gt; | wt &lt;dbl&gt; | qsec &lt;dbl&gt; | vs &lt;dbl&gt; | am &lt;dbl&gt; | gear &lt;dbl&gt; | carb &lt;dbl&gt; |\n|---|---|---|---|---|---|---|---|---|---|---|---|\n| Mazda RX4 | 21.0 | 6 | 160 | 110 | 3.90 | 2.620 | 16.46 | 0 | 1 | 4 | 4 |\n| Mazda RX4 Wag | 21.0 | 6 | 160 | 110 | 3.90 | 2.875 | 17.02 | 0 | 1 | 4 | 4 |\n| Datsun 710 | 22.8 | 4 | 108 |  93 | 3.85 | 2.320 | 18.61 | 1 | 1 | 4 | 1 |\n| Hornet 4 Drive | 21.4 | 6 | 258 | 110 | 3.08 | 3.215 | 19.44 | 1 | 0 | 3 | 1 |\n| Hornet Sportabout | 18.7 | 8 | 360 | 175 | 3.15 | 3.440 | 17.02 | 0 | 0 | 3 | 2 |\n| Valiant | 18.1 | 6 | 225 | 105 | 2.76 | 3.460 | 20.22 | 1 | 0 | 3 | 1 |\n\n",
            "text/latex": "A data.frame: 6 × 11\n\\begin{tabular}{r|lllllllllll}\n  & mpg & cyl & disp & hp & drat & wt & qsec & vs & am & gear & carb\\\\\n  & <dbl> & <dbl> & <dbl> & <dbl> & <dbl> & <dbl> & <dbl> & <dbl> & <dbl> & <dbl> & <dbl>\\\\\n\\hline\n\tMazda RX4 & 21.0 & 6 & 160 & 110 & 3.90 & 2.620 & 16.46 & 0 & 1 & 4 & 4\\\\\n\tMazda RX4 Wag & 21.0 & 6 & 160 & 110 & 3.90 & 2.875 & 17.02 & 0 & 1 & 4 & 4\\\\\n\tDatsun 710 & 22.8 & 4 & 108 &  93 & 3.85 & 2.320 & 18.61 & 1 & 1 & 4 & 1\\\\\n\tHornet 4 Drive & 21.4 & 6 & 258 & 110 & 3.08 & 3.215 & 19.44 & 1 & 0 & 3 & 1\\\\\n\tHornet Sportabout & 18.7 & 8 & 360 & 175 & 3.15 & 3.440 & 17.02 & 0 & 0 & 3 & 2\\\\\n\tValiant & 18.1 & 6 & 225 & 105 & 2.76 & 3.460 & 20.22 & 1 & 0 & 3 & 1\\\\\n\\end{tabular}\n",
            "text/plain": [
              "                  mpg  cyl disp hp  drat wt    qsec  vs am gear carb\n",
              "Mazda RX4         21.0 6   160  110 3.90 2.620 16.46 0  1  4    4   \n",
              "Mazda RX4 Wag     21.0 6   160  110 3.90 2.875 17.02 0  1  4    4   \n",
              "Datsun 710        22.8 4   108   93 3.85 2.320 18.61 1  1  4    1   \n",
              "Hornet 4 Drive    21.4 6   258  110 3.08 3.215 19.44 1  0  3    1   \n",
              "Hornet Sportabout 18.7 8   360  175 3.15 3.440 17.02 0  0  3    2   \n",
              "Valiant           18.1 6   225  105 2.76 3.460 20.22 1  0  3    1   "
            ]
          },
          "metadata": {}
        }
      ]
    },
    {
      "cell_type": "code",
      "source": [
        "#2\n",
        "disp = mtcars$disp # x value\n",
        "hp = mtcars$hp # y value\n",
        "plot(disp,hp)"
      ],
      "metadata": {
        "colab": {
          "base_uri": "https://localhost:8080/",
          "height": 437
        },
        "id": "uhHict-iP16U",
        "outputId": "b0a17604-2d27-463e-cb99-44197a7fe714"
      },
      "execution_count": 2,
      "outputs": [
        {
          "output_type": "display_data",
          "data": {
            "text/plain": [
              "plot without title"
            ],
            "image/png": "[encoded data removed]"
          },
          "metadata": {
            "image/png": {
              "width": 420,
              "height": 420
            }
          }
        }
      ]
    },
    {
      "cell_type": "markdown",
      "source": [
        "Yes, there does appear to be a positive linear relationship between horsepower and volume of air displaced by pistons. Some of the data points cluster for small values of x and y, but otherwise there is a positive trend happening overall in the data."
      ],
      "metadata": {
        "id": "qWkQS5aeQUcN"
      }
    },
    {
      "cell_type": "markdown",
      "metadata": {
        "id": "8YPSX1qZ2-jU"
      },
      "source": [
        "<br>\n",
        "\n",
        "---\n",
        "\n",
        "<br>\n",
        "\n",
        "\n",
        "\n",
        "\n"
      ]
    },
    {
      "cell_type": "markdown",
      "source": [
        "####<font color=red>Task 2 - Quick Regression Analysis using Built-in Functions</font>\n",
        "\n",
        "1. Regress `hp` (y-variable) on `disp` (x-variable) using `lm()` and store as `fit`. Show the regression `summary()`.\n",
        "\n",
        "2. Using the `confint()` function, what is the 95% confidence interval for the slope? What is the interpretation of this 95% confidence interval?\n",
        "\n",
        "3. Based on the regression summary, we would like to test if the slope is significantly different from zero.\n",
        "  *   What are your null and alternative hypotheses?\n",
        "  *   What is the p-value associated with this test?\n",
        "\n",
        "4. Based on the regression summary, is engine displacement significantly correlated with horsepower at the 5% type I error level? Why/Why not? Justify your answer in complete sentences using your understanding.\n",
        "\n",
        "5. What is the interpretation of the slope and your final conclusion?"
      ],
      "metadata": {
        "id": "rOR0CCeq5Nf-"
      }
    },
    {
      "cell_type": "code",
      "source": [
        "#1\n",
        "fit = lm(hp ~ disp,data = mtcars)\n",
        "summary(fit)"
      ],
      "metadata": {
        "colab": {
          "base_uri": "https://localhost:8080/",
          "height": 329
        },
        "id": "Z6Uv_0FuQsdF",
        "outputId": "7aa906d7-668b-4ed3-be23-71cf0aa6d647"
      },
      "execution_count": 3,
      "outputs": [
        {
          "output_type": "display_data",
          "data": {
            "text/plain": [
              "\n",
              "Call:\n",
              "lm(formula = hp ~ disp, data = mtcars)\n",
              "\n",
              "Residuals:\n",
              "    Min      1Q  Median      3Q     Max \n",
              "-48.623 -28.378  -6.558  13.588 157.562 \n",
              "\n",
              "Coefficients:\n",
              "            Estimate Std. Error t value Pr(>|t|)    \n",
              "(Intercept)  45.7345    16.1289   2.836  0.00811 ** \n",
              "disp          0.4375     0.0618   7.080 7.14e-08 ***\n",
              "---\n",
              "Signif. codes:  0 ‘***’ 0.001 ‘**’ 0.01 ‘*’ 0.05 ‘.’ 0.1 ‘ ’ 1\n",
              "\n",
              "Residual standard error: 42.65 on 30 degrees of freedom\n",
              "Multiple R-squared:  0.6256,\tAdjusted R-squared:  0.6131 \n",
              "F-statistic: 50.13 on 1 and 30 DF,  p-value: 7.143e-08\n"
            ]
          },
          "metadata": {}
        }
      ]
    },
    {
      "cell_type": "code",
      "source": [
        "#2\n",
        "confint(fit)"
      ],
      "metadata": {
        "colab": {
          "base_uri": "https://localhost:8080/",
          "height": 129
        },
        "id": "I4iW-QzXQsi8",
        "outputId": "8178fdb5-33e0-4ee0-b9af-1f01535b5b68"
      },
      "execution_count": 4,
      "outputs": [
        {
          "output_type": "display_data",
          "data": {
            "text/html": [
              "<table class=\"dataframe\">\n",
              "<caption>A matrix: 2 × 2 of type dbl</caption>\n",
              "<thead>\n",
              "\t<tr><th></th><th scope=col>2.5 %</th><th scope=col>97.5 %</th></tr>\n",
              "</thead>\n",
              "<tbody>\n",
              "\t<tr><th scope=row>(Intercept)</th><td>12.7948521</td><td>78.6742124</td></tr>\n",
              "\t<tr><th scope=row>disp</th><td> 0.3113399</td><td> 0.5637654</td></tr>\n",
              "</tbody>\n",
              "</table>\n"
            ],
            "text/markdown": "\nA matrix: 2 × 2 of type dbl\n\n| <!--/--> | 2.5 % | 97.5 % |\n|---|---|---|\n| (Intercept) | 12.7948521 | 78.6742124 |\n| disp |  0.3113399 |  0.5637654 |\n\n",
            "text/latex": "A matrix: 2 × 2 of type dbl\n\\begin{tabular}{r|ll}\n  & 2.5 \\% & 97.5 \\%\\\\\n\\hline\n\t(Intercept) & 12.7948521 & 78.6742124\\\\\n\tdisp &  0.3113399 &  0.5637654\\\\\n\\end{tabular}\n",
            "text/plain": [
              "            2.5 %      97.5 %    \n",
              "(Intercept) 12.7948521 78.6742124\n",
              "disp         0.3113399  0.5637654"
            ]
          },
          "metadata": {}
        }
      ]
    },
    {
      "cell_type": "markdown",
      "source": [
        "There is a 95% chance that the true population slope that regresses horsepower to volume of air displaced by pistons is between (.3113399,.5637654)"
      ],
      "metadata": {
        "id": "EUdJ2cx8RqKk"
      }
    },
    {
      "cell_type": "code",
      "source": [
        "#3"
      ],
      "metadata": {
        "id": "ID2GfVyOQspP"
      },
      "execution_count": null,
      "outputs": []
    },
    {
      "cell_type": "markdown",
      "source": [
        "Based on the regression summary, we would like to test if the slope is significantly different from zero.\n",
        "\n",
        "\n",
        "*  What are your null/alternative hypotheses\n",
        "*  What is your p value\n"
      ],
      "metadata": {
        "id": "WBO4eswFdWpu"
      }
    },
    {
      "cell_type": "markdown",
      "source": [
        "$H_{0}: \\mu = 0$\\\n",
        "$H_{a}: \\mu \\neq 0$\\\n",
        "p = 7.143e-08"
      ],
      "metadata": {
        "id": "tHNrztmMSDBb"
      }
    },
    {
      "cell_type": "code",
      "source": [
        "#4"
      ],
      "metadata": {
        "id": "ow9FNYDaQsv2"
      },
      "execution_count": null,
      "outputs": []
    },
    {
      "cell_type": "markdown",
      "source": [
        "Because our p-value is very small and close to zero, the engine displacement is significantly correlated with horsepower at the 5% type 1 error level."
      ],
      "metadata": {
        "id": "uJ-Nrt9prA-v"
      }
    },
    {
      "cell_type": "code",
      "source": [
        "#5"
      ],
      "metadata": {
        "id": "98Iy4yKLQs1j"
      },
      "execution_count": null,
      "outputs": []
    },
    {
      "cell_type": "markdown",
      "source": [
        "Our intercept means that when engine displacement is 0, we have 45.7345 horsepower. The slope means for a unit increase in engine displacement, we get an additional .4375 horsepower."
      ],
      "metadata": {
        "id": "P9IAvjfGrSLZ"
      }
    },
    {
      "cell_type": "markdown",
      "metadata": {
        "id": "V7hCHbOc-x5M"
      },
      "source": [
        "<br>\n",
        "\n",
        "---\n",
        "\n",
        "<br>\n",
        "\n",
        "\n",
        "\n",
        "\n"
      ]
    },
    {
      "cell_type": "markdown",
      "source": [
        "####<font color=red>Task 3 - Confidence Intervals and Prediction Intervals</font>\n",
        "\n",
        "1. Extract both the intercept and slope values from the regression from Task 2 using the code below. Confirm that you have extracted the appropriate values.\n",
        "```\n",
        "beta0hat <- fit$coefficients[1]\n",
        "beta1hat <- fit$coefficients[2]\n",
        "```\n",
        "\n",
        "2. Extract the estimate for the residual standard error and store as `s` using the code below.\n",
        "```\n",
        "s <- summary(fit)$sigma\n",
        "```\n",
        "\n",
        "\n",
        "3. We are interested in conducting inference on horsepowers of engines with a displacement of 200 in$^3$. Use the stored coefficients to compute the fitted value at this displacement (i.e. What is $\\hat{Y} | X = 200$)?\n",
        "  \n",
        "  Store as `yhat` [Hint: Should be $\\approx 133.2$].\n",
        "  \n",
        "4. Calculate the 95% confidence interval for `yhat` at $X = 200$ by hand (in R). You will need $\\widehat{Var(\\hat{Y})}$.\n",
        "\n",
        "  Verify your answer using the following code:\n",
        "```\n",
        "pred_dat <- data.frame(disp = 200)\n",
        "predict(fit, newdata = pred_dat,\n",
        "        level = 0.95,\n",
        "        interval = 'confidence')\n",
        "```\n",
        "\n",
        "  What is the interpretation of this confidence interval?\n",
        "\n",
        "5. Calcluate the 95% prediction interval for a new observation at $X = 200$. Verify your answer using the following code:\n",
        "```\n",
        "pred_dat <- data.frame(disp = 200)\n",
        "predict(fit, newdata = pred_dat,\n",
        "        level = 0.95,\n",
        "        interval = 'predict')\n",
        "```\n",
        "\n",
        "  What is the interpretation of this prediction interval?"
      ],
      "metadata": {
        "id": "d2AObbtZf4Yd"
      }
    },
    {
      "cell_type": "code",
      "source": [
        "#1\n",
        "beta0hat <- fit$coefficients[1]\n",
        "beta1hat <- fit$coefficients[2]\n",
        "beta0hat\n",
        "beta1hat"
      ],
      "metadata": {
        "colab": {
          "base_uri": "https://localhost:8080/",
          "height": 52
        },
        "id": "tqvMSw44Uj_G",
        "outputId": "60458dfd-05d5-4429-94e2-5d13041275a6"
      },
      "execution_count": 6,
      "outputs": [
        {
          "output_type": "display_data",
          "data": {
            "text/html": [
              "<strong>(Intercept):</strong> 45.7345322075373"
            ],
            "text/markdown": "**(Intercept):** 45.7345322075373",
            "text/latex": "\\textbf{(Intercept):} 45.7345322075373",
            "text/plain": [
              "(Intercept) \n",
              "   45.73453 "
            ]
          },
          "metadata": {}
        },
        {
          "output_type": "display_data",
          "data": {
            "text/html": [
              "<strong>disp:</strong> 0.437552649884033"
            ],
            "text/markdown": "**disp:** 0.437552649884033",
            "text/latex": "\\textbf{disp:} 0.437552649884033",
            "text/plain": [
              "     disp \n",
              "0.4375526 "
            ]
          },
          "metadata": {}
        }
      ]
    },
    {
      "cell_type": "code",
      "source": [
        "#2\n",
        "s = summary(fit)$sigma\n",
        "s"
      ],
      "metadata": {
        "colab": {
          "base_uri": "https://localhost:8080/",
          "height": 34
        },
        "id": "qU1NO19EUkDk",
        "outputId": "5dfc8403-7608-4e31-9b49-f64d152e07a8"
      },
      "execution_count": 7,
      "outputs": [
        {
          "output_type": "display_data",
          "data": {
            "text/html": [
              "42.6459027464988"
            ],
            "text/markdown": "42.6459027464988",
            "text/latex": "42.6459027464988",
            "text/plain": [
              "[1] 42.6459"
            ]
          },
          "metadata": {}
        }
      ]
    },
    {
      "cell_type": "code",
      "source": [
        "#3\n",
        "x_h = 200\n",
        "yhat = beta0hat + beta1hat*x_h\n",
        "yhat"
      ],
      "metadata": {
        "colab": {
          "base_uri": "https://localhost:8080/",
          "height": 34
        },
        "id": "SLjg8btfUkH_",
        "outputId": "408c110a-5da7-4fd7-d6ae-1fa9fe66c9f8"
      },
      "execution_count": 8,
      "outputs": [
        {
          "output_type": "display_data",
          "data": {
            "text/html": [
              "<strong>(Intercept):</strong> 133.245062184344"
            ],
            "text/markdown": "**(Intercept):** 133.245062184344",
            "text/latex": "\\textbf{(Intercept):} 133.245062184344",
            "text/plain": [
              "(Intercept) \n",
              "   133.2451 "
            ]
          },
          "metadata": {}
        }
      ]
    },
    {
      "cell_type": "code",
      "source": [
        "#4"
      ],
      "metadata": {
        "id": "ZUwtHc4GUkLr"
      },
      "execution_count": null,
      "outputs": []
    },
    {
      "cell_type": "markdown",
      "source": [
        "Calculate the 95% confidence interval for yhat at  X=200  by hand (in R). You will need  Var(Y)"
      ],
      "metadata": {
        "id": "PEIZbDudiKh0"
      }
    },
    {
      "cell_type": "markdown",
      "source": [
        "Confidence Interval:\n",
        "$\\hat{y} \\pm t_{(1-\\frac{\\alpha}{2},n-2)}se(\\hat{y})$"
      ],
      "metadata": {
        "id": "qGH2EU7RkSnW"
      }
    },
    {
      "cell_type": "code",
      "source": [
        "n = nrow(mtcars)\n",
        "var = (s**2)*((1/n)+((200-mean(disp))**2)/(sum((disp-mean(disp))**2)))\n",
        "se = sqrt(var)\n",
        "alpha = 0.05\n",
        "degrees_freedom = nrow(mtcars) - 2\n",
        "critical_value = qt(1 - alpha/2, degrees_freedom)\n",
        "lower = yhat - critical_value * se\n",
        "upper = yhat + critical_value * se\n",
        "print(c(lower,upper))\n",
        "se"
      ],
      "metadata": {
        "colab": {
          "base_uri": "https://localhost:8080/",
          "height": 69
        },
        "id": "22sS8uT9iLMH",
        "outputId": "4c01ce93-a147-46f8-99a1-6b41a1ab85ca"
      },
      "execution_count": 26,
      "outputs": [
        {
          "output_type": "stream",
          "name": "stdout",
          "text": [
            "(Intercept) (Intercept) \n",
            "   117.3680    149.1221 \n"
          ]
        },
        {
          "output_type": "display_data",
          "data": {
            "text/html": [
              "7.77420586364312"
            ],
            "text/markdown": "7.77420586364312",
            "text/latex": "7.77420586364312",
            "text/plain": [
              "[1] 7.774206"
            ]
          },
          "metadata": {}
        }
      ]
    },
    {
      "cell_type": "code",
      "source": [
        "#confirm values\n",
        "pred_dat <- data.frame(disp = 200)\n",
        "predict(fit, newdata = pred_dat,\n",
        "        level = 0.95,\n",
        "        interval = 'confidence')"
      ],
      "metadata": {
        "colab": {
          "base_uri": "https://localhost:8080/",
          "height": 98
        },
        "id": "oS2F7za8hoTt",
        "outputId": "261b7868-7924-454c-bd65-efad63739db2"
      },
      "execution_count": 22,
      "outputs": [
        {
          "output_type": "display_data",
          "data": {
            "text/html": [
              "<table class=\"dataframe\">\n",
              "<caption>A matrix: 1 × 3 of type dbl</caption>\n",
              "<thead>\n",
              "\t<tr><th></th><th scope=col>fit</th><th scope=col>lwr</th><th scope=col>upr</th></tr>\n",
              "</thead>\n",
              "<tbody>\n",
              "\t<tr><th scope=row>1</th><td>133.2451</td><td>117.368</td><td>149.1221</td></tr>\n",
              "</tbody>\n",
              "</table>\n"
            ],
            "text/markdown": "\nA matrix: 1 × 3 of type dbl\n\n| <!--/--> | fit | lwr | upr |\n|---|---|---|---|\n| 1 | 133.2451 | 117.368 | 149.1221 |\n\n",
            "text/latex": "A matrix: 1 × 3 of type dbl\n\\begin{tabular}{r|lll}\n  & fit & lwr & upr\\\\\n\\hline\n\t1 & 133.2451 & 117.368 & 149.1221\\\\\n\\end{tabular}\n",
            "text/plain": [
              "  fit      lwr     upr     \n",
              "1 133.2451 117.368 149.1221"
            ]
          },
          "metadata": {}
        }
      ]
    },
    {
      "cell_type": "markdown",
      "source": [
        "There is a 95% chance that the true value of $E(Y_{h} \\mid X_{h} = 200)$ is within (117.3680,149.1221)"
      ],
      "metadata": {
        "id": "WXCFY9wetp00"
      }
    },
    {
      "cell_type": "code",
      "source": [
        "#5"
      ],
      "metadata": {
        "id": "gSZNzUO4UkPB"
      },
      "execution_count": null,
      "outputs": []
    },
    {
      "cell_type": "markdown",
      "source": [
        "Calcluate the 95% prediction interval for a new observation at  X=200 . Verify your answer using the following code:"
      ],
      "metadata": {
        "id": "zRNmk0m4iR-u"
      }
    },
    {
      "cell_type": "markdown",
      "source": [
        "Prediction Interval\n",
        "$\\hat{y} \\pm t_{(1-\\frac{\\alpha}{2},n-2)} \\sqrt{s^{2}(1+\\frac{1}{n}+\\frac{(X_{h}-\\bar{X})^{2}}{\\Sigma(X_{i}-\\bar{X})^{2}})}$"
      ],
      "metadata": {
        "id": "Z58gzaEjikrp"
      }
    },
    {
      "cell_type": "code",
      "source": [
        "n = nrow(mtcars)\n",
        "var = (s**2)*(1+(1/n)+((200-mean(disp))**2)/(sum((disp-mean(disp))**2)))\n",
        "se = sqrt(var)\n",
        "alpha = 0.05\n",
        "degrees_freedom = nrow(mtcars) - 2\n",
        "critical_value = qt(1 - alpha/2, degrees_freedom)\n",
        "lower = yhat - critical_value * se\n",
        "upper = yhat + critical_value * se\n",
        "print(c(lower,upper))"
      ],
      "metadata": {
        "colab": {
          "base_uri": "https://localhost:8080/"
        },
        "id": "v1gOy_B1iiso",
        "outputId": "2cdbb0a4-ff7e-4121-cdd8-1c27c1b00046"
      },
      "execution_count": 24,
      "outputs": [
        {
          "output_type": "stream",
          "name": "stdout",
          "text": [
            "(Intercept) (Intercept) \n",
            "   44.71517   221.77495 \n"
          ]
        }
      ]
    },
    {
      "cell_type": "code",
      "source": [
        "#confirm values\n",
        "pred_dat <- data.frame(disp = 200)\n",
        "predict(fit, newdata = pred_dat,\n",
        "        level = 0.95,\n",
        "        interval = 'predict')"
      ],
      "metadata": {
        "colab": {
          "base_uri": "https://localhost:8080/",
          "height": 98
        },
        "id": "-7VbZicNhsFm",
        "outputId": "ca8bb243-209c-4328-dbcf-0e9a95308aef"
      },
      "execution_count": 25,
      "outputs": [
        {
          "output_type": "display_data",
          "data": {
            "text/html": [
              "<table class=\"dataframe\">\n",
              "<caption>A matrix: 1 × 3 of type dbl</caption>\n",
              "<thead>\n",
              "\t<tr><th></th><th scope=col>fit</th><th scope=col>lwr</th><th scope=col>upr</th></tr>\n",
              "</thead>\n",
              "<tbody>\n",
              "\t<tr><th scope=row>1</th><td>133.2451</td><td>44.71517</td><td>221.775</td></tr>\n",
              "</tbody>\n",
              "</table>\n"
            ],
            "text/markdown": "\nA matrix: 1 × 3 of type dbl\n\n| <!--/--> | fit | lwr | upr |\n|---|---|---|---|\n| 1 | 133.2451 | 44.71517 | 221.775 |\n\n",
            "text/latex": "A matrix: 1 × 3 of type dbl\n\\begin{tabular}{r|lll}\n  & fit & lwr & upr\\\\\n\\hline\n\t1 & 133.2451 & 44.71517 & 221.775\\\\\n\\end{tabular}\n",
            "text/plain": [
              "  fit      lwr      upr    \n",
              "1 133.2451 44.71517 221.775"
            ]
          },
          "metadata": {}
        }
      ]
    },
    {
      "cell_type": "markdown",
      "source": [
        "There is a 95% chance that a new observation of $X_{h}=200$ has an average value of is within (117.3680,149.1221)"
      ],
      "metadata": {
        "id": "uebt52asuZy2"
      }
    },
    {
      "cell_type": "markdown",
      "metadata": {
        "id": "rU5kNKo2f6UZ"
      },
      "source": [
        "<br>\n",
        "\n",
        "---\n",
        "\n",
        "<br>\n",
        "\n",
        "\n",
        "\n",
        "\n"
      ]
    },
    {
      "cell_type": "markdown",
      "source": [
        "####<font color=red>Task 4 - T-tests</font>\n",
        "\n",
        "We are interested in conducting inference on horsepowers of engines with a displacement of 200 in$^3$. We hypothesize that the average horsepower corresponding to a displacement of 200 is significantly different than 110 hp.\n",
        "\n",
        "1. What are your null and alternative hypotheses for this test?\n",
        "  \n",
        "2. Calculate the t-value for this test by hand (in R). [Answer: 2.99]\n",
        "\n",
        "3. Calculate the p-value for this test by hand (in R). [Answer: 0.005]\n",
        "\n",
        "4. What is your conclusion. Explain in complete sentences."
      ],
      "metadata": {
        "id": "S16_tgYstYmJ"
      }
    },
    {
      "cell_type": "code",
      "source": [
        "#1"
      ],
      "metadata": {
        "id": "8wUCpdUXUnif"
      },
      "execution_count": null,
      "outputs": []
    },
    {
      "cell_type": "markdown",
      "source": [
        "$H_{0}: E(Y_{h} \\mid X_{h} = 200) = 110 $\\\n",
        "$H_{a}: E(Y_{h} \\mid X_{h} = 200) \\neq 110 $"
      ],
      "metadata": {
        "id": "fFO41oNjUvJ5"
      }
    },
    {
      "cell_type": "code",
      "source": [
        "#2\n",
        "n = nrow(mtcars)\n",
        "var = (s**2)*((1/n)+((200-mean(disp))**2)/(sum((disp-mean(disp))**2)))\n",
        "se = sqrt(var)\n",
        "t_stat = (yhat - 110)/ se\n",
        "t_stat"
      ],
      "metadata": {
        "colab": {
          "base_uri": "https://localhost:8080/",
          "height": 34
        },
        "id": "V1pAqreMUnmR",
        "outputId": "7f719bb4-1712-4133-cc42-70b099996906"
      },
      "execution_count": 34,
      "outputs": [
        {
          "output_type": "display_data",
          "data": {
            "text/html": [
              "<strong>(Intercept):</strong> 2.99002400914696"
            ],
            "text/markdown": "**(Intercept):** 2.99002400914696",
            "text/latex": "\\textbf{(Intercept):} 2.99002400914696",
            "text/plain": [
              "(Intercept) \n",
              "   2.990024 "
            ]
          },
          "metadata": {}
        }
      ]
    },
    {
      "cell_type": "code",
      "source": [
        "#3\n",
        "p_value = 2 * pt(abs(t_stat), degrees_freedom, lower.tail = FALSE)\n",
        "print(p_value)"
      ],
      "metadata": {
        "colab": {
          "base_uri": "https://localhost:8080/"
        },
        "id": "Cx9iu085Unp0",
        "outputId": "7ab2b756-c4e0-455f-f471-123b8e9e78d3"
      },
      "execution_count": 35,
      "outputs": [
        {
          "output_type": "stream",
          "name": "stdout",
          "text": [
            "(Intercept) \n",
            " 0.00552684 \n"
          ]
        }
      ]
    },
    {
      "cell_type": "code",
      "source": [
        "#4"
      ],
      "metadata": {
        "id": "m3a2NJfNUntI"
      },
      "execution_count": null,
      "outputs": []
    },
    {
      "cell_type": "markdown",
      "source": [
        "when testing to see if $E(Y_{h} \\mid X_{h})$ is significantly different from 110, we got a small p-value of .0055, meaning we can reject the null, meaning yes it is significantly different from 110."
      ],
      "metadata": {
        "id": "72iGArxAyEhh"
      }
    },
    {
      "cell_type": "markdown",
      "metadata": {
        "id": "TT86XHxtGjhL"
      },
      "source": [
        "<br>\n",
        "\n",
        "---\n",
        "\n",
        "<br>\n",
        "\n",
        "\n",
        "\n",
        "\n"
      ]
    },
    {
      "cell_type": "markdown",
      "source": [
        "####<font color=red>Task 5 - Confidence Bands and Prediction Bands</font>\n",
        "\n",
        "1. Use the following code to create confidence bands for the regression fit.\n",
        "```\n",
        "# Create confidence and prediction intervals\n",
        "rangex    <- range(mtcars$disp)\n",
        "new_disp  <- seq(rangex[1], rangex[2], 1)\n",
        "newdata   <- data.frame(disp = new_disp)\n",
        "yhat_conf <- predict(fit, newdata, level = 0.95, interval = 'confidence')\n",
        "yhat_pred <- predict(fit, newdata, level = 0.95, interval = 'predict')\n",
        "#\n",
        "# plot the original scatterplot\n",
        "plot(mtcars$disp, mtcars$hp,\n",
        "     pch = 16,                              # plotting characters (solid dot)\n",
        "     col = rgb(0, 0, 0, 0.5),               # rgb color, fourth value is transparency\n",
        "     xlim = rangex, ylim = c(-10, 350),     # axis limits\n",
        "     main = \"Regression Fit (hp vs disp)\",  # title\n",
        "     xlab = \"disp\", ylab = \"hp\")            # axis labels\n",
        "#\n",
        "# plot regression line\n",
        "lines(new_disp, yhat_conf[, \"fit\"])\n",
        "#\n",
        "# plot lower and upper bounds of confidence interval\n",
        "lines(new_disp, yhat_conf[, \"lwr\"], lty = 2)\n",
        "lines(new_disp, yhat_conf[, \"upr\"], lty = 2)\n",
        "#\n",
        "# plot lower and upper bounds of prediction interval\n",
        "lines(new_disp, yhat_pred[, \"lwr\"], lty = 3)\n",
        "lines(new_disp, yhat_pred[, \"upr\"], lty = 3)\n",
        "#\n",
        "# create legend\n",
        "legend(\"topleft\",\n",
        "       c(\"regression line\", \"confidence interval\", \"prediction interal\"),\n",
        "       lty = 1:3,                           # line type\n",
        "       bty = \"n\")                           # remove legend boundary\n",
        "```\n",
        "\n",
        "2. What is the interpretation of the confidence bands?\n",
        "\n",
        "3. What is the interpretation of the prediction bands?\n",
        "\n",
        "4. Which bands are wider? Explain why in complete sentences."
      ],
      "metadata": {
        "id": "IPhBj-R3ybQU"
      }
    },
    {
      "cell_type": "code",
      "source": [
        "#1\n",
        "# Create confidence and prediction intervals\n",
        "rangex    <- range(mtcars$disp)\n",
        "new_disp  <- seq(rangex[1], rangex[2], 1)\n",
        "newdata   <- data.frame(disp = new_disp)\n",
        "yhat_conf <- predict(fit, newdata, level = 0.95, interval = 'confidence')\n",
        "yhat_pred <- predict(fit, newdata, level = 0.95, interval = 'predict')\n",
        "#\n",
        "# plot the original scatterplot\n",
        "plot(mtcars$disp, mtcars$hp,\n",
        "     pch = 16,                              # plotting characters (solid dot)\n",
        "     col = rgb(0, 0, 0, 0.5),               # rgb color, fourth value is transparency\n",
        "     xlim = rangex, ylim = c(-10, 350),     # axis limits\n",
        "     main = \"Regression Fit (hp vs disp)\",  # title\n",
        "     xlab = \"disp\", ylab = \"hp\")            # axis labels\n",
        "#\n",
        "# plot regression line\n",
        "lines(new_disp, yhat_conf[, \"fit\"])\n",
        "#\n",
        "# plot lower and upper bounds of confidence interval\n",
        "lines(new_disp, yhat_conf[, \"lwr\"], lty = 2)\n",
        "lines(new_disp, yhat_conf[, \"upr\"], lty = 2)\n",
        "#\n",
        "# plot lower and upper bounds of prediction interval\n",
        "lines(new_disp, yhat_pred[, \"lwr\"], lty = 3)\n",
        "lines(new_disp, yhat_pred[, \"upr\"], lty = 3)\n",
        "#\n",
        "# create legend\n",
        "legend(\"topleft\",\n",
        "       c(\"regression line\", \"confidence interval\", \"prediction interal\"),\n",
        "       lty = 1:3,                           # line type\n",
        "       bty = \"n\")                           # remove legend boundary"
      ],
      "metadata": {
        "colab": {
          "base_uri": "https://localhost:8080/",
          "height": 437
        },
        "id": "N6QzOJnkyciX",
        "outputId": "fde0fc7a-92bb-4699-8fc5-5015dcb037ae"
      },
      "execution_count": 36,
      "outputs": [
        {
          "output_type": "display_data",
          "data": {
            "text/plain": [
              "Plot with title “Regression Fit (hp vs disp)”"
            ],
            "image/png": "[encoded data removed]"
          },
          "metadata": {
            "image/png": {
              "width": 420,
              "height": 420
            }
          }
        }
      ]
    },
    {
      "cell_type": "markdown",
      "source": [
        "**confidence band interpretation**\\\n",
        "this band gives us the range of $E(Y_{h})$ (horse power) given $X_{h}$ (displacement). This just gives us a confidence interval but for all points since intervals just show us the range for a single point. here we can see the confidence intervals acorss the entire line."
      ],
      "metadata": {
        "id": "vZMGwJ54yc_U"
      }
    },
    {
      "cell_type": "markdown",
      "source": [
        "**prediction band interpretation**: \\\n",
        "this band gives us the range of $E(Y_{h})$ (horse power) of a new value of $X_{h}$ (displacement)."
      ],
      "metadata": {
        "id": "qP_RoXLVydC5"
      }
    },
    {
      "cell_type": "markdown",
      "source": [
        "**Which is wider and why??**\\\n",
        "The prediction bands are always wider because it accounts for variability in the sample AND the new observation whereas the confidence band only accounts for variability in the sample. More variability = wider range."
      ],
      "metadata": {
        "id": "FG1K7GCQydGP"
      }
    },
    {
      "cell_type": "code",
      "source": [],
      "metadata": {
        "id": "mXHxI8sY1Wm6"
      },
      "execution_count": null,
      "outputs": []
    }
  ]
}
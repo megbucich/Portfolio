{
  "nbformat": 4,
  "nbformat_minor": 0,
  "metadata": {
    "colab": {
      "provenance": []
    },
    "kernelspec": {
      "name": "ir",
      "display_name": "R"
    }
  },
  "cells": [
    {
      "cell_type": "markdown",
      "metadata": {
        "id": "gtETsh5j8vHw"
      },
      "source": [
        "# **Class Assignment: Simultaneous Inference and Contrasts (20 points)**\n",
        "\n",
        "#### **Meg Bucich**\n"
      ]
    },
    {
      "cell_type": "markdown",
      "source": [
        "We will be working with a dataset `mtcars` already loaded into R's workspace. `mtcars` contains data on the attributes of several vehicles.  "
      ],
      "metadata": {
        "id": "avYmp8OKLZmq"
      }
    },
    {
      "cell_type": "markdown",
      "source": [
        "####<font color=red>Task 1</font>\n",
        "\n",
        "1. We are interested in investigating the relationship between miles per gallon `mpg` (seconds) number of forward gears `gear` as our predictor using linear regression.\n",
        "\n",
        "  As always, we should plot our data before running our regressions!\n",
        "\n",
        "  * Plot the appropriate plot to visualize the relationship between `mpg` and `gear`. Should you be using a scatterplot or boxplot?\n",
        "  * Should the variable `gear` be considered a factor/categorical variable? If so, convert this variable into a factor using code from prior practice assignments.\n",
        "  * What do you observe from the plot? Does what you observe make sense? Explain your answer.\n",
        "\n",
        "\n",
        "2. Regress `mpg` on `gear` using `lm()`. Run an ANOVA F-test analysis.\n",
        "\n",
        "  * In a text cell, write down the regression model in symbolic form.\n",
        "  * Write down the hypotheses of your F-test.\n",
        "  * Write down the conclusion of your F-test in the context of the scenario."
      ],
      "metadata": {
        "id": "AZ4bgrGz28TA"
      }
    },
    {
      "cell_type": "code",
      "source": [
        "#1\n",
        "mpg = mtcars$mpg #miles per gallon, response\n",
        "gear = mtcars$gear #number of forward gears, perdictor\n",
        "head(gear) #gear is categorical, use a box blot\n",
        "mtcars$gear = factor(mtcars$gear)\n",
        "plot(gear,mpg, xlab = \"Number of Forward Gears\", ylab = \"Miles per Gallon\", main = \"MPG vs. Number of Forward Gears\")"
      ],
      "metadata": {
        "colab": {
          "base_uri": "https://localhost:8080/",
          "height": 454
        },
        "id": "msyzKmu7mdRU",
        "outputId": "9eb01ac6-42f0-4765-9ce6-5db3c4e9b21d"
      },
      "execution_count": 2,
      "outputs": [
        {
          "output_type": "display_data",
          "data": {
            "text/html": [
              "<style>\n",
              ".list-inline {list-style: none; margin:0; padding: 0}\n",
              ".list-inline>li {display: inline-block}\n",
              ".list-inline>li:not(:last-child)::after {content: \"\\00b7\"; padding: 0 .5ex}\n",
              "</style>\n",
              "<ol class=list-inline><li>4</li><li>4</li><li>4</li><li>3</li><li>3</li><li>3</li></ol>\n"
            ],
            "text/markdown": "1. 4\n2. 4\n3. 4\n4. 3\n5. 3\n6. 3\n\n\n",
            "text/latex": "\\begin{enumerate*}\n\\item 4\n\\item 4\n\\item 4\n\\item 3\n\\item 3\n\\item 3\n\\end{enumerate*}\n",
            "text/plain": [
              "[1] 4 4 4 3 3 3"
            ]
          },
          "metadata": {}
        },
        {
          "output_type": "display_data",
          "data": {
            "text/plain": [
              "Plot with title “MPG vs. Number of Forward Gears”"
            ],
            "image/png": "[encoded data removed]"
          },
          "metadata": {
            "image/png": {
              "width": 420,
              "height": 420
            }
          }
        }
      ]
    },
    {
      "cell_type": "markdown",
      "source": [
        "There seems to be a clear difference in mpg between vehicles with 3 forward gears and 4 forward gears. The difference between 3 and 5 and 4 and 5 is unclear as they both have overlaping mpg values\n"
      ],
      "metadata": {
        "id": "ighrNjK03VU4"
      }
    },
    {
      "cell_type": "code",
      "source": [
        "#2 Anova F Test is just a t-test with a single variable\n",
        "fit = lm(mpg ~ gear, data = mtcars)\n",
        "summary(fit)"
      ],
      "metadata": {
        "colab": {
          "base_uri": "https://localhost:8080/",
          "height": 347
        },
        "id": "p3k7eLWPmdUk",
        "outputId": "7a30cc1d-e34a-416c-f012-22558c441dec"
      },
      "execution_count": 3,
      "outputs": [
        {
          "output_type": "display_data",
          "data": {
            "text/plain": [
              "\n",
              "Call:\n",
              "lm(formula = mpg ~ gear, data = mtcars)\n",
              "\n",
              "Residuals:\n",
              "    Min      1Q  Median      3Q     Max \n",
              "-6.7333 -3.2333 -0.9067  2.8483  9.3667 \n",
              "\n",
              "Coefficients:\n",
              "            Estimate Std. Error t value Pr(>|t|)    \n",
              "(Intercept)   16.107      1.216  13.250 7.87e-14 ***\n",
              "gear4          8.427      1.823   4.621 7.26e-05 ***\n",
              "gear5          5.273      2.431   2.169   0.0384 *  \n",
              "---\n",
              "Signif. codes:  0 ‘***’ 0.001 ‘**’ 0.01 ‘*’ 0.05 ‘.’ 0.1 ‘ ’ 1\n",
              "\n",
              "Residual standard error: 4.708 on 29 degrees of freedom\n",
              "Multiple R-squared:  0.4292,\tAdjusted R-squared:  0.3898 \n",
              "F-statistic:  10.9 on 2 and 29 DF,  p-value: 0.0002948\n"
            ]
          },
          "metadata": {}
        }
      ]
    },
    {
      "cell_type": "markdown",
      "source": [
        "**Write down the regression model in symbolic form**\n",
        "\n",
        "$$mpg = 16.107 + 8.427gear_{4} + 5.273*gear_{5}$$\n",
        "\n",
        "**Write down the hypotheses of your F-test**\n",
        "\n",
        "$$H_{0} : \\beta_{gear_{4}} = \\beta_{gear_{5}} = 0 $$\n",
        "$$H_{a} : \\text{at least one parameter} \\neq 0 $$\n",
        "\n",
        "**Write down the conclusion of your F-test in the context of the scenario**\n",
        "\n",
        "$$\\text{p-value} = .0002948 < .05$$\n",
        "$\\therefore \\text{we reject the null. there is sufficient evidence to conclude that at least one parameter } \\neq 0$"
      ],
      "metadata": {
        "id": "zFarVIIg_QaA"
      }
    },
    {
      "cell_type": "markdown",
      "metadata": {
        "id": "M-TSpjzcdtRU"
      },
      "source": [
        "<br>\n",
        "\n",
        "---\n",
        "\n",
        "<br>\n",
        "\n",
        "\n",
        "\n",
        "\n"
      ]
    },
    {
      "cell_type": "markdown",
      "source": [
        "####<font color=red>Task 2</font>\n",
        "\n",
        "1. If the F-test in Task 1 was significant, proceed to performing your pairwise t-tests that statistically compare each pair of levels in `gear`.\n",
        "\n",
        "  To do so, we will use the `glht()` function within the `multcomp` package. First install and load the package using the following script\n",
        "  ```\n",
        "  install.packages(\"multcomp\")\n",
        "  library(multcomp)\n",
        "  ```\n",
        "\n",
        "2. Summarize your regression from Task 1 using `summary()`. From the summary, determine your three linear contrast functions that will compare the average `mpg` between each pair of `gear` levels.\n",
        "\n",
        "  For example, the following script tests the contrast $E(\\widehat{Y}_{mpg}|\\text{gear4}) - E(\\widehat{Y}_{mpg}|\\text{gear3})$:\n",
        "  ```\n",
        "  K           <- matrix(c(0, 1, 0), 1)      # Defines linear contrast function\n",
        "  rownames(K) <- \"4 - 3\"                    # For names in output\n",
        "  cont1       <- glht(fit, linfct = K)      # Conducts test\n",
        "  summary(cont1)                            # Summarizes test\n",
        "  ```\n",
        "\n",
        "3. Are all of the contrasts significant? Interpret each of the three contrasts in the context of miles per gallon and the number of forward gears."
      ],
      "metadata": {
        "id": "XNn7tdgMNSni"
      }
    },
    {
      "cell_type": "code",
      "source": [
        "#1 install and load packages\n",
        "install.packages(\"multcomp\")\n",
        "library(multcomp)"
      ],
      "metadata": {
        "colab": {
          "base_uri": "https://localhost:8080/"
        },
        "id": "UqiKR7KSmeVj",
        "outputId": "9932cd59-330c-41ad-f035-c4eb3288af01"
      },
      "execution_count": 5,
      "outputs": [
        {
          "output_type": "stream",
          "name": "stderr",
          "text": [
            "Installing package into ‘/usr/local/lib/R/site-library’\n",
            "(as ‘lib’ is unspecified)\n",
            "\n",
            "also installing the dependencies ‘zoo’, ‘mvtnorm’, ‘TH.data’, ‘sandwich’\n",
            "\n",
            "\n",
            "Loading required package: mvtnorm\n",
            "\n",
            "Loading required package: survival\n",
            "\n",
            "Loading required package: TH.data\n",
            "\n",
            "Loading required package: MASS\n",
            "\n",
            "\n",
            "Attaching package: ‘TH.data’\n",
            "\n",
            "\n",
            "The following object is masked from ‘package:MASS’:\n",
            "\n",
            "    geyser\n",
            "\n",
            "\n"
          ]
        }
      ]
    },
    {
      "cell_type": "code",
      "source": [
        "#2\n",
        "summary(fit)"
      ],
      "metadata": {
        "colab": {
          "base_uri": "https://localhost:8080/",
          "height": 347
        },
        "id": "xpL0txlAmeYB",
        "outputId": "4dcd84ff-42d7-4ab9-a0a6-718331131bf0"
      },
      "execution_count": 7,
      "outputs": [
        {
          "output_type": "display_data",
          "data": {
            "text/plain": [
              "\n",
              "Call:\n",
              "lm(formula = mpg ~ gear, data = mtcars)\n",
              "\n",
              "Residuals:\n",
              "    Min      1Q  Median      3Q     Max \n",
              "-6.7333 -3.2333 -0.9067  2.8483  9.3667 \n",
              "\n",
              "Coefficients:\n",
              "            Estimate Std. Error t value Pr(>|t|)    \n",
              "(Intercept)   16.107      1.216  13.250 7.87e-14 ***\n",
              "gear4          8.427      1.823   4.621 7.26e-05 ***\n",
              "gear5          5.273      2.431   2.169   0.0384 *  \n",
              "---\n",
              "Signif. codes:  0 ‘***’ 0.001 ‘**’ 0.01 ‘*’ 0.05 ‘.’ 0.1 ‘ ’ 1\n",
              "\n",
              "Residual standard error: 4.708 on 29 degrees of freedom\n",
              "Multiple R-squared:  0.4292,\tAdjusted R-squared:  0.3898 \n",
              "F-statistic:  10.9 on 2 and 29 DF,  p-value: 0.0002948\n"
            ]
          },
          "metadata": {}
        }
      ]
    },
    {
      "cell_type": "markdown",
      "source": [
        "**Linear Contrast Functions**\n",
        "\n",
        "$$\\beta_{1} - \\beta_{0} = \\begin{bmatrix} -1 & 1 & 0 \\end{bmatrix} \\begin{bmatrix} \\beta_{0} \\\\ \\beta_{1} \\\\ \\beta_{2} \\end{bmatrix}$$\\\n",
        "$$\\beta_{2} - \\beta_{1}= \\begin{bmatrix} 0 & -1 & 1 \\end{bmatrix} \\begin{bmatrix} \\beta_{0} \\\\ \\beta_{1} \\\\ \\beta_{2} \\end{bmatrix}$$\\\n",
        "$$\\beta_{2} - \\beta_{0}= \\begin{bmatrix} -1 & 0 & 1 \\end{bmatrix} \\begin{bmatrix} \\beta_{0} \\\\ \\beta_{1} \\\\ \\beta_{2} \\end{bmatrix}$$"
      ],
      "metadata": {
        "id": "fl0X9hoDDxhX"
      }
    },
    {
      "cell_type": "code",
      "source": [
        "#test1\n",
        "LCF_1 = matrix(c(-1, 1, 0), 1)   #linear contrast function #1\n",
        "rownames(LCF_1) = \"1 - 0\"\n",
        "test1 =  glht(fit, linfct = LCF_1)\n",
        "summary(test1)"
      ],
      "metadata": {
        "colab": {
          "base_uri": "https://localhost:8080/",
          "height": 208
        },
        "id": "dVf0UghidcjO",
        "outputId": "b10aa867-87cf-492f-d938-0c51a0b8347b"
      },
      "execution_count": 8,
      "outputs": [
        {
          "output_type": "display_data",
          "data": {
            "text/plain": [
              "\n",
              "\t Simultaneous Tests for General Linear Hypotheses\n",
              "\n",
              "Fit: lm(formula = mpg ~ gear, data = mtcars)\n",
              "\n",
              "Linear Hypotheses:\n",
              "           Estimate Std. Error t value Pr(>|t|)   \n",
              "1 - 0 == 0   -7.680      2.785  -2.757  0.00998 **\n",
              "---\n",
              "Signif. codes:  0 ‘***’ 0.001 ‘**’ 0.01 ‘*’ 0.05 ‘.’ 0.1 ‘ ’ 1\n",
              "(Adjusted p values reported -- single-step method)\n"
            ]
          },
          "metadata": {}
        }
      ]
    },
    {
      "cell_type": "code",
      "source": [
        "#test2\n",
        "LCF_2 = matrix(c(0, -1, 1), 1)    # linear contrast function #2\n",
        "rownames(LCF_2) <- \"2 - 1\"\n",
        "test2 =  glht(fit, linfct = LCF_2)\n",
        "summary(test2)"
      ],
      "metadata": {
        "colab": {
          "base_uri": "https://localhost:8080/",
          "height": 173
        },
        "id": "QwoYSesKdcxf",
        "outputId": "56cd4d56-ad05-4c29-a50d-ed863a81964b"
      },
      "execution_count": 9,
      "outputs": [
        {
          "output_type": "display_data",
          "data": {
            "text/plain": [
              "\n",
              "\t Simultaneous Tests for General Linear Hypotheses\n",
              "\n",
              "Fit: lm(formula = mpg ~ gear, data = mtcars)\n",
              "\n",
              "Linear Hypotheses:\n",
              "           Estimate Std. Error t value Pr(>|t|)\n",
              "2 - 1 == 0   -3.153      2.506  -1.258    0.218\n",
              "(Adjusted p values reported -- single-step method)\n"
            ]
          },
          "metadata": {}
        }
      ]
    },
    {
      "cell_type": "code",
      "source": [
        "#test3\n",
        "LCF_3 = matrix(c(-1, 0, 1), 1)      # linear contrast function #3\n",
        "rownames(LCF_3) <- \"2 - 0\"\n",
        "test3 = glht(fit, linfct = LCF_2)\n",
        "summary(test3)"
      ],
      "metadata": {
        "colab": {
          "base_uri": "https://localhost:8080/",
          "height": 173
        },
        "id": "3ijAeh1Udc6k",
        "outputId": "82232384-b57c-4bdd-c924-62367946c3df"
      },
      "execution_count": 10,
      "outputs": [
        {
          "output_type": "display_data",
          "data": {
            "text/plain": [
              "\n",
              "\t Simultaneous Tests for General Linear Hypotheses\n",
              "\n",
              "Fit: lm(formula = mpg ~ gear, data = mtcars)\n",
              "\n",
              "Linear Hypotheses:\n",
              "           Estimate Std. Error t value Pr(>|t|)\n",
              "2 - 1 == 0   -3.153      2.506  -1.258    0.218\n",
              "(Adjusted p values reported -- single-step method)\n"
            ]
          },
          "metadata": {}
        }
      ]
    },
    {
      "cell_type": "code",
      "source": [
        "#3"
      ],
      "metadata": {
        "id": "RV6335chmebd"
      },
      "execution_count": null,
      "outputs": []
    },
    {
      "cell_type": "markdown",
      "source": [
        "**1. Are all of the contrasts significant?**\n",
        "\n",
        "\n",
        "$\\beta_{1} - \\beta_{0} \\rightarrow \\text{p-value}  = .00998 \\rightarrow \\text{significant} \\checkmark $\n",
        "\n",
        "$\\beta_{2} - \\beta_{1}\\rightarrow \\text{p-value} = .218 \\rightarrow \\text{Not Significant} \\oslash$\n",
        "\n",
        "$\\beta_{2} - \\beta_{0} \\rightarrow \\text{p-value} = .218 \\rightarrow \\text{Not Significant} \\oslash$\n",
        "\n",
        "These results are consistent with the box plot predictions I made at the beginning :)\n",
        "\n",
        "\n",
        "**2. Interpret each of the three contrasts in the context of miles per gallon and the number of forward gears**\n",
        "\n",
        "$\\beta_{1} - \\beta_{0} \\rightarrow \\text{The average difference in miles per gallon between vehicles with 3 and 4 forward gears }$\n",
        "\n",
        "$\\beta_{2} - \\beta_{1}\\rightarrow \\text{The average difference in miles per gallon between vehicles with 4 and 5 forward gears}$\n",
        "\n",
        "$\\beta_{2} - \\beta_{0} \\rightarrow \\text{The average difference in miles per gallon between vehicles with 3 and 5 forward gears}$"
      ],
      "metadata": {
        "id": "Q1OjqSeMdsQ6"
      }
    },
    {
      "cell_type": "markdown",
      "metadata": {
        "id": "63reeTO6dvFc"
      },
      "source": [
        "<br>\n",
        "\n",
        "---\n",
        "\n",
        "<br>\n",
        "\n",
        "\n",
        "\n",
        "\n"
      ]
    },
    {
      "cell_type": "markdown",
      "source": [
        "####<font color=red>Task 3</font>\n",
        "\n",
        "1. From Task 2, what are the Bonferroni corrected p-values for the three contrasts? Did any of the contrasts change in their statistical significance? Explain why in the context of Type I error.\n",
        "\n",
        "2. What are the Bonferroni corrected confidence intervals for the three contrasts? Calculate by hand (in R).\n",
        "\n",
        "  Answers:\n",
        "     * gear4 - gear3 = [3.79, 13.06]\n",
        "     * gear5 - gear3 = [-0.90, 11.45]\n",
        "     * gear5 - gear4 = [-9.52, 3.21]\n",
        "\n",
        "3. There is an approach more efficient than Bonferroni using the `glht()` function that corrects for familywise error rate called Tukey all-comparisons. Run the following script to perform these pairwise comparisons.\n",
        "```\n",
        "tukey_compare <- glht(fit, linfct = mcp(gear = \"Tukey\"))\n",
        "summary(tukey_compare)\n",
        "```\n",
        "  * Are the p-values smaller or larger than the p-values using Bonferroni correction?\n",
        "\n",
        "4. Run the following scripts, which provides you with the confidence intervals for your contrasts. Note these are not corrected using the Bonferroni correction.\n",
        "```\n",
        "confint(cont1)          # from our contrast \"by hand\"\n",
        "confint(tukey_compare)  # from our contrast using Tukey\n",
        "```"
      ],
      "metadata": {
        "id": "FIa6J3k4dvFc"
      }
    },
    {
      "cell_type": "code",
      "source": [
        "#1"
      ],
      "metadata": {
        "id": "yc-IxwhXmgau"
      },
      "execution_count": null,
      "outputs": []
    },
    {
      "cell_type": "markdown",
      "source": [
        "\n",
        "**P-values before Bonferroni Correction**\n",
        "\n",
        "$\\beta_{1} - \\beta_{0} \\rightarrow \\text{p-value}  = .00998$\n",
        "\n",
        "$\\beta_{2} - \\beta_{1}\\rightarrow \\text{p-value} = .218$\n",
        "\n",
        "$\\beta_{2} - \\beta_{0} \\rightarrow \\text{p-value} = .218$\n",
        "\n",
        "\n",
        "**P-values After Bonferroni Correction**\n",
        "\n",
        "$\\beta_{1} - \\beta_{0} \\rightarrow \\text{p-value}_{\\text{corrected}}  = .00998*3 = .02994 \\text{ still significant } \\checkmark$\n",
        "\n",
        "$\\beta_{2} - \\beta_{1}\\rightarrow \\text{p-value}_{\\text{corrected}} = .218*3 = .654 \\text{ still insignificant } \\oslash $\n",
        "\n",
        "$\\beta_{2} - \\beta_{0} \\rightarrow \\text{p-value}_{\\text{corrected}} = .218*3 = .654 \\text{ still insignificant } \\oslash$\n",
        "\n",
        "**Did any of the contrasts change in their statistical significance? Explain why in the context of Type I error.**\n",
        "\n",
        "Without the correction, we tested each contrast at $\\alpha = .05$, which means theres a 5% chance of making a type 1 error per test. With three contrasts, the probability of making a type 1 error is greater than 5%, and is actually 14%. The Bonferroni correction compensates by dividing $\\alpha$ across the number of tests, which **reduces Type I error** but also makes it **harder to find significance**. This is why significance did not change for specifically $\\beta_{2} - \\beta_{1}$ and $\\beta_{2} - \\beta_{0}$ since they were already insignicant. Luckily $\\beta_{1} - \\beta_{0}$ had a small enough p-value prior to the correction, and it remained significant after the correction.\n"
      ],
      "metadata": {
        "id": "IGlhIMxQig5k"
      }
    },
    {
      "cell_type": "code",
      "source": [
        "#2 What are the Bonferroni corrected confidence intervals for the three contrasts?\n",
        "#gear4 - gear3 = [3.79, 13.06]\n",
        "#gear5 - gear4 = [-9.52, 3.21]\n",
        "#gear5 - gear3 = [-0.90, 11.45]\n",
        "\n",
        "n = nrow(mtcars)\n",
        "p = 3\n",
        "B = qt(1 - 0.05/(2*p), df = n - p)\n",
        "\n",
        "#gear4 - gear3 (1-0)\n",
        "se1 = sqrt(vcov(fit)[\"gear4\", \"gear4\"])\n",
        "bhat_1 = coef(fit)[\"gear4\"]\n",
        "lower1 = bhat_1 - B*se1\n",
        "upper1 = bhat_1 + B*se1\n",
        "conf_int1 = c(lower1,upper1)\n",
        "print(conf_int1)\n",
        "\n",
        "#gear5 - gear4 (2-1)\n",
        "se2 = sqrt(vcov(fit)[\"gear5\", \"gear5\"] + (vcov(fit)[\"gear4\", \"gear4\"]) - 2*(vcov(fit)[\"gear5\", \"gear4\"]))\n",
        "bhat_2 = coef(fit)[\"gear5\"] - coef(fit)[\"gear4\"]\n",
        "lower2 = bhat_2 - B*se2\n",
        "upper2 = bhat_2 + B*se2\n",
        "conf_int2 = c(lower2,upper2)\n",
        "print(conf_int2)\n",
        "\n",
        "#gear5 - gear3 (2-0)\n",
        "se3 = sqrt(vcov(fit)[\"gear5\", \"gear5\"])\n",
        "bhat_3 = coef(fit)[\"gear5\"]\n",
        "lower3 = bhat_3 - B*se3\n",
        "upper3 = bhat_3 + B*se3\n",
        "conf_int3 = c(lower3,upper3)\n",
        "print(conf_int3)\n",
        "\n",
        "\n",
        "\n"
      ],
      "metadata": {
        "colab": {
          "base_uri": "https://localhost:8080/"
        },
        "id": "5WvbIOe3mgdg",
        "outputId": "5e218ed8-e4a7-46b2-d4f9-fce8c904274b"
      },
      "execution_count": 17,
      "outputs": [
        {
          "output_type": "stream",
          "name": "stdout",
          "text": [
            "    gear4     gear4 \n",
            " 3.793532 13.059801 \n",
            "    gear5     gear5 \n",
            "-9.520967  3.214301 \n",
            "    gear5     gear5 \n",
            "-0.904179 11.450846 \n"
          ]
        }
      ]
    },
    {
      "cell_type": "code",
      "source": [
        "#3\n",
        "tukey_compare = glht(fit, linfct = mcp(gear = \"Tukey\"))\n",
        "summary(tukey_compare)"
      ],
      "metadata": {
        "colab": {
          "base_uri": "https://localhost:8080/",
          "height": 295
        },
        "id": "S6lEy38zmggP",
        "outputId": "754858f2-d0d2-41f6-8c78-2256e9931fb7"
      },
      "execution_count": 18,
      "outputs": [
        {
          "output_type": "display_data",
          "data": {
            "text/plain": [
              "\n",
              "\t Simultaneous Tests for General Linear Hypotheses\n",
              "\n",
              "Multiple Comparisons of Means: Tukey Contrasts\n",
              "\n",
              "\n",
              "Fit: lm(formula = mpg ~ gear, data = mtcars)\n",
              "\n",
              "Linear Hypotheses:\n",
              "           Estimate Std. Error t value Pr(>|t|)    \n",
              "4 - 3 == 0    8.427      1.823   4.621   <0.001 ***\n",
              "5 - 3 == 0    5.273      2.431   2.169   0.0918 .  \n",
              "5 - 4 == 0   -3.153      2.506  -1.258   0.4257    \n",
              "---\n",
              "Signif. codes:  0 ‘***’ 0.001 ‘**’ 0.01 ‘*’ 0.05 ‘.’ 0.1 ‘ ’ 1\n",
              "(Adjusted p values reported -- single-step method)\n"
            ]
          },
          "metadata": {}
        }
      ]
    },
    {
      "cell_type": "markdown",
      "source": [
        "**P-values Bonferroni**\n",
        "\n",
        "$\\beta_{1} - \\beta_{0} \\rightarrow \\text{p-value}_{\\text{Bonferroni}}  = .02994$\n",
        "\n",
        "$\\beta_{2} - \\beta_{1}\\rightarrow \\text{p-value}_{\\text{Bonferroni}} = .654$\n",
        "\n",
        "$\\beta_{2} - \\beta_{0} \\rightarrow \\text{p-value}_{\\text{Bonferroni}} = .654 $\n",
        "\n",
        "**P-values Tukey**\n",
        "\n",
        "$\\beta_{1} - \\beta_{0} \\rightarrow \\text{p-value}_{\\text{Tukey}}  <.001$\n",
        "\n",
        "$\\beta_{2} - \\beta_{1}\\rightarrow \\text{p-value}_{\\text{Tukey}} = .4257$\n",
        "\n",
        "$\\beta_{2} - \\beta_{0} \\rightarrow \\text{p-value}_{\\text{Tukey}} = .0918 $\n",
        "\n",
        "\n",
        "**Are the p-values smaller or larger than the p-values using Bonferroni correction?**\n",
        "All p-values are smaller when using Tukey versus Bonferroni. $\\beta_{1} - \\beta_{0}$ is still the only significant one though."
      ],
      "metadata": {
        "id": "Ykn36XkTujSa"
      }
    },
    {
      "cell_type": "code",
      "source": [
        "#4\n",
        "confint(test1)          # from our contrast \"by hand\"\n",
        "confint(tukey_compare)  # from our contrast using Tukey"
      ],
      "metadata": {
        "colab": {
          "base_uri": "https://localhost:8080/",
          "height": 520
        },
        "id": "KmA8CAhnmgjq",
        "outputId": "c01e6fea-9142-4d78-e6c6-46d0d5182d1f"
      },
      "execution_count": 19,
      "outputs": [
        {
          "output_type": "display_data",
          "data": {
            "text/plain": [
              "\n",
              "\t Simultaneous Confidence Intervals\n",
              "\n",
              "Fit: lm(formula = mpg ~ gear, data = mtcars)\n",
              "\n",
              "Quantile = 2.0452\n",
              "95% family-wise confidence level\n",
              " \n",
              "\n",
              "Linear Hypotheses:\n",
              "           Estimate lwr      upr     \n",
              "1 - 0 == 0  -7.6800 -13.3766  -1.9834\n"
            ]
          },
          "metadata": {}
        },
        {
          "output_type": "display_data",
          "data": {
            "text/plain": [
              "\n",
              "\t Simultaneous Confidence Intervals\n",
              "\n",
              "Multiple Comparisons of Means: Tukey Contrasts\n",
              "\n",
              "\n",
              "Fit: lm(formula = mpg ~ gear, data = mtcars)\n",
              "\n",
              "Quantile = 2.4593\n",
              "95% family-wise confidence level\n",
              " \n",
              "\n",
              "Linear Hypotheses:\n",
              "           Estimate lwr     upr    \n",
              "4 - 3 == 0  8.4267   3.9424 12.9109\n",
              "5 - 3 == 0  5.2733  -0.7057 11.2524\n",
              "5 - 4 == 0 -3.1533  -9.3164  3.0097\n"
            ]
          },
          "metadata": {}
        }
      ]
    },
    {
      "cell_type": "code",
      "source": [
        "confint(test2)          # from our contrast \"by hand\"\n",
        "confint(tukey_compare)  # from our contrast using Tukey"
      ],
      "metadata": {
        "colab": {
          "base_uri": "https://localhost:8080/",
          "height": 520
        },
        "id": "l_brLwuCwfzx",
        "outputId": "2e4aa814-9154-4cdb-a2db-a34bcc14a50a"
      },
      "execution_count": 20,
      "outputs": [
        {
          "output_type": "display_data",
          "data": {
            "text/plain": [
              "\n",
              "\t Simultaneous Confidence Intervals\n",
              "\n",
              "Fit: lm(formula = mpg ~ gear, data = mtcars)\n",
              "\n",
              "Quantile = 2.0452\n",
              "95% family-wise confidence level\n",
              " \n",
              "\n",
              "Linear Hypotheses:\n",
              "           Estimate lwr     upr    \n",
              "2 - 1 == 0 -3.1533  -8.2788  1.9721\n"
            ]
          },
          "metadata": {}
        },
        {
          "output_type": "display_data",
          "data": {
            "text/plain": [
              "\n",
              "\t Simultaneous Confidence Intervals\n",
              "\n",
              "Multiple Comparisons of Means: Tukey Contrasts\n",
              "\n",
              "\n",
              "Fit: lm(formula = mpg ~ gear, data = mtcars)\n",
              "\n",
              "Quantile = 2.4595\n",
              "95% family-wise confidence level\n",
              " \n",
              "\n",
              "Linear Hypotheses:\n",
              "           Estimate lwr     upr    \n",
              "4 - 3 == 0  8.4267   3.9420 12.9113\n",
              "5 - 3 == 0  5.2733  -0.7062 11.2529\n",
              "5 - 4 == 0 -3.1533  -9.3169  3.0102\n"
            ]
          },
          "metadata": {}
        }
      ]
    },
    {
      "cell_type": "code",
      "source": [
        "confint(test3)          # from our contrast \"by hand\"\n",
        "confint(tukey_compare)  # from our contrast using Tukey"
      ],
      "metadata": {
        "colab": {
          "base_uri": "https://localhost:8080/",
          "height": 520
        },
        "id": "Sr1d2yyhwf8I",
        "outputId": "fe36f68d-5232-4a7f-cd7e-78d270f354d5"
      },
      "execution_count": 21,
      "outputs": [
        {
          "output_type": "display_data",
          "data": {
            "text/plain": [
              "\n",
              "\t Simultaneous Confidence Intervals\n",
              "\n",
              "Fit: lm(formula = mpg ~ gear, data = mtcars)\n",
              "\n",
              "Quantile = 2.0452\n",
              "95% family-wise confidence level\n",
              " \n",
              "\n",
              "Linear Hypotheses:\n",
              "           Estimate lwr     upr    \n",
              "2 - 1 == 0 -3.1533  -8.2788  1.9721\n"
            ]
          },
          "metadata": {}
        },
        {
          "output_type": "display_data",
          "data": {
            "text/plain": [
              "\n",
              "\t Simultaneous Confidence Intervals\n",
              "\n",
              "Multiple Comparisons of Means: Tukey Contrasts\n",
              "\n",
              "\n",
              "Fit: lm(formula = mpg ~ gear, data = mtcars)\n",
              "\n",
              "Quantile = 2.4594\n",
              "95% family-wise confidence level\n",
              " \n",
              "\n",
              "Linear Hypotheses:\n",
              "           Estimate lwr     upr    \n",
              "4 - 3 == 0  8.4267   3.9422 12.9111\n",
              "5 - 3 == 0  5.2733  -0.7059 11.2526\n",
              "5 - 4 == 0 -3.1533  -9.3166  3.0100\n"
            ]
          },
          "metadata": {}
        }
      ]
    },
    {
      "cell_type": "markdown",
      "metadata": {
        "id": "AC_AZXHMjAQP"
      },
      "source": [
        "<br>\n",
        "\n",
        "---\n",
        "\n",
        "<br>\n",
        "\n",
        "\n",
        "\n",
        "\n"
      ]
    },
    {
      "cell_type": "markdown",
      "source": [
        "####<font color=red>Task 4 - More contrasts practice</font>\n",
        "\n",
        "\n",
        "1. Fit the following model and summarize your model fit.\n",
        "```\n",
        "# convert to factors\n",
        "mtcars$cyl    <- as.factor(mtcars$cyl)\n",
        "mtcars$gear   <- as.factor(mtcars$gear)\n",
        "```\n",
        "```\n",
        "# fit regression model\n",
        "fit <- lm(mpg ~ hp + disp + cyl + gear + hp:cyl + hp:gear, data = mtcars)\n",
        "```\n",
        "\n",
        "2. Based on the `summary()`, write the symbolic representation of the regression model above.\n",
        "\n",
        "3. What is the average mpg for a vehicle that is\n",
        "  * 8 cylinder vehicle, 150 horsepower, 200 displacement, 5 gears\n",
        "  Hint: You can create a new dataset and use `predict()`.\n",
        "  \n",
        "  Answer: 24.35813\n",
        "\n",
        "4. What is the average mpg for a vehicle that is\n",
        "  * 6 cylinder vehicle, 100 horsepower, 80 displacement, 4 gears\n",
        "  Hint: You can create a new dataset and use `predict()`.\n",
        "  \n",
        "  Answer: 26.23462\n",
        "\n",
        "5. Using contrasts, what is the average difference in mpg between a\n",
        "   * 8 cylinder vehicle, 150 horsepower, 200 displacement, 5 gears and a\n",
        "   * 6 cylinder vehicle, 100 horsepower, 80 displacement, 4 gears\n",
        "\n",
        "   Answer: -1.876"
      ],
      "metadata": {
        "id": "_f9TdfgAjAQR"
      }
    },
    {
      "cell_type": "code",
      "source": [
        "#1\n",
        "mtcars$cyl = as.factor(mtcars$cyl)\n",
        "mtcars$gear = as.factor(mtcars$gear)\n",
        "fit = lm(mpg ~ hp + disp + cyl + gear + hp:cyl + hp:gear, data = mtcars)"
      ],
      "metadata": {
        "id": "NRZ_CIPpmlBD"
      },
      "execution_count": 1,
      "outputs": []
    },
    {
      "cell_type": "code",
      "source": [
        "#2\n",
        "summary(fit)"
      ],
      "metadata": {
        "colab": {
          "base_uri": "https://localhost:8080/",
          "height": 503
        },
        "id": "T0SiX270mlEE",
        "outputId": "f7b5843e-3d98-4677-e702-7b88900bcd41"
      },
      "execution_count": 2,
      "outputs": [
        {
          "output_type": "display_data",
          "data": {
            "text/plain": [
              "\n",
              "Call:\n",
              "lm(formula = mpg ~ hp + disp + cyl + gear + hp:cyl + hp:gear, \n",
              "    data = mtcars)\n",
              "\n",
              "Residuals:\n",
              "    Min      1Q  Median      3Q     Max \n",
              "-3.6170 -1.3370 -0.5120  0.7018  4.8288 \n",
              "\n",
              "Coefficients:\n",
              "            Estimate Std. Error t value Pr(>|t|)  \n",
              "(Intercept) 18.67164   11.39406   1.639   0.1162  \n",
              "hp           0.05497    0.10836   0.507   0.6172  \n",
              "disp        -0.02319    0.01053  -2.203   0.0389 *\n",
              "cyl6        16.85027   13.21661   1.275   0.2163  \n",
              "cyl8         7.84385   11.85826   0.661   0.5155  \n",
              "gear4       21.57003   10.85481   1.987   0.0601 .\n",
              "gear5        8.47756    4.16245   2.037   0.0545 .\n",
              "hp:cyl6     -0.14772    0.11779  -1.254   0.2236  \n",
              "hp:cyl8     -0.07136    0.10776  -0.662   0.5150  \n",
              "hp:gear4    -0.19727    0.09818  -2.009   0.0575 .\n",
              "hp:gear5    -0.02359    0.02085  -1.131   0.2706  \n",
              "---\n",
              "Signif. codes:  0 ‘***’ 0.001 ‘**’ 0.01 ‘*’ 0.05 ‘.’ 0.1 ‘ ’ 1\n",
              "\n",
              "Residual standard error: 2.476 on 21 degrees of freedom\n",
              "Multiple R-squared:  0.8857,\tAdjusted R-squared:  0.8313 \n",
              "F-statistic: 16.27 on 10 and 21 DF,  p-value: 9.721e-08\n"
            ]
          },
          "metadata": {}
        }
      ]
    },
    {
      "cell_type": "markdown",
      "source": [
        "**Model**\n",
        "\n",
        "$\\hat y = 18.67164 + 0.05497*hp -0.02319*disp +16.85027*cyl_{6} +7.84385*cyl_{8} + 21.57003*gear_{4} + 8.47756*gear_{5} - 0.14772*hp*cyl_{6} - 0.07136*hp*cyl_{8} -0.19727*hp*gear_{4} - 0.02359*hp*gear_{5}$"
      ],
      "metadata": {
        "id": "gzWh1buiDvEe"
      }
    },
    {
      "cell_type": "code",
      "source": [
        "#3 8 cylinder vehicle, 150 horsepower, 200 displacement, 5 gears\n",
        "new_1= data.frame(hp = 150,disp=200,cyl = factor(8),gear = factor(5))\n",
        "yhat_1 = predict(fit,newdata = new_1)\n",
        "yhat_1"
      ],
      "metadata": {
        "colab": {
          "base_uri": "https://localhost:8080/",
          "height": 34
        },
        "id": "RfrKVgm1mlG7",
        "outputId": "0f7d0f24-d4ab-4c35-e2c5-bcda2df9472f"
      },
      "execution_count": 11,
      "outputs": [
        {
          "output_type": "display_data",
          "data": {
            "text/html": [
              "<strong>1:</strong> 24.3581314261175"
            ],
            "text/markdown": "**1:** 24.3581314261175",
            "text/latex": "\\textbf{1:} 24.3581314261175",
            "text/plain": [
              "       1 \n",
              "24.35813 "
            ]
          },
          "metadata": {}
        }
      ]
    },
    {
      "cell_type": "code",
      "source": [
        "#4 6 cylinder vehicle, 100 horsepower, 80 displacement, 4 gears\n",
        "new_2 = data.frame(hp = 100,disp=80,cyl = factor(6),gear = factor(4))\n",
        "yhat_2 = predict(fit,newdata = new_2)\n",
        "yhat_2"
      ],
      "metadata": {
        "colab": {
          "base_uri": "https://localhost:8080/",
          "height": 34
        },
        "id": "wbwGmD1pmlJ3",
        "outputId": "409ea796-7b8b-499b-ecd7-57898b70a305"
      },
      "execution_count": 12,
      "outputs": [
        {
          "output_type": "display_data",
          "data": {
            "text/html": [
              "<strong>1:</strong> 26.2346202720077"
            ],
            "text/markdown": "**1:** 26.2346202720077",
            "text/latex": "\\textbf{1:} 26.2346202720077",
            "text/plain": [
              "       1 \n",
              "26.23462 "
            ]
          },
          "metadata": {}
        }
      ]
    },
    {
      "cell_type": "code",
      "source": [
        "#5\n",
        "yhat_1 - yhat_2"
      ],
      "metadata": {
        "colab": {
          "base_uri": "https://localhost:8080/",
          "height": 34
        },
        "id": "ieyQkPx8mlNL",
        "outputId": "3779a873-bb33-4335-de56-10ad546aecef"
      },
      "execution_count": 13,
      "outputs": [
        {
          "output_type": "display_data",
          "data": {
            "text/html": [
              "<strong>1:</strong> -1.87648884589025"
            ],
            "text/markdown": "**1:** -1.87648884589025",
            "text/latex": "\\textbf{1:} -1.87648884589025",
            "text/plain": [
              "        1 \n",
              "-1.876489 "
            ]
          },
          "metadata": {}
        }
      ]
    },
    {
      "cell_type": "markdown",
      "metadata": {
        "id": "Mbkw5_hKW0jr"
      },
      "source": [
        "<br>\n",
        "\n",
        "---\n",
        "\n",
        "<br>\n",
        "\n",
        "\n",
        "\n",
        "\n"
      ]
    }
  ]
}
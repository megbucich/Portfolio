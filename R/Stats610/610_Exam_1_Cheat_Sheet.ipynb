{
  "nbformat": 4,
  "nbformat_minor": 0,
  "metadata": {
    "colab": {
      "provenance": []
    },
    "kernelspec": {
      "name": "python3",
      "display_name": "Python 3"
    },
    "language_info": {
      "name": "python"
    }
  },
  "cells": [
    {
      "cell_type": "markdown",
      "source": [
        "\n",
        "\n",
        "# <font color=red>**General Commands for getting information about the data set**</font>"
      ],
      "metadata": {
        "id": "BngluU4S-fsq"
      }
    },
    {
      "cell_type": "code",
      "execution_count": null,
      "metadata": {
        "id": "30ypTYWY9S1o"
      },
      "outputs": [],
      "source": [
        "#mtcars is a dataset already loaded in R\n",
        "\n",
        "head(mtcars) #gives a preview of the data\n",
        "nrow(mtcars) #gives number of rows\n",
        "ncol(mtcars) #gives number of columns\n",
        "fit = lm (y ~ x, data = mtcars)\n",
        "summary(fit) # gives us the regression summary with fitted parameters"
      ]
    },
    {
      "cell_type": "markdown",
      "source": [
        "**reading in a csv file**"
      ],
      "metadata": {
        "id": "OWA9KSlG_OyN"
      }
    },
    {
      "cell_type": "code",
      "source": [
        "data = read.csv(\"filename.csv\")\n",
        "var1 = data$var1 #how to extract variables\n",
        "var2 = data$var2\n",
        "hist(var1) #making a histogram\n",
        "fit = lm (var1 ~ var2, data = data)\n",
        "summary(fit) #gives regression summary"
      ],
      "metadata": {
        "id": "96iUKT0k_Qt_"
      },
      "execution_count": null,
      "outputs": []
    },
    {
      "cell_type": "markdown",
      "source": [
        "**plotting two variables**\n"
      ],
      "metadata": {
        "id": "Xu-OEl1wCPnd"
      }
    },
    {
      "cell_type": "code",
      "source": [
        "#sample of plotting two variables\n",
        "x = data$reading.score\n",
        "xlab = \"Reading Score\"\n",
        "y= data$math.score\n",
        "ylab = 'Math Score'\n",
        "plot(x,y, xlab = xlab, ylab = ylab, main = \"Plot of Math Scores Vs Reading Scores\")\n",
        "abline(lm(y~x), col = \"red\") #adds the trend line"
      ],
      "metadata": {
        "id": "AL15GOB8CK2A"
      },
      "execution_count": null,
      "outputs": []
    },
    {
      "cell_type": "markdown",
      "source": [
        "# <font color=red>**Prerequiste Material**</font>\n",
        "\n",
        "- Linearity of expectation/variance:\n",
        "  - $E(aX+b)=aE[X]+b$,\n",
        "  - $\\mathrm{Var}(aX+b)=a^2\\mathrm{Var}(X)$.\n",
        "- Central Limit Theorem: $\\bar{X}$ is approximately normal for moderate/large $n$.\n",
        "- One-sample mean, $\\sigma$ unknown (t-CI):\n",
        "  $$\n",
        "  \\bar{x} \\ \\pm\\ t_{1-\\alpha/2,\\ n-1}\\ \\frac{s}{\\sqrt{n}}\n",
        "  $$\n",
        "- One-sample mean, $\\sigma$ unknown (t-test):\n",
        "  $$\n",
        "  t \\;=\\; \\frac{\\bar{x}-\\mu_0}{s/\\sqrt{n}},\\quad \\text{df}=n-1\n",
        "  $$\n",
        "\n",
        "\n"
      ],
      "metadata": {
        "id": "wvYiEJ_kBleK"
      }
    },
    {
      "cell_type": "markdown",
      "source": [
        "- **Population mean ($\\mu$) vs Sample mean ($\\bar{x}$):**\n",
        "  - $\\mu$ is the true mean (unknown), $\\bar{x}$ estimates $\\mu$.\n",
        "  - $\\sigma$ **unknown** (typical) $\\Rightarrow$ **t** methods with $\\text{df}=n-1$; $\\sigma$ known $\\Rightarrow$ z (rare)."
      ],
      "metadata": {
        "id": "eJGPjHqkZjIE"
      }
    },
    {
      "cell_type": "markdown",
      "source": [
        "by hand confidence interval for true population average"
      ],
      "metadata": {
        "id": "kIaPhOLH_htB"
      }
    },
    {
      "cell_type": "code",
      "source": [
        "#replace math_scores with the variable we are concerned with\n",
        "n = length(math_scores)\n",
        "x_bar = mean(math_scores)\n",
        "s = sd(math_scores)\n",
        "t_value = qt(1-.05/2,n-1) #tval will always be this qt(level,df)\n",
        "upper = x_bar + t_value * (s/sqrt(n))\n",
        "lower = x_bar - t_value * (s/sqrt(n))\n",
        "print('95% confidence interval')\n",
        "print(c(lower,upper))"
      ],
      "metadata": {
        "id": "3UmhR9TQ_vMm"
      },
      "execution_count": null,
      "outputs": []
    },
    {
      "cell_type": "markdown",
      "source": [
        "built in confidence interval commands for true population mean"
      ],
      "metadata": {
        "id": "vsVVl1jaARpg"
      }
    },
    {
      "cell_type": "code",
      "source": [
        "t_test = t.test(math_scores,conf.level = 0.95) #default is 95%\n",
        "print(t_test) #gives t statistic, df, p-value, C.I, average"
      ],
      "metadata": {
        "id": "WUFW1rdVAZ3H"
      },
      "execution_count": null,
      "outputs": []
    },
    {
      "cell_type": "markdown",
      "source": [
        "# <font color=red>**Ordinary Least Squares- Simple Linear Regression**</font>\n",
        "\n",
        "- **Model:**\n",
        "  $$\n",
        "  Y_i=\\beta_0+\\beta_1 X_i+\\varepsilon_i,\\quad E[\\varepsilon_i]=0,\\ \\mathrm{Var}(\\varepsilon_i)=\\sigma^2,\\ \\text{iid}\n",
        "  $$\n",
        "  \n",
        "- **OLS estimators:**\n",
        "  $$\n",
        "  \\hat{\\beta}_1=\\frac{\\sum_i (x_i-\\bar{x})(y_i-\\bar{y})}{\\sum_i (x_i-\\bar{x})^2},\n",
        "  \\qquad\n",
        "  \\hat{\\beta}_0=\\bar{y}-\\hat{\\beta}_1\\bar{x}\n",
        "  $$\n",
        "- **Fitted values & residuals:** $$\\hat{y}_i=\\hat{\\beta}_0+\\hat{\\beta}_1 x_i, \\qquad e_i=y_i-\\hat{y}_i$$\n",
        "- **RSS & variance estimate:**\n",
        "  $$\n",
        "  \\mathrm{RSS}=\\sum_i (y_i-\\hat{y}_i)^2,\\qquad\n",
        "  s^2=\\frac{\\mathrm{RSS}}{n-2}\n",
        "  $$\n",
        "- **One predictor variable**"
      ],
      "metadata": {
        "id": "WgaQJRMvBVnb"
      }
    },
    {
      "cell_type": "markdown",
      "source": [
        "**$\\hat\\beta_{1}$ calculation\n",
        "$$\n",
        "\\hat{\\beta}_1=\\frac{\\sum_i (x_i-\\bar{x})(y_i-\\bar{y})}{\\sum_i (x_i-\\bar{x})^2}\n",
        "$$**"
      ],
      "metadata": {
        "id": "xInN7s9WHAwB"
      }
    },
    {
      "cell_type": "code",
      "source": [
        "xbar = mean(data$reading.score)\n",
        "ybar = mean(data$math.score)\n",
        "num = sum((data$reading.score - xbar) * (data$math.score - ybar))\n",
        "denom = sum((data$reading.score - xbar)^2)\n",
        "beta1hat = num / denom"
      ],
      "metadata": {
        "id": "ZTfF0TGfBZHS"
      },
      "execution_count": null,
      "outputs": []
    },
    {
      "cell_type": "markdown",
      "source": [
        "**$\\hat\\beta_{0}$ calculation\n",
        "$$\n",
        " \\hat{\\beta}_0=\\bar{y}-\\hat{\\beta}_1\\bar{x}\n",
        " $$**"
      ],
      "metadata": {
        "id": "_9Io9KYqHS_9"
      }
    },
    {
      "cell_type": "code",
      "source": [
        "beta0hat = ybar - beta1hat*xbar"
      ],
      "metadata": {
        "id": "haCLJpULHU7e"
      },
      "execution_count": null,
      "outputs": []
    },
    {
      "cell_type": "markdown",
      "source": [
        "**regression summary, gives $\\hat\\beta_{0}$ (intercept), $\\hat\\beta_{1}$ (slope)**"
      ],
      "metadata": {
        "id": "yC2cRz-zH1Mp"
      }
    },
    {
      "cell_type": "code",
      "source": [
        "fit = lm(y ~ x, data = data)\n",
        "summary(fit)"
      ],
      "metadata": {
        "id": "1C1AJE_AHzQ7"
      },
      "execution_count": null,
      "outputs": []
    },
    {
      "cell_type": "markdown",
      "source": [
        "**Fitted values & residuals:** $$\\hat{y}_i=\\hat{\\beta}_0+\\hat{\\beta}_1 x_i, \\qquad e_i=y_i-\\hat{y}_i$$"
      ],
      "metadata": {
        "id": "FZUNpbSXIRtf"
      }
    },
    {
      "cell_type": "code",
      "source": [
        "yhat = beta0hat + beta1hat*x\n",
        "check = sum((yhat - fit$fitted.values)^2) #make sure its close to zero\n",
        "\n",
        "resid = y - yhat #error terms/residuals\n",
        "check = sum((resid - fit$residuals)^2) #make sure its close to zero\n"
      ],
      "metadata": {
        "id": "o1IJ_BzLIhKa"
      },
      "execution_count": null,
      "outputs": []
    },
    {
      "cell_type": "markdown",
      "source": [
        "**RSS & variance estimate:**\n",
        "  $$\n",
        "  \\mathrm{RSS}=\\sum_i (y_i-\\hat{y}_i)^2,\\qquad\n",
        "  s^2=\\frac{\\mathrm{RSS}}{n-2}\n",
        "  $$"
      ],
      "metadata": {
        "id": "6ghby9-LHQmd"
      }
    },
    {
      "cell_type": "code",
      "source": [
        "num = sum((resid)^2)\n",
        "n = length(data$y)\n",
        "denom = n-2 #df\n",
        "s2 = num / denom\n",
        "s = sqrt(s2)\n",
        "fit = lm(y~x, data = data) #to check\n",
        "summary(fit)"
      ],
      "metadata": {
        "id": "ymkiFV9RLNsv"
      },
      "execution_count": null,
      "outputs": []
    },
    {
      "cell_type": "markdown",
      "source": [
        "# <font color=red>**Normal Error Regression & Maximum Likelihood**</font>\n",
        "\n",
        "- **Assume** $\\varepsilon_i\\sim\\mathcal{N}(0,\\sigma^2)\\ \\Rightarrow\\ Y_i\\mid X_i\\sim\\mathcal{N}(\\beta_0+\\beta_1 x_i,\\sigma^2)$.\n",
        "- **Log-likelihood (up to constants):**\n",
        "  $$\n",
        "  \\ell(\\beta_0,\\beta_1,\\sigma)= -n\\log\\sigma -\\frac{n}{2}\\log(2\\pi)\n",
        "  -\\frac{1}{2\\sigma^2}\\sum_i (y_i-\\beta_0-\\beta_1 x_i)^2\n",
        "  $$\n",
        "- **MLE vs OLS:**\n",
        "  - $\\hat{\\beta}_0,\\hat{\\beta}_1$ are the **same** as OLS.\n",
        "  - $\\hat{\\sigma}^2_{\\text{ML}}=\\mathrm{RSS}/n$ (biased); unbiased uses $n-2$.\n",
        "- no R assignment, just the proof"
      ],
      "metadata": {
        "id": "N4OulMHDM1Us"
      }
    },
    {
      "cell_type": "markdown",
      "source": [
        "\n",
        "\n",
        "# <font color=red>**Inference on Parameters**</font>\n",
        "\n",
        "Let $S_{xx}=\\sum_i (x_i-\\bar{x})^2$.\n",
        "\n",
        "- **Standard errors:**\n",
        "  $$\n",
        "  \\mathrm{SE}(\\hat{\\beta}_1)=\\frac{s}{\\sqrt{S_{xx}}},\\qquad\n",
        "  \\mathrm{SE}(\\hat{\\beta}_0)=s\\sqrt{\\frac{1}{n}+\\frac{\\bar{x}^2}{S_{xx}}}\n",
        "  $$\n",
        "- **t-statistics (df $=n-2$):**\n",
        "  $$\n",
        "  t_{\\beta_1}=\\frac{\\hat{\\beta}_1}{\\mathrm{SE}(\\hat{\\beta}_1)},\\qquad\n",
        "  t_{\\beta_0}=\\frac{\\hat{\\beta}_0}{\\mathrm{SE}(\\hat{\\beta}_0)}\n",
        "  $$\n",
        "- **$(1-\\alpha)$ CIs:**\n",
        "  $$\n",
        "  \\hat{\\beta}_j \\ \\pm\\ t_{1-\\alpha/2,\\ n-2}\\ \\mathrm{SE}(\\hat{\\beta}_j),\\quad j\\in\\{0,1\\}\n",
        "  $$"
      ],
      "metadata": {
        "id": "TLOuyofBNFLD"
      }
    },
    {
      "cell_type": "markdown",
      "source": [
        "**extracting necessary information from regression summary**\n",
        "\n",
        "<center> $s^2 = \\frac{1}{n-2} \\sum_i \\left(Y_i - \\hat{Y_i}\\right)^2$\n",
        "</center>\n",
        "$\\qquad$\n",
        "\n",
        "<center> $\\widehat{Var(\\hat{\\beta}_1)} = \\frac{s^2}{\\sum_i (X_i - \\bar{X})^2}$\n",
        "</center>"
      ],
      "metadata": {
        "id": "1btPiQ83OHJx"
      }
    },
    {
      "cell_type": "code",
      "source": [
        "fit = lm(y~x, data = data)\n",
        "summary(fit) #gives you the coefficients\n",
        "beta1hat = fit$coefficients[2] #extract\n",
        "beta0hat = fit$coefficients[1] #extract\n",
        "s = sqrt(fit$sigma^2) #extract\n",
        "\n",
        "#beta hat 1 variance\n",
        "num = s2\n",
        "denom = sum((x - mean(x))^2)\n",
        "beta1hat_var = num / denom\n",
        "beta1hat_var\n",
        "sqrt(beta1hat_var)\n"
      ],
      "metadata": {
        "id": "IeIOCeyJNgkR"
      },
      "execution_count": null,
      "outputs": []
    },
    {
      "cell_type": "markdown",
      "source": [
        "**using information to do a $(1-\\alpha)$ Confidence Interval on the SLOPE**"
      ],
      "metadata": {
        "id": "5boYftpLOLrX"
      }
    },
    {
      "cell_type": "code",
      "source": [
        "se = sqrt(beta1hat_var)\n",
        "alpha = 0.05 #change depending on level\n",
        "degrees_freedom = nrow(data) - 2 #samples minus 2\n",
        "critical_value = qt(1 - alpha/2, degrees_freedom)\n",
        "lower = beta1hat - critical_value * se\n",
        "upper = beta1hat + critical_value * se\n",
        "print(c(lower,upper))\n",
        "\n",
        "fit = lm(y~x, data = data)\n",
        "confint(fit, level = 0.95) #gives you the confidence interval as well\n",
        "\n"
      ],
      "metadata": {
        "id": "FNNSlnMvOdgN"
      },
      "execution_count": null,
      "outputs": []
    },
    {
      "cell_type": "markdown",
      "source": [
        "**Hypothesis Testing on the SLOPE (1)**\n",
        "  - $H_{0}$ : $\\beta_{1} = 0$\n",
        "  - $H_{a}$ : $\\beta_{1} \\neq 0$\n",
        "  - test to see if the slope is significantly different from zero. i.e, is there a relationship between x and y."
      ],
      "metadata": {
        "id": "FXMU9savQ-Rq"
      }
    },
    {
      "cell_type": "code",
      "source": [
        "fit = lm(y~x, data = data)\n",
        "summary(fit) #will give you a p-value or t value to compare t_stat to\n",
        "\n",
        "#t-stat\n",
        "t_stat = beta1hat - 0 / se\n",
        "#p-value by hand or just use summary(fit) table\n",
        "p_value = 2 * pt(abs(t_stat), degrees_freedom, lower.tail = FALSE)\n",
        "\n",
        "\n",
        "\n"
      ],
      "metadata": {
        "id": "JXtfv_B_Q8yQ"
      },
      "execution_count": null,
      "outputs": []
    },
    {
      "cell_type": "markdown",
      "source": [
        "**Hypothesis Testing on the SLOPE (2)**\n",
        "- $H_{0}$ : $\\beta_{1} = .5$\n",
        " - $H_{a}$ : $\\beta_{1} \\neq .5$\n",
        " - testing to see if the slope is significantly different from *.5*\n"
      ],
      "metadata": {
        "id": "gr1ZIoEZXv_r"
      }
    },
    {
      "cell_type": "code",
      "source": [
        "fit = lm(y~x, data = data)\n",
        "summary(fit) #will give you a p-value, t-stat\n",
        "\n",
        "t_stat = beta1hat - .5 / se\n",
        "p_value = 2 * pt(abs(t_stat), degrees_freedom, lower.tail = FALSE)"
      ],
      "metadata": {
        "id": "Hr05hdpgXyNU"
      },
      "execution_count": null,
      "outputs": []
    },
    {
      "cell_type": "markdown",
      "source": [
        "\n",
        "\n",
        "# <font color=red>**Inference on Fitted Values & Predictions at $x_h$**</font>\n",
        "\n",
        "Let $S_{xx}=\\sum_i (x_i-\\bar{x})^2$ and $\\hat{y}_h=\\hat{\\beta}_0+\\hat{\\beta}_1 x_h$.\n",
        "\n",
        "- **SE of fitted mean response:**\n",
        "  $$\n",
        "  \\mathrm{SE}(\\hat{y}_h)=\n",
        "  s\\sqrt{ \\frac{1}{n}+\\frac{(x_h-\\bar{x})^2}{S_{xx}} }\n",
        "  $$\n",
        "- **CI for mean response $E[Y\\mid X=x_h]$:**\n",
        "  $$\n",
        "  \\hat{y}_h \\ \\pm\\ t_{1-\\alpha/2,\\ n-2}\\ \\mathrm{SE}(\\hat{y}_h)\n",
        "  $$\n",
        "- **Prediction SE (adds new-error term):**\n",
        "  $$\n",
        "  s\\sqrt{ 1+\\frac{1}{n}+\\frac{(x_h-\\bar{x})^2}{S_{xx}} }\n",
        "  $$\n",
        "- **PI for new $Y_{\\text{new}}$ at $x_h$:**\n",
        "  $$\n",
        "  \\hat{y}_h \\ \\pm\\ t_{1-\\alpha/2,\\ n-2}\\ s\\sqrt{ 1+\\frac{1}{n}+\\frac{(x_h-\\bar{x})^2}{S_{xx}} }\n",
        "  $$\n",
        "- **Rules of thumb:** CIs/PIs are narrowest near $\\bar{x}$; larger $n$ $\\Rightarrow$ all intervals shrink.\n",
        "- **Confidence Band:** gives us the range of $E(Y_{h})$ given $X_{h}$. This just gives us a confidence interval but for all points since intervals just show us the range for a single point. here we can see the confidence intervals acorss the entire line.\n",
        "- **Prediction Band:** this band gives us the range of $E(Y_{h})$ of a new value of $X_{h}$.\n",
        "- **C.B. VS P.B.** prediction bands are always wider because it accounts for variability in the sample AND the new observation whereas the confidence band only accounts for variability in the sample. More variability = wider range.\n"
      ],
      "metadata": {
        "id": "hd66oooHT2rG"
      }
    },
    {
      "cell_type": "markdown",
      "source": [
        "- **CI vs PI (at $x_h$):**\n",
        "  - **CI** is for the **mean** response $E[Y\\mid X=x_h]$.\n",
        "  - **PI** is for a **new single observation** $Y_{\\text{new}}$ at $x_h$ (always wider)."
      ],
      "metadata": {
        "id": "Ivv_Rbd1ZsY7"
      }
    },
    {
      "cell_type": "markdown",
      "source": [
        "- **Fitted value $\\hat{y}_h$ vs Prediction $y_{\\text{new}}$:**\n",
        "  - CI $\\to$ around $\\hat{y}_h$ (mean).\n",
        "  - PI $\\to$ around $y_{\\text{new}}$ (future draw)."
      ],
      "metadata": {
        "id": "U4FsYETfZ1zK"
      }
    },
    {
      "cell_type": "code",
      "source": [
        "fit = lm(y~x, data = data) #fit the data\n",
        "summary(fit) #get the summarym gives almost all variables needed"
      ],
      "metadata": {
        "id": "-0cQnBnra80N"
      },
      "execution_count": null,
      "outputs": []
    },
    {
      "cell_type": "markdown",
      "source": [
        "**CI and PI**"
      ],
      "metadata": {
        "id": "IqP6ZVP0bXUS"
      }
    },
    {
      "cell_type": "code",
      "source": [
        "#extract values from summary(fit)\n",
        "beta0hat = fit$coefficients[1]\n",
        "beta1hat = fit$coefficients[2]\n",
        "s = sqrt(fit$sigma^2)\n",
        "\n",
        "confint(fit, level = 0.95) #gives you the confidence interval\n",
        "data = data.frame(x = 200)\n",
        "predict(fit, newdata, interval = \"confidence\", level = 0.95) # CI for given value of X\n",
        "\n",
        "#say we have a new oberservation at X = 200\n",
        "new_obs = data.frame(x = 200)\n",
        "predict(fit, newdata = new_obs, interval = \"prediction\", level = 0.95) # PI for a future data point"
      ],
      "metadata": {
        "id": "1g19MhQ_bf4a"
      },
      "execution_count": null,
      "outputs": []
    },
    {
      "cell_type": "markdown",
      "source": [
        "# <font color=red>**Matrix Representation of Regression**</font>\n",
        "\n",
        "- **Model:** $Y=X\\beta+\\varepsilon$, where $X=[\\mathbf{1},\\ x]$ (first column ones, second is $x$).\n",
        "- **OLS solution:**\n",
        "  $$\n",
        "  \\hat{\\beta}=(X^\\top X)^{-1}X^\\top Y\n",
        "  $$\n",
        "- **Variances:**\n",
        "  $$\n",
        "  \\mathrm{Var}(\\hat{\\beta})=\\sigma^2 (X^\\top X)^{-1},\n",
        "  \\qquad\n",
        "  \\mathrm{Var}(\\hat{Y})=\\sigma^2\\, X (X^\\top X)^{-1} X^\\top\n",
        "  $$\n"
      ],
      "metadata": {
        "id": "cMD2dH7_ZHKG"
      }
    },
    {
      "cell_type": "markdown",
      "source": [
        "# <font color=red>**Summary**</font>\n",
        "- One-mean t-CI: $$\\bar{x} \\pm t_{(1-\\alpha/2,n-1)}\\, \\frac{s}{\\sqrt{n}}$$.  \n",
        "- One-mean t-test: $$t= \\frac{(\\bar{x}-\\mu_0)}{(s/\\sqrt{n})}$$\n",
        "\n",
        "- OLS: $$\\hat{\\beta}_1=\\frac{\\sum (x_i-\\bar{x})(y_i-\\bar{y})}{\\sum (x_i-\\bar{x})^2}$$ $$\\hat{\\beta}_0=\\bar{y}-\\hat{\\beta}_1\\bar{x}$$ $$s^2=\\frac{RSS}{(n-2)}$$  \n",
        "\n",
        "- Matrix Representation: $$\\hat{\\beta}=(X^\\top X)^{-1}X^\\top Y$$ $$\\ \\mathrm{Var}(\\hat{\\beta})=\\sigma^2(X^\\top X)^{-1} $$\n",
        "\n",
        "- MLE (normal errors): same $\\hat{\\beta}$ as OLS; $$\\hat{\\sigma}^2_{\\text{ML}}=\\mathrm{RSS}/n \\qquad\\text{(biased)}$$\n",
        "\n",
        "- SEs: $$\\mathrm{SE}(\\hat{\\beta}_1)=\\frac{s}{\\sqrt{S_{xx}}}$$ $$\\ \\mathrm{SE}(\\hat{\\beta}_0)=\\frac{s}{\\sqrt{\\frac{1}{n}+\\frac{\\bar{x}^2}S{_{xx}}}}$$\n",
        "\n",
        "- CI/PI at $x_h$:\n",
        "  - CI: $\\hat{y}_h \\pm t\\, s\\sqrt{\\frac{1}{n}+\\frac{(x_h-\\bar{x})^2}{S_{xx}}}$  \n",
        "  - PI: $\\hat{y}_h \\pm t\\, s\\sqrt{1+\\frac{1}{n}+\\frac{(x_h-\\bar{x})^2}{S_{xx}}}$\n"
      ],
      "metadata": {
        "id": "MACV-b0WFBIr"
      }
    },
    {
      "cell_type": "code",
      "source": [],
      "metadata": {
        "id": "1vbu2O9JWmwn"
      },
      "execution_count": null,
      "outputs": []
    }
  ]
}
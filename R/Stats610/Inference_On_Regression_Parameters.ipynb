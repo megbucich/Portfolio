{
  "nbformat": 4,
  "nbformat_minor": 0,
  "metadata": {
    "colab": {
      "provenance": []
    },
    "kernelspec": {
      "name": "ir",
      "display_name": "R"
    }
  },
  "cells": [
    {
      "cell_type": "markdown",
      "metadata": {
        "id": "gtETsh5j8vHw"
      },
      "source": [
        "# **Class Assignment: Inference on Regression Parameters (20 points)**\n",
        "\n",
        "#### **Meg Bucich**\n"
      ]
    },
    {
      "cell_type": "markdown",
      "metadata": {
        "id": "en9tcPcGuFyc"
      },
      "source": [
        "---\n",
        "**Instructions**: Complete the in-class assignment below.\n",
        "- <font color=red>Tasks</font> indicated in red must be completed to receive credit\n",
        "- Include all code for your work\n",
        "- Include markdown cells with written answers explaining your work when prompted\n",
        "- Your completed assignment must be submitted to Canvas as a .ipynb file by the deadline listed on Canvas\n",
        "---"
      ]
    },
    {
      "cell_type": "markdown",
      "metadata": {
        "id": "c7sADPiGJvIe"
      },
      "source": [
        "<br>"
      ]
    },
    {
      "cell_type": "markdown",
      "metadata": {
        "id": "MfKT4gy91QKV"
      },
      "source": [
        "####<font color=red>Organized</font>\n",
        "* Answers should be organized in the following format for organization and readability\n",
        "\n",
        "<br>\n",
        "\n",
        "```\n",
        "# 1.\n",
        "This will be the code block to answer the first part of a task\n",
        "```\n",
        "\n",
        "1. This will be the text answer/explanation (if prompted) for the first task\n",
        "\n",
        "```\n",
        "# 2.\n",
        "This will be the code block to answer the second part of a task in a separate code cell\n",
        "```\n",
        "\n",
        "2. This will be the text answer/explanation (if prompted) for the second task\n",
        "\n",
        "<br>\n",
        "\n",
        "Continue this format for the remaining subtasks\n"
      ]
    },
    {
      "cell_type": "markdown",
      "metadata": {
        "id": "oJRIVPYCWsrV"
      },
      "source": [
        "<br>\n",
        "\n",
        "---\n",
        "\n",
        "<br>\n",
        "\n",
        "\n",
        "\n",
        "\n"
      ]
    },
    {
      "cell_type": "markdown",
      "source": [
        "####<font color=red>Task 1</font>\n",
        "\n",
        "The goal of this assignment is to code all aspects of parameter inference for simple linear regression by hand (in R).\n",
        "\n",
        "By the end of the assignment, you will know how to calculate the majority of information provided by R's regression summary!\n",
        "\n",
        "1. We will be working with a dataset `mtcars` already loaded into R's workspace. `mtcars` contains data on the attributes of several vehicles.  Run the following command to view the `mtcars` dataset\n",
        "\n",
        "    `head(mtcars)`\n",
        "\n",
        "2. How many rows are in `mtcars`? (use `nrow()`)\n",
        "\n",
        "3. How many columns are in `mtcars`? (use `ncol()`)\n",
        "\n",
        "4. We are interested in investigating the relationship between vehicle quarter mile time in seconds `qsec` and vehicle weight in thousands of pounds `wt`.\n",
        "\n",
        "  * Plot a scatterplot with `qsec` on the y-axis and `wt` on the x-axis. Does there appear to be a relationship between `qsec` and `wt`? Explain your observations in complete sentences."
      ],
      "metadata": {
        "id": "AZ4bgrGz28TA"
      }
    },
    {
      "cell_type": "code",
      "source": [
        "#1\n",
        "head(mtcars)"
      ],
      "metadata": {
        "colab": {
          "base_uri": "https://localhost:8080/",
          "height": 286
        },
        "id": "KXVCV7ofjegL",
        "outputId": "450bf7be-6566-4503-bdfc-bace51c38c9d"
      },
      "execution_count": 1,
      "outputs": [
        {
          "output_type": "display_data",
          "data": {
            "text/html": [
              "<table class=\"dataframe\">\n",
              "<caption>A data.frame: 6 × 11</caption>\n",
              "<thead>\n",
              "\t<tr><th></th><th scope=col>mpg</th><th scope=col>cyl</th><th scope=col>disp</th><th scope=col>hp</th><th scope=col>drat</th><th scope=col>wt</th><th scope=col>qsec</th><th scope=col>vs</th><th scope=col>am</th><th scope=col>gear</th><th scope=col>carb</th></tr>\n",
              "\t<tr><th></th><th scope=col>&lt;dbl&gt;</th><th scope=col>&lt;dbl&gt;</th><th scope=col>&lt;dbl&gt;</th><th scope=col>&lt;dbl&gt;</th><th scope=col>&lt;dbl&gt;</th><th scope=col>&lt;dbl&gt;</th><th scope=col>&lt;dbl&gt;</th><th scope=col>&lt;dbl&gt;</th><th scope=col>&lt;dbl&gt;</th><th scope=col>&lt;dbl&gt;</th><th scope=col>&lt;dbl&gt;</th></tr>\n",
              "</thead>\n",
              "<tbody>\n",
              "\t<tr><th scope=row>Mazda RX4</th><td>21.0</td><td>6</td><td>160</td><td>110</td><td>3.90</td><td>2.620</td><td>16.46</td><td>0</td><td>1</td><td>4</td><td>4</td></tr>\n",
              "\t<tr><th scope=row>Mazda RX4 Wag</th><td>21.0</td><td>6</td><td>160</td><td>110</td><td>3.90</td><td>2.875</td><td>17.02</td><td>0</td><td>1</td><td>4</td><td>4</td></tr>\n",
              "\t<tr><th scope=row>Datsun 710</th><td>22.8</td><td>4</td><td>108</td><td> 93</td><td>3.85</td><td>2.320</td><td>18.61</td><td>1</td><td>1</td><td>4</td><td>1</td></tr>\n",
              "\t<tr><th scope=row>Hornet 4 Drive</th><td>21.4</td><td>6</td><td>258</td><td>110</td><td>3.08</td><td>3.215</td><td>19.44</td><td>1</td><td>0</td><td>3</td><td>1</td></tr>\n",
              "\t<tr><th scope=row>Hornet Sportabout</th><td>18.7</td><td>8</td><td>360</td><td>175</td><td>3.15</td><td>3.440</td><td>17.02</td><td>0</td><td>0</td><td>3</td><td>2</td></tr>\n",
              "\t<tr><th scope=row>Valiant</th><td>18.1</td><td>6</td><td>225</td><td>105</td><td>2.76</td><td>3.460</td><td>20.22</td><td>1</td><td>0</td><td>3</td><td>1</td></tr>\n",
              "</tbody>\n",
              "</table>\n"
            ],
            "text/markdown": "\nA data.frame: 6 × 11\n\n| <!--/--> | mpg &lt;dbl&gt; | cyl &lt;dbl&gt; | disp &lt;dbl&gt; | hp &lt;dbl&gt; | drat &lt;dbl&gt; | wt &lt;dbl&gt; | qsec &lt;dbl&gt; | vs &lt;dbl&gt; | am &lt;dbl&gt; | gear &lt;dbl&gt; | carb &lt;dbl&gt; |\n|---|---|---|---|---|---|---|---|---|---|---|---|\n| Mazda RX4 | 21.0 | 6 | 160 | 110 | 3.90 | 2.620 | 16.46 | 0 | 1 | 4 | 4 |\n| Mazda RX4 Wag | 21.0 | 6 | 160 | 110 | 3.90 | 2.875 | 17.02 | 0 | 1 | 4 | 4 |\n| Datsun 710 | 22.8 | 4 | 108 |  93 | 3.85 | 2.320 | 18.61 | 1 | 1 | 4 | 1 |\n| Hornet 4 Drive | 21.4 | 6 | 258 | 110 | 3.08 | 3.215 | 19.44 | 1 | 0 | 3 | 1 |\n| Hornet Sportabout | 18.7 | 8 | 360 | 175 | 3.15 | 3.440 | 17.02 | 0 | 0 | 3 | 2 |\n| Valiant | 18.1 | 6 | 225 | 105 | 2.76 | 3.460 | 20.22 | 1 | 0 | 3 | 1 |\n\n",
            "text/latex": "A data.frame: 6 × 11\n\\begin{tabular}{r|lllllllllll}\n  & mpg & cyl & disp & hp & drat & wt & qsec & vs & am & gear & carb\\\\\n  & <dbl> & <dbl> & <dbl> & <dbl> & <dbl> & <dbl> & <dbl> & <dbl> & <dbl> & <dbl> & <dbl>\\\\\n\\hline\n\tMazda RX4 & 21.0 & 6 & 160 & 110 & 3.90 & 2.620 & 16.46 & 0 & 1 & 4 & 4\\\\\n\tMazda RX4 Wag & 21.0 & 6 & 160 & 110 & 3.90 & 2.875 & 17.02 & 0 & 1 & 4 & 4\\\\\n\tDatsun 710 & 22.8 & 4 & 108 &  93 & 3.85 & 2.320 & 18.61 & 1 & 1 & 4 & 1\\\\\n\tHornet 4 Drive & 21.4 & 6 & 258 & 110 & 3.08 & 3.215 & 19.44 & 1 & 0 & 3 & 1\\\\\n\tHornet Sportabout & 18.7 & 8 & 360 & 175 & 3.15 & 3.440 & 17.02 & 0 & 0 & 3 & 2\\\\\n\tValiant & 18.1 & 6 & 225 & 105 & 2.76 & 3.460 & 20.22 & 1 & 0 & 3 & 1\\\\\n\\end{tabular}\n",
            "text/plain": [
              "                  mpg  cyl disp hp  drat wt    qsec  vs am gear carb\n",
              "Mazda RX4         21.0 6   160  110 3.90 2.620 16.46 0  1  4    4   \n",
              "Mazda RX4 Wag     21.0 6   160  110 3.90 2.875 17.02 0  1  4    4   \n",
              "Datsun 710        22.8 4   108   93 3.85 2.320 18.61 1  1  4    1   \n",
              "Hornet 4 Drive    21.4 6   258  110 3.08 3.215 19.44 1  0  3    1   \n",
              "Hornet Sportabout 18.7 8   360  175 3.15 3.440 17.02 0  0  3    2   \n",
              "Valiant           18.1 6   225  105 2.76 3.460 20.22 1  0  3    1   "
            ]
          },
          "metadata": {}
        }
      ]
    },
    {
      "cell_type": "code",
      "source": [
        "#2\n",
        "nrow(mtcars)"
      ],
      "metadata": {
        "colab": {
          "base_uri": "https://localhost:8080/",
          "height": 34
        },
        "id": "5nJkXNu2jp-W",
        "outputId": "79f8bf00-7bb3-4e0f-a995-05bd68039335"
      },
      "execution_count": 3,
      "outputs": [
        {
          "output_type": "display_data",
          "data": {
            "text/html": [
              "32"
            ],
            "text/markdown": "32",
            "text/latex": "32",
            "text/plain": [
              "[1] 32"
            ]
          },
          "metadata": {}
        }
      ]
    },
    {
      "cell_type": "code",
      "source": [
        "#3\n",
        "ncol(mtcars)"
      ],
      "metadata": {
        "colab": {
          "base_uri": "https://localhost:8080/",
          "height": 34
        },
        "id": "-1o9DpWSjwIg",
        "outputId": "8e2be53a-d291-49b7-bdb2-58fbab6ee705"
      },
      "execution_count": 4,
      "outputs": [
        {
          "output_type": "display_data",
          "data": {
            "text/html": [
              "11"
            ],
            "text/markdown": "11",
            "text/latex": "11",
            "text/plain": [
              "[1] 11"
            ]
          },
          "metadata": {}
        }
      ]
    },
    {
      "cell_type": "code",
      "source": [
        "#4\n",
        "qsec = mtcars$qsec\n",
        "wt = mtcars$wt\n",
        "plot(wt,qsec)"
      ],
      "metadata": {
        "colab": {
          "base_uri": "https://localhost:8080/",
          "height": 437
        },
        "id": "rjE3NrFej13f",
        "outputId": "d1a834be-965a-4e39-c126-595b571e4285"
      },
      "execution_count": 6,
      "outputs": [
        {
          "output_type": "display_data",
          "data": {
            "text/plain": [
              "plot without title"
            ],
            "image/png": "[encoded data removed]"
          },
          "metadata": {
            "image/png": {
              "width": 420,
              "height": 420
            }
          }
        }
      ]
    },
    {
      "cell_type": "markdown",
      "source": [
        "at a glance, it does not look like there is much of a relationship between wt and qsec. Mulitple weight values have the same qsec values and there doesn't seem to be a trend in either the positive or negative direction."
      ],
      "metadata": {
        "id": "Nm0gVr4dkM0q"
      }
    },
    {
      "cell_type": "markdown",
      "metadata": {
        "id": "8YPSX1qZ2-jU"
      },
      "source": [
        "<br>\n",
        "\n",
        "---\n",
        "\n",
        "<br>\n",
        "\n",
        "\n",
        "\n",
        "\n"
      ]
    },
    {
      "cell_type": "markdown",
      "source": [
        "####<font color=red>Task 2</font>\n",
        "\n",
        "1. Regress `qsec` (y-variable) on `wt` (x-variable) using `lm()` and store as `fit`. Show the regression `summary()`.\n",
        "\n",
        "2. Extract the slope value from the regression and store as `beta1hat`:\n",
        "\n",
        "    `beta1hat <- fit$coefficients[2]`\n",
        "\n",
        "  Confirm that you have extracted the appropriate value.\n",
        "\n",
        "3. Calculate the estimate for the error variance as store as `s2`. This should be the same value as the residual standard error squared from the regression summary (1.789^2).\n",
        "\n",
        "<center> $s^2 = \\frac{1}{n-2} \\sum_i \\left(Y_i - \\hat{Y_i}\\right)^2$\n",
        "</center>\n",
        "\n",
        "\n",
        "4. Calculate the estimate for the variance of $\\hat{\\beta}_1$ and store as `beta1hat_var`. Verify your answer with the regression summary.\n",
        "\n",
        "<center> $\\widehat{Var(\\hat{\\beta}_1)} = \\frac{s^2}{\\sum_i (X_i - \\bar{X})^2}$\n",
        "</center>"
      ],
      "metadata": {
        "id": "rOR0CCeq5Nf-"
      }
    },
    {
      "cell_type": "code",
      "source": [
        "#1\n",
        "fit = lm(qsec ~ wt, data = mtcars)\n",
        "summary(fit)"
      ],
      "metadata": {
        "colab": {
          "base_uri": "https://localhost:8080/",
          "height": 329
        },
        "id": "5V_CV-bgkpWk",
        "outputId": "fa11d989-eaba-4275-c4dd-a9aecc1a3778"
      },
      "execution_count": 8,
      "outputs": [
        {
          "output_type": "display_data",
          "data": {
            "text/plain": [
              "\n",
              "Call:\n",
              "lm(formula = qsec ~ wt, data = mtcars)\n",
              "\n",
              "Residuals:\n",
              "    Min      1Q  Median      3Q     Max \n",
              "-3.3638 -1.0766  0.2051  0.8655  5.0298 \n",
              "\n",
              "Coefficients:\n",
              "            Estimate Std. Error t value Pr(>|t|)    \n",
              "(Intercept)  18.8753     1.1025  17.120   <2e-16 ***\n",
              "wt           -0.3191     0.3283  -0.972    0.339    \n",
              "---\n",
              "Signif. codes:  0 ‘***’ 0.001 ‘**’ 0.01 ‘*’ 0.05 ‘.’ 0.1 ‘ ’ 1\n",
              "\n",
              "Residual standard error: 1.789 on 30 degrees of freedom\n",
              "Multiple R-squared:  0.03053,\tAdjusted R-squared:  -0.00179 \n",
              "F-statistic: 0.9446 on 1 and 30 DF,  p-value: 0.3389\n"
            ]
          },
          "metadata": {}
        }
      ]
    },
    {
      "cell_type": "code",
      "source": [
        "#2\n",
        "beta1hat = fit$coefficients[2]\n",
        "beta1hat"
      ],
      "metadata": {
        "colab": {
          "base_uri": "https://localhost:8080/",
          "height": 34
        },
        "id": "F81-flkhkqFr",
        "outputId": "5056e5c6-2ee6-458c-8fb0-eff82461b453"
      },
      "execution_count": 10,
      "outputs": [
        {
          "output_type": "display_data",
          "data": {
            "text/html": [
              "<strong>wt:</strong> -0.319081182265504"
            ],
            "text/markdown": "**wt:** -0.319081182265504",
            "text/latex": "\\textbf{wt:} -0.319081182265504",
            "text/plain": [
              "        wt \n",
              "-0.3190812 "
            ]
          },
          "metadata": {}
        }
      ]
    },
    {
      "cell_type": "markdown",
      "source": [
        "<center> $s^2 = \\frac{1}{n-2} \\sum_i \\left(Y_i - \\hat{Y_i}\\right)^2$\n",
        "</center>"
      ],
      "metadata": {
        "id": "EsPkbllt5BU8"
      }
    },
    {
      "cell_type": "code",
      "source": [
        "num = sum((qsec - fit$fitted.values)^2)\n",
        "denom = nrow(mtcars) - 2\n",
        "s2 = num / denom\n",
        "s2\n",
        "sqrt(s2)"
      ],
      "metadata": {
        "colab": {
          "base_uri": "https://localhost:8080/",
          "height": 52
        },
        "id": "z7zJwBvl7q-p",
        "outputId": "bddbd88c-a8b2-4914-fd30-6ba7c2b48c4f"
      },
      "execution_count": 33,
      "outputs": [
        {
          "output_type": "display_data",
          "data": {
            "text/html": [
              "3.19888245132095"
            ],
            "text/markdown": "3.19888245132095",
            "text/latex": "3.19888245132095",
            "text/plain": [
              "[1] 3.198882"
            ]
          },
          "metadata": {}
        },
        {
          "output_type": "display_data",
          "data": {
            "text/html": [
              "1.78854199037119"
            ],
            "text/markdown": "1.78854199037119",
            "text/latex": "1.78854199037119",
            "text/plain": [
              "[1] 1.788542"
            ]
          },
          "metadata": {}
        }
      ]
    },
    {
      "cell_type": "markdown",
      "source": [
        "<center> $\\widehat{Var(\\hat{\\beta}_1)} = \\frac{s^2}{\\sum_i (X_i - \\bar{X})^2}$\n",
        "</center>"
      ],
      "metadata": {
        "id": "7gTivUF68Eld"
      }
    },
    {
      "cell_type": "code",
      "source": [
        "#4\n",
        "num = s2\n",
        "denom = sum((wt - mean(wt))^2)\n",
        "beta1hat_var = num / denom\n",
        "beta1hat_var\n",
        "sqrt(beta1hat_var)"
      ],
      "metadata": {
        "colab": {
          "base_uri": "https://localhost:8080/",
          "height": 52
        },
        "id": "KRvQconnkqcz",
        "outputId": "d61cbed8-c41b-4cd0-ee0c-fc4e86d7bc28"
      },
      "execution_count": 36,
      "outputs": [
        {
          "output_type": "display_data",
          "data": {
            "text/html": [
              "0.107783604999812"
            ],
            "text/markdown": "0.107783604999812",
            "text/latex": "0.107783604999812",
            "text/plain": [
              "[1] 0.1077836"
            ]
          },
          "metadata": {}
        },
        {
          "output_type": "display_data",
          "data": {
            "text/html": [
              "0.328304134911231"
            ],
            "text/markdown": "0.328304134911231",
            "text/latex": "0.328304134911231",
            "text/plain": [
              "[1] 0.3283041"
            ]
          },
          "metadata": {}
        }
      ]
    },
    {
      "cell_type": "markdown",
      "metadata": {
        "id": "V7hCHbOc-x5M"
      },
      "source": [
        "<br>\n",
        "\n",
        "---\n",
        "\n",
        "<br>\n",
        "\n",
        "\n",
        "\n",
        "\n"
      ]
    },
    {
      "cell_type": "markdown",
      "source": [
        "####<font color=red>Task 3</font>\n",
        "\n",
        "You now have the slope estimate $\\hat{\\beta}_1$ and the variance of the slope estimate $Var(\\hat{\\beta}_1)$. We can now conduct statistical inference (by hand).\n",
        "\n",
        "1. By hand (in R), calculate a 95% confidence interval for the slope. Use `qt()` to determine your critical values on the t-distribution.\n",
        "\n",
        "2. Compare your 95% confidence interval to the built-in function in R (`confint(fit)`).\n",
        "\n",
        "3. What is the interpretation of your 95% confidence interval?\n",
        "\n",
        "4. Is the slope significantly different from 0? Explain your reasoning.\n",
        "    \n",
        "    What does this mean in the context of the relationship between vehicle quarter mile time and vehicle weight?\n",
        "\n",
        "5. Calculate a 20% confidence interval and verify using `confint(fit, level = 0.20)`. [Note 20% CIs are never usually calculated!]. Based on your 20% confidence interval, is the slope significantly different from 0? Explain why you observe this result."
      ],
      "metadata": {
        "id": "Xhpy79Mp-x5N"
      }
    },
    {
      "cell_type": "code",
      "source": [
        "#1\n",
        "se = sqrt(beta1hat_var)\n",
        "alpha = 0.05\n",
        "degrees_freedom = nrow(mtcars) - 2\n",
        "critical_value = qt(1 - alpha/2, degrees_freedom)\n",
        "lower = beta1hat - critical_value * se\n",
        "upper = beta1hat + critical_value * se\n",
        "print(c(lower,upper))"
      ],
      "metadata": {
        "colab": {
          "base_uri": "https://localhost:8080/"
        },
        "id": "b1ulNRNSkthp",
        "outputId": "d0af8ad7-41d1-4fb0-c468-bf53ccaa9b20"
      },
      "execution_count": 50,
      "outputs": [
        {
          "output_type": "stream",
          "name": "stdout",
          "text": [
            "        wt         wt \n",
            "-0.9895677  0.3514053 \n"
          ]
        }
      ]
    },
    {
      "cell_type": "code",
      "source": [
        "#2\n",
        "confint(fit)"
      ],
      "metadata": {
        "colab": {
          "base_uri": "https://localhost:8080/",
          "height": 129
        },
        "id": "kv_gG67Okut9",
        "outputId": "630ed503-fd52-408d-a17d-2129e9fd2cf7"
      },
      "execution_count": 40,
      "outputs": [
        {
          "output_type": "display_data",
          "data": {
            "text/html": [
              "<table class=\"dataframe\">\n",
              "<caption>A matrix: 2 × 2 of type dbl</caption>\n",
              "<thead>\n",
              "\t<tr><th></th><th scope=col>2.5 %</th><th scope=col>97.5 %</th></tr>\n",
              "</thead>\n",
              "<tbody>\n",
              "\t<tr><th scope=row>(Intercept)</th><td>16.6236212</td><td>21.1270067</td></tr>\n",
              "\t<tr><th scope=row>wt</th><td>-0.9895677</td><td> 0.3514053</td></tr>\n",
              "</tbody>\n",
              "</table>\n"
            ],
            "text/markdown": "\nA matrix: 2 × 2 of type dbl\n\n| <!--/--> | 2.5 % | 97.5 % |\n|---|---|---|\n| (Intercept) | 16.6236212 | 21.1270067 |\n| wt | -0.9895677 |  0.3514053 |\n\n",
            "text/latex": "A matrix: 2 × 2 of type dbl\n\\begin{tabular}{r|ll}\n  & 2.5 \\% & 97.5 \\%\\\\\n\\hline\n\t(Intercept) & 16.6236212 & 21.1270067\\\\\n\twt & -0.9895677 &  0.3514053\\\\\n\\end{tabular}\n",
            "text/plain": [
              "            2.5 %      97.5 %    \n",
              "(Intercept) 16.6236212 21.1270067\n",
              "wt          -0.9895677  0.3514053"
            ]
          },
          "metadata": {}
        }
      ]
    },
    {
      "cell_type": "code",
      "source": [
        "#3"
      ],
      "metadata": {
        "id": "0yPYigcQkuz3"
      },
      "execution_count": null,
      "outputs": []
    },
    {
      "cell_type": "markdown",
      "source": [
        "We are 95% sure that the true population slope is in the interval (-.9895677,.3514053)"
      ],
      "metadata": {
        "id": "nCAGePy5_LZg"
      }
    },
    {
      "cell_type": "code",
      "source": [
        "#4"
      ],
      "metadata": {
        "id": "DfxyqKHQku4u"
      },
      "execution_count": null,
      "outputs": []
    },
    {
      "cell_type": "markdown",
      "source": [
        "Since zero falls in our C.I., we cannot say that the slope is significantly different from zero at an alpha level of .05.\n",
        "This means that the quarter mile time and the vechile weight are not correlated."
      ],
      "metadata": {
        "id": "qj3jLBhL_dEf"
      }
    },
    {
      "cell_type": "code",
      "source": [
        "#5\n",
        "confint(fit,level = .20)"
      ],
      "metadata": {
        "colab": {
          "base_uri": "https://localhost:8080/",
          "height": 129
        },
        "id": "lu5LCl4Vku8V",
        "outputId": "20ae4f55-3ce7-4b69-a6f9-c9cdf168e809"
      },
      "execution_count": 42,
      "outputs": [
        {
          "output_type": "display_data",
          "data": {
            "text/html": [
              "<table class=\"dataframe\">\n",
              "<caption>A matrix: 2 × 2 of type dbl</caption>\n",
              "<thead>\n",
              "\t<tr><th></th><th scope=col>40 %</th><th scope=col>60 %</th></tr>\n",
              "</thead>\n",
              "<tbody>\n",
              "\t<tr><th scope=row>(Intercept)</th><td>18.5934981</td><td>19.1571298</td></tr>\n",
              "\t<tr><th scope=row>wt</th><td>-0.4029975</td><td>-0.2351649</td></tr>\n",
              "</tbody>\n",
              "</table>\n"
            ],
            "text/markdown": "\nA matrix: 2 × 2 of type dbl\n\n| <!--/--> | 40 % | 60 % |\n|---|---|---|\n| (Intercept) | 18.5934981 | 19.1571298 |\n| wt | -0.4029975 | -0.2351649 |\n\n",
            "text/latex": "A matrix: 2 × 2 of type dbl\n\\begin{tabular}{r|ll}\n  & 40 \\% & 60 \\%\\\\\n\\hline\n\t(Intercept) & 18.5934981 & 19.1571298\\\\\n\twt & -0.4029975 & -0.2351649\\\\\n\\end{tabular}\n",
            "text/plain": [
              "            40 %       60 %      \n",
              "(Intercept) 18.5934981 19.1571298\n",
              "wt          -0.4029975 -0.2351649"
            ]
          },
          "metadata": {}
        }
      ]
    },
    {
      "cell_type": "markdown",
      "source": [
        "Now, zero does not fall in this C.I. so we can be 20% sure that the true population slope is different from zero."
      ],
      "metadata": {
        "id": "_4cs_1y6_-2V"
      }
    },
    {
      "cell_type": "markdown",
      "metadata": {
        "id": "Fw0n2gZuE3To"
      },
      "source": [
        "<br>\n",
        "\n",
        "---\n",
        "\n",
        "<br>\n",
        "\n",
        "\n",
        "\n",
        "\n"
      ]
    },
    {
      "cell_type": "markdown",
      "source": [
        "####<font color=red>Task 4</font>\n",
        "\n",
        "T-values and p-values by hand.\n",
        "\n",
        "1. We are interested in determining if the slope is significantly different from 0. Write the null and alternative hypotheses for this test.\n",
        "\n",
        "2. What is your t-statistic? Verify your answer with the regression summary.\n",
        "\n",
        "3. What is the p-value associated with your t-statistic? Verify your answer with the regression summary.\n",
        "\n",
        "4. Determine if the slope is significantly different from zero at the 5% Type I error level. What is your conclusion in the context of the application? Explain your answer."
      ],
      "metadata": {
        "id": "se80B3RlE3Tp"
      }
    },
    {
      "cell_type": "code",
      "source": [
        "#1"
      ],
      "metadata": {
        "id": "6NyWErOHkyYC"
      },
      "execution_count": null,
      "outputs": []
    },
    {
      "cell_type": "markdown",
      "source": [
        "$H_{0}$ : $\\beta_{1} = 0$\\\n",
        "$H_{a}$ : $\\beta_{1} \\neq 0$"
      ],
      "metadata": {
        "id": "lZOXxjQpAQMA"
      }
    },
    {
      "cell_type": "code",
      "source": [
        "#2"
      ],
      "metadata": {
        "id": "Qy5Zavs6kydL"
      },
      "execution_count": null,
      "outputs": []
    },
    {
      "cell_type": "code",
      "source": [
        "t_stat = beta1hat / se\n",
        "t_stat\n",
        "summary(fit)"
      ],
      "metadata": {
        "colab": {
          "base_uri": "https://localhost:8080/",
          "height": 347
        },
        "id": "3M_UkiY2Azbm",
        "outputId": "9c1827a0-f450-483e-c24b-a33e67f989cc"
      },
      "execution_count": 45,
      "outputs": [
        {
          "output_type": "display_data",
          "data": {
            "text/html": [
              "<strong>wt:</strong> -0.971907290633971"
            ],
            "text/markdown": "**wt:** -0.971907290633971",
            "text/latex": "\\textbf{wt:} -0.971907290633971",
            "text/plain": [
              "        wt \n",
              "-0.9719073 "
            ]
          },
          "metadata": {}
        },
        {
          "output_type": "display_data",
          "data": {
            "text/plain": [
              "\n",
              "Call:\n",
              "lm(formula = qsec ~ wt, data = mtcars)\n",
              "\n",
              "Residuals:\n",
              "    Min      1Q  Median      3Q     Max \n",
              "-3.3638 -1.0766  0.2051  0.8655  5.0298 \n",
              "\n",
              "Coefficients:\n",
              "            Estimate Std. Error t value Pr(>|t|)    \n",
              "(Intercept)  18.8753     1.1025  17.120   <2e-16 ***\n",
              "wt           -0.3191     0.3283  -0.972    0.339    \n",
              "---\n",
              "Signif. codes:  0 ‘***’ 0.001 ‘**’ 0.01 ‘*’ 0.05 ‘.’ 0.1 ‘ ’ 1\n",
              "\n",
              "Residual standard error: 1.789 on 30 degrees of freedom\n",
              "Multiple R-squared:  0.03053,\tAdjusted R-squared:  -0.00179 \n",
              "F-statistic: 0.9446 on 1 and 30 DF,  p-value: 0.3389\n"
            ]
          },
          "metadata": {}
        }
      ]
    },
    {
      "cell_type": "code",
      "source": [
        "#3\n",
        "p_value = 2 * pt(abs(t_stat), degrees_freedom, lower.tail = FALSE)\n",
        "print(p_value)\n",
        "summary(fit)\n"
      ],
      "metadata": {
        "colab": {
          "base_uri": "https://localhost:8080/",
          "height": 364
        },
        "id": "Eaz-Xrhvkyhd",
        "outputId": "550bfb10-84e6-4ba0-e8ee-fa2f61dfaefd"
      },
      "execution_count": 53,
      "outputs": [
        {
          "output_type": "stream",
          "name": "stdout",
          "text": [
            "       wt \n",
            "0.3388683 \n"
          ]
        },
        {
          "output_type": "display_data",
          "data": {
            "text/plain": [
              "\n",
              "Call:\n",
              "lm(formula = qsec ~ wt, data = mtcars)\n",
              "\n",
              "Residuals:\n",
              "    Min      1Q  Median      3Q     Max \n",
              "-3.3638 -1.0766  0.2051  0.8655  5.0298 \n",
              "\n",
              "Coefficients:\n",
              "            Estimate Std. Error t value Pr(>|t|)    \n",
              "(Intercept)  18.8753     1.1025  17.120   <2e-16 ***\n",
              "wt           -0.3191     0.3283  -0.972    0.339    \n",
              "---\n",
              "Signif. codes:  0 ‘***’ 0.001 ‘**’ 0.01 ‘*’ 0.05 ‘.’ 0.1 ‘ ’ 1\n",
              "\n",
              "Residual standard error: 1.789 on 30 degrees of freedom\n",
              "Multiple R-squared:  0.03053,\tAdjusted R-squared:  -0.00179 \n",
              "F-statistic: 0.9446 on 1 and 30 DF,  p-value: 0.3389\n"
            ]
          },
          "metadata": {}
        }
      ]
    },
    {
      "cell_type": "code",
      "source": [
        "#4"
      ],
      "metadata": {
        "id": "Mtym43ZzkylR"
      },
      "execution_count": null,
      "outputs": []
    },
    {
      "cell_type": "markdown",
      "source": [
        "our alpha value is large which means we have a 33% chance of making a type 1 error. This means we fail to reject the null. there is not enough evidence to say that the true population slope is significantly different from zero.\n"
      ],
      "metadata": {
        "id": "VGGAGNnjDKGe"
      }
    },
    {
      "cell_type": "markdown",
      "metadata": {
        "id": "TT86XHxtGjhL"
      },
      "source": [
        "<br>\n",
        "\n",
        "---\n",
        "\n",
        "<br>\n",
        "\n",
        "\n",
        "\n",
        "\n"
      ]
    },
    {
      "cell_type": "markdown",
      "source": [
        "####<font color=red>Task 5</font>\n",
        "\n",
        "T-values and p-values by hand.\n",
        "\n",
        "1. We are interested in determining if the slope is significantly different from 0.5. Write the null and alternative hypotheses for this test.\n",
        "\n",
        "2. What is your t-statistic? [answer: -2.49]\n",
        "\n",
        "3. What is the p-value associated with your t-statistic? [answer: 0.02]\n",
        "\n",
        "4. Determine if the slope is significantly different from 0.5 at the 5% Type I error level. What is your conclusion in the context of the application? Explain your answer."
      ],
      "metadata": {
        "id": "k2zMNZlHGjhM"
      }
    },
    {
      "cell_type": "code",
      "source": [
        "#1"
      ],
      "metadata": {
        "id": "Hh2I5p7jk2zr"
      },
      "execution_count": null,
      "outputs": []
    },
    {
      "cell_type": "markdown",
      "source": [
        "$H_{0}$ : $\\beta_{1} = .5$\\\n",
        "$H_{a}$ : $\\beta_{1} \\neq .5$"
      ],
      "metadata": {
        "id": "7CFb0OYGD0Ry"
      }
    },
    {
      "cell_type": "code",
      "source": [
        "#2\n",
        "t_stat = (beta1hat - .5) / se\n",
        "t_stat"
      ],
      "metadata": {
        "colab": {
          "base_uri": "https://localhost:8080/",
          "height": 34
        },
        "id": "gBpMGftjk3jD",
        "outputId": "78f70321-f33f-4adf-e488-5cd8a76597b8"
      },
      "execution_count": 55,
      "outputs": [
        {
          "output_type": "display_data",
          "data": {
            "text/html": [
              "<strong>wt:</strong> -2.49488536745653"
            ],
            "text/markdown": "**wt:** -2.49488536745653",
            "text/latex": "\\textbf{wt:} -2.49488536745653",
            "text/plain": [
              "       wt \n",
              "-2.494885 "
            ]
          },
          "metadata": {}
        }
      ]
    },
    {
      "cell_type": "code",
      "source": [
        "#3\n",
        "p_value = 2 * pt(abs(t_stat), degrees_freedom, lower.tail = FALSE)\n",
        "print(p_value)"
      ],
      "metadata": {
        "colab": {
          "base_uri": "https://localhost:8080/"
        },
        "id": "Qa2o-yOHk3nk",
        "outputId": "b82a109a-1ab9-4622-bfe4-cc342e1fec3c"
      },
      "execution_count": 56,
      "outputs": [
        {
          "output_type": "stream",
          "name": "stdout",
          "text": [
            "        wt \n",
            "0.01833223 \n"
          ]
        }
      ]
    },
    {
      "cell_type": "code",
      "source": [
        "#4"
      ],
      "metadata": {
        "id": "MifnlM83k3qt"
      },
      "execution_count": null,
      "outputs": []
    },
    {
      "cell_type": "markdown",
      "source": [
        "our alpha is smaller than .05 so we can reject the null. This means there is enough evidence to conclude that the true population slope is significantly different than zero. Meaning we have a 2% chance of making a type 1 error."
      ],
      "metadata": {
        "id": "av0eFFUVEWy5"
      }
    },
    {
      "cell_type": "markdown",
      "source": [
        "<br>\n",
        "\n",
        "\n",
        "---\n",
        "\n",
        "\n",
        "\n",
        "---\n",
        "\n"
      ],
      "metadata": {
        "id": "x7m1uotiHkqq"
      }
    },
    {
      "cell_type": "markdown",
      "source": [
        "## **Distribution of Regression Parameters**\n"
      ],
      "metadata": {
        "id": "mEmVPqFrC8IP"
      }
    },
    {
      "cell_type": "markdown",
      "source": [
        "####<font color=red>Task 1</font>\n",
        "\n",
        "The code below simulates a population dataset called `sim`, which contains an `x` predictor variable and `y` response variable. The population data has the following attributes\n",
        "\n",
        "  *   When regressing `y` on `x`, the true slope is 2\n",
        "  *   When regressing `y` on `x`, the true intercept is 1\n",
        "  *   True errors are normally distributed with mean 0 and variance ###\n",
        "\n",
        "  Note that the true population information is not typically known. This is to illustrate sampling variability in regression.\n",
        "\n",
        "<br>\n",
        "\n",
        "Copy and paste the code below in a code cell and run.\n",
        "\n",
        "<br>\n",
        "\n",
        "```\n",
        "#############################################\n",
        "#### Code to create simulated population ####\n",
        "#############################################\n",
        "\n",
        "# population size\n",
        "N <- 1000000\n",
        "\n",
        "# ignore\n",
        "set.seed(1)\n",
        "\n",
        "# create a synthetic population\n",
        "beta0true <- 1          # true population intercept      \n",
        "beta1true <- 2          # true population slope\n",
        "error     <- rnorm(N)   # random statistical error\n",
        "\n",
        "x <- sample(1:100, N,   # true population x values\n",
        "            replace = TRUE)\n",
        "\n",
        "# true population regression\n",
        "y <- beta0true + beta1true * x + error\n",
        "\n",
        "# create true population dataset\n",
        "sim <- data.frame(x, y)\n",
        "```\n",
        "\n",
        "<br>"
      ],
      "metadata": {
        "id": "aHGbUCcDVqWJ"
      }
    },
    {
      "cell_type": "code",
      "source": [
        "# population size\n",
        "N <- 1000000\n",
        "\n",
        "# ignore\n",
        "set.seed(1)\n",
        "\n",
        "# create a synthetic population\n",
        "beta0true <- 1          # true population intercept\n",
        "beta1true <- 2          # true population slope\n",
        "error     <- rnorm(N)   # random statistical error\n",
        "\n",
        "x <- sample(1:100, N,   # true population x values\n",
        "            replace = TRUE)\n",
        "\n",
        "# true population regression\n",
        "y <- beta0true + beta1true * x + error\n",
        "\n",
        "# create true population dataset\n",
        "sim <- data.frame(x, y)"
      ],
      "metadata": {
        "id": "L6G0r-lxEtdI"
      },
      "execution_count": 3,
      "outputs": []
    },
    {
      "cell_type": "markdown",
      "source": [
        "<br>\n",
        "\n",
        "\n",
        "---\n",
        "\n"
      ],
      "metadata": {
        "id": "NUdApvYEWACG"
      }
    },
    {
      "cell_type": "markdown",
      "source": [
        "####<font color=red>Task 2</font>\n",
        "\n",
        "1. The following code takes a random sample of size `n = 10` of the population and stores the dataset as a variable called `sample_1`. Run the code in the cell block below.\n",
        "\n",
        "```\n",
        "set.seed(1)  # ignore\n",
        "\n",
        "#############################################\n",
        "############ First Random Sample ############\n",
        "#############################################\n",
        "\n",
        "# sample size\n",
        "n <- 10\n",
        "\n",
        "# random sample from population\n",
        "sample_1 <- sim[sample(1:N, n, replace = FALSE),]\n",
        "\n",
        "```\n",
        "\n",
        "<br>\n",
        "\n",
        "2. Using `lm()` and the `sample_1` dataset, fit a simple linear regression using `y` as the response and `x` as the predictor and store as `fit_1`.\n",
        "  \n",
        "  Show the summary using `summary()`.\n",
        "\n",
        "<br>\n",
        "\n",
        "3. The following code takes another random sample of size `n = 10` of the population and stores the dataset as a variable called `sample_2`. Run the code in the cell block below.\n",
        "\n",
        "```\n",
        "set.seed(30)  # ignore\n",
        "\n",
        "############################################\n",
        "########### Second Random Sample ###########\n",
        "############################################\n",
        "\n",
        "# sample size\n",
        "n <- 10\n",
        "\n",
        "# random sample from population\n",
        "sample_2 <- sim[sample(1:N, n, replace = FALSE),]\n",
        "\n",
        "```\n",
        "\n",
        "<br>\n",
        "\n",
        "4. Using `lm()` and the `sample_2` dataset, fit a simple linear regression using `y` as the response and `x` as the predictor and store as `fit_2`.\n",
        "  \n",
        "  Show the summary using `summary()`.\n",
        "\n",
        "<br>\n",
        "\n",
        "5. Why aren't the slope estimates from the two samples the same? Explain you answer in complete sentences.\n",
        "\n",
        "<br>\n",
        "\n",
        "6. Are the slopes estimates from the two samples close to the true population slope of 2? Explain your answer in complete sentences."
      ],
      "metadata": {
        "id": "Zu0es68Qus2X"
      }
    },
    {
      "cell_type": "code",
      "source": [
        "#1\n",
        "set.seed(1)  # ignore\n",
        "\n",
        "#############################################\n",
        "############ First Random Sample ############\n",
        "#############################################\n",
        "\n",
        "# sample size\n",
        "n <- 10\n",
        "\n",
        "# random sample from population\n",
        "sample_1 <- sim[sample(1:N, n, replace = FALSE),]\n"
      ],
      "metadata": {
        "id": "SYRckjUSFCy_"
      },
      "execution_count": 58,
      "outputs": []
    },
    {
      "cell_type": "code",
      "source": [
        "#2\n",
        "x = sample_1$x\n",
        "y = sample_1$y\n",
        "fit_1 = lm(y~x, data = sample_1)\n",
        "summary(fit_1)"
      ],
      "metadata": {
        "colab": {
          "base_uri": "https://localhost:8080/",
          "height": 329
        },
        "id": "Cntv4MJ_FC2o",
        "outputId": "252a4ad0-b309-4fa5-a5ac-ea9218e50e3e"
      },
      "execution_count": 64,
      "outputs": [
        {
          "output_type": "display_data",
          "data": {
            "text/plain": [
              "\n",
              "Call:\n",
              "lm(formula = y ~ x, data = sample_1)\n",
              "\n",
              "Residuals:\n",
              "    Min      1Q  Median      3Q     Max \n",
              "-2.1134 -0.4319  0.1653  0.5061  1.2403 \n",
              "\n",
              "Coefficients:\n",
              "            Estimate Std. Error t value Pr(>|t|)    \n",
              "(Intercept)  1.08143    0.69049   1.566    0.156    \n",
              "x            2.00142    0.01771 112.992 4.21e-14 ***\n",
              "---\n",
              "Signif. codes:  0 ‘***’ 0.001 ‘**’ 0.01 ‘*’ 0.05 ‘.’ 0.1 ‘ ’ 1\n",
              "\n",
              "Residual standard error: 1.048 on 8 degrees of freedom\n",
              "Multiple R-squared:  0.9994,\tAdjusted R-squared:  0.9993 \n",
              "F-statistic: 1.277e+04 on 1 and 8 DF,  p-value: 4.206e-14\n"
            ]
          },
          "metadata": {}
        }
      ]
    },
    {
      "cell_type": "code",
      "source": [
        "#3\n",
        "set.seed(30)  # ignore\n",
        "\n",
        "############################################\n",
        "########### Second Random Sample ###########\n",
        "############################################\n",
        "\n",
        "# sample size\n",
        "n <- 10\n",
        "\n",
        "# random sample from population\n",
        "sample_2 <- sim[sample(1:N, n, replace = FALSE),]"
      ],
      "metadata": {
        "id": "vT_TQpkjFC7W"
      },
      "execution_count": 62,
      "outputs": []
    },
    {
      "cell_type": "code",
      "source": [
        "#4\n",
        "x = sample_2$x\n",
        "y = sample_2$y\n",
        "fit_2 = lm(y~x, data = sample_2)\n",
        "summary(fit_2)"
      ],
      "metadata": {
        "colab": {
          "base_uri": "https://localhost:8080/",
          "height": 329
        },
        "id": "zitf0xw-FC_J",
        "outputId": "25c746bb-2c4c-420b-8492-0c9b2d7e8ed6"
      },
      "execution_count": 65,
      "outputs": [
        {
          "output_type": "display_data",
          "data": {
            "text/plain": [
              "\n",
              "Call:\n",
              "lm(formula = y ~ x, data = sample_2)\n",
              "\n",
              "Residuals:\n",
              "     Min       1Q   Median       3Q      Max \n",
              "-1.23915 -0.66399  0.04475  0.47895  1.40567 \n",
              "\n",
              "Coefficients:\n",
              "            Estimate Std. Error t value Pr(>|t|)    \n",
              "(Intercept)  1.60147    0.75325   2.126   0.0662 .  \n",
              "x            1.98442    0.01438 137.974 8.52e-15 ***\n",
              "---\n",
              "Signif. codes:  0 ‘***’ 0.001 ‘**’ 0.01 ‘*’ 0.05 ‘.’ 0.1 ‘ ’ 1\n",
              "\n",
              "Residual standard error: 0.9423 on 8 degrees of freedom\n",
              "Multiple R-squared:  0.9996,\tAdjusted R-squared:  0.9995 \n",
              "F-statistic: 1.904e+04 on 1 and 8 DF,  p-value: 8.515e-15\n"
            ]
          },
          "metadata": {}
        }
      ]
    },
    {
      "cell_type": "code",
      "source": [
        "#5"
      ],
      "metadata": {
        "id": "2-4hpgQfFDDb"
      },
      "execution_count": null,
      "outputs": []
    },
    {
      "cell_type": "markdown",
      "source": [
        "The slope estimates are not the same because we are looking at two different random samples, which allows us to infer things about the whole population. The parameter estimates will vary for small sample sizes because it only explains a small portion of the data. This is why two small samples yield different estimates."
      ],
      "metadata": {
        "id": "_mHlMYBxmXCI"
      }
    },
    {
      "cell_type": "code",
      "source": [
        "#6"
      ],
      "metadata": {
        "id": "dwASxOT0FDGa"
      },
      "execution_count": null,
      "outputs": []
    },
    {
      "cell_type": "markdown",
      "source": [
        "Yes they are close to the true population slope of 2. Sample 1 gives us an estimate of 2.00142 and sample 2 gives us an estimate of 1.98442. Safe to say that these are close enough to each other as well as the true estimate"
      ],
      "metadata": {
        "id": "zExKnL0zm1Wv"
      }
    },
    {
      "cell_type": "markdown",
      "source": [
        "<br>\n",
        "\n",
        "\n",
        "---\n",
        "\n"
      ],
      "metadata": {
        "id": "Vi6aFnEDus2h"
      }
    },
    {
      "cell_type": "markdown",
      "source": [
        "####<font color=red>Task 3</font>\n",
        "\n",
        "\n",
        "1. The code below randomly samples the population, regresses y on x, and stores the `intercepts` and `slopes` **1000 times**.\n",
        "  \n",
        "  Run the code in the cell block below.\n",
        "\n",
        "```\n",
        "set.seed(2)  # ignore\n",
        "\n",
        "# sample size\n",
        "n <- 10\n",
        "\n",
        "intercepts <- c()\n",
        "slopes     <- c()\n",
        "for (i in 1:1000) {\n",
        "\n",
        "  # random sample from population\n",
        "  samp <- sim[sample(1:N, n, replace = FALSE),]\n",
        "\n",
        "  # regression on random sample\n",
        "  fit <- lm(y ~ x, data = samp)\n",
        "\n",
        "  # store intercept and slope\n",
        "  intercepts[i] <- fit$coefficients[1]\n",
        "  slopes[i]     <- fit$coefficients[2]\n",
        "}\n",
        "```\n",
        "\n",
        "<br>\n",
        "\n",
        "2. Calculate the mean of the `slopes` variable using `mean()` (i.e. calculate $E(\\hat{\\beta}_1)$). How does this compare to the true mean of $\\beta = 2$?\n",
        "\n",
        "<br>\n",
        "\n",
        "3. Plot a histogram of the slopes using the code below. Does the distribution appear normal?"
      ],
      "metadata": {
        "id": "auu2h7-2zZWi"
      }
    },
    {
      "cell_type": "code",
      "source": [
        "#1\n",
        "set.seed(2)  # ignore\n",
        "\n",
        "# sample size\n",
        "n <- 10\n",
        "\n",
        "intercepts <- c()\n",
        "slopes     <- c()\n",
        "for (i in 1:1000) {\n",
        "\n",
        "  # random sample from population\n",
        "  samp <- sim[sample(1:N, n, replace = FALSE),]\n",
        "\n",
        "  # regression on random sample\n",
        "  fit <- lm(y ~ x, data = samp)\n",
        "\n",
        "  # store intercept and slope\n",
        "  intercepts[i] <- fit$coefficients[1]\n",
        "  slopes[i]     <- fit$coefficients[2]\n",
        "}"
      ],
      "metadata": {
        "id": "MZYVa7umGUXn"
      },
      "execution_count": 4,
      "outputs": []
    },
    {
      "cell_type": "code",
      "source": [
        "#2\n",
        "mean(slopes)"
      ],
      "metadata": {
        "colab": {
          "base_uri": "https://localhost:8080/",
          "height": 34
        },
        "id": "t1gR2kvxGUa6",
        "outputId": "b69f91c0-4330-4974-d448-95a4ce93a9f2"
      },
      "execution_count": 5,
      "outputs": [
        {
          "output_type": "display_data",
          "data": {
            "text/html": [
              "2.0001084020723"
            ],
            "text/markdown": "2.0001084020723",
            "text/latex": "2.0001084020723",
            "text/plain": [
              "[1] 2.000108"
            ]
          },
          "metadata": {}
        }
      ]
    },
    {
      "cell_type": "markdown",
      "source": [
        "very good approximation of the true mean of $\\beta$"
      ],
      "metadata": {
        "id": "Hz8QXrS-oZw7"
      }
    },
    {
      "cell_type": "code",
      "source": [
        "#3\n",
        "hist(slopes)"
      ],
      "metadata": {
        "colab": {
          "base_uri": "https://localhost:8080/",
          "height": 437
        },
        "id": "C0ar67TnGUdz",
        "outputId": "b90bdf43-c919-40e3-9b27-245c26a7104d"
      },
      "execution_count": 6,
      "outputs": [
        {
          "output_type": "display_data",
          "data": {
            "text/plain": [
              "Plot with title “Histogram of slopes”"
            ],
            "image/png": "[encoded data removed]"
          },
          "metadata": {
            "image/png": {
              "width": 420,
              "height": 420
            }
          }
        }
      ]
    },
    {
      "cell_type": "markdown",
      "source": [
        "it looks pretty normal to me, with a mean of 2, which is what we calcuated."
      ],
      "metadata": {
        "id": "FzlS_3Naol8b"
      }
    },
    {
      "cell_type": "markdown",
      "source": [
        "<br>\n",
        "\n",
        "\n",
        "---\n",
        "\n"
      ],
      "metadata": {
        "id": "O14O9XUezZWj"
      }
    }
  ]
}
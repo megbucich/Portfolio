{
 "cells": [
  {
   "cell_type": "markdown",
   "id": "211ef2bc-31f8-445c-9d6d-e09a7cf83654",
   "metadata": {},
   "source": [
    "# QR-factorization by Classical Gram-Schmidt"
   ]
  },
  {
   "cell_type": "markdown",
   "id": "6a2e93d0-d0ab-405c-bace-e44b78bf759a",
   "metadata": {},
   "source": [
    " ### Write a function for given a complex matrix A and computes Q and R"
   ]
  },
  {
   "cell_type": "markdown",
   "id": "3cf7ce02-be81-404f-b43c-a447c45d2ad6",
   "metadata": {},
   "source": [
    "# 1. Validate your functions by testing:\n",
    "1. (A - QR) ~ 0\n",
    "2. Q is unitary\n",
    "3. R is upper triangular"
   ]
  },
  {
   "cell_type": "markdown",
   "id": "af62b39f-3ea4-4265-9d5a-8046754c24a6",
   "metadata": {},
   "source": [
    "### 3x3 Case"
   ]
  },
  {
   "cell_type": "code",
   "execution_count": 37,
   "id": "107a8c8e-a75a-4ab5-9ea5-3b52cf3c7516",
   "metadata": {},
   "outputs": [
    {
     "name": "stdout",
     "output_type": "stream",
     "text": [
      "A ≈ QR? True\n",
      "Is Q Unitary? True\n",
      "Is R upper triangular? True\n"
     ]
    }
   ],
   "source": [
    "import numpy as np\n",
    "def QR_factorization(A):\n",
    "    m, n = A.shape\n",
    "    Q = np.zeros((m,n)) + 1j * np.zeros((m,n)) #allow Q and R to have complex entries :)\n",
    "    R = np.zeros((n,n)) + 1j * np.zeros((m,n))\n",
    "\n",
    "    for i in range(n): \n",
    "        col_A = A[:,i].copy() #extract each column\n",
    "        for j in range(i): \n",
    "            R[j,i] = np.vdot(Q[:,j],A[:,i]) #conjugate dot product (projections)\n",
    "            col_A -= R[j,i] * Q[:,j] #subtract the projections to ensure orthogonality with previous columns\n",
    "        R[i,i] = np.vdot(col_A,col_A)**.5 #norms\n",
    "        Q[:,i] = col_A / R[i,i] #Q calculation, breaks down if R[i,i] = 0 if A has linearly dependent columns :/ \n",
    "    \n",
    "    return Q,R\n",
    "\n",
    "A = np.random.rand(3, 3) + 1j * np.random.rand(3, 3)\n",
    "Q,R = QR_factorization(A)\n",
    "check_if_0 = np.allclose(A,np.dot(Q,R))\n",
    "Q_T = Q.transpose()\n",
    "unitary_check = np.allclose(np.dot(Q_T.conj(),Q), np.eye(Q.shape[0]))\n",
    "R_uppertricheck = np.allclose(np.tril(R,-1),0)\n",
    "#used chatGPT to find the allclose function to easily make the checks we need. it compares two items to see if they are the same\n",
    "#used chatGPT to the np.tril function, this checks that all entries under the diagonal are zero \n",
    "print(\"A ≈ QR?\", check_if_0)\n",
    "print(f\"Is Q Unitary? {unitary_check}\")\n",
    "print(\"Is R upper triangular?\", R_uppertricheck)\n"
   ]
  },
  {
   "cell_type": "markdown",
   "id": "0c86dffb-4143-4a14-b314-9096191c3db3",
   "metadata": {},
   "source": [
    "## 5x5 Case"
   ]
  },
  {
   "cell_type": "code",
   "execution_count": 39,
   "id": "cdf1346c-440b-43a4-895a-4934258a270c",
   "metadata": {},
   "outputs": [
    {
     "name": "stdout",
     "output_type": "stream",
     "text": [
      "A ≈ QR? True\n",
      "Is Q Unitary? True\n",
      "Is R upper triangular? True\n"
     ]
    }
   ],
   "source": [
    "import numpy as np\n",
    "def QR_factorization(A):\n",
    "    m, n = A.shape\n",
    "    Q = np.zeros((m,n)) + 1j * np.zeros((m,n))\n",
    "    R = np.zeros((n,n)) + 1j * np.zeros((m,n))\n",
    "    \n",
    "    for i in range(n): \n",
    "        col_A = A[:,i].copy() \n",
    "        for j in range(i): \n",
    "            R[j,i] = np.vdot(Q[:,j],A[:,i]) \n",
    "            col_A -= R[j,i] * Q[:,j]\n",
    "        R[i,i] = np.vdot(col_A,col_A)**.5\n",
    "        Q[:,i] = col_A / R[i,i] \n",
    "    \n",
    "    return Q,R\n",
    "A = np.random.rand(5, 5) + 1j * np.random.rand(5, 5)\n",
    "Q,R = QR_factorization(A)\n",
    "check_if_0 = np.allclose(A,np.dot(Q,R))\n",
    "Q_T = Q.transpose()\n",
    "unitary_check = np.allclose(np.dot(Q_T.conj(),Q), np.eye(Q.shape[0]))\n",
    "R_uppertricheck = np.allclose(np.tril(R,-1),0)\n",
    "print(\"A ≈ QR?\", check_if_0)\n",
    "print(f\"Is Q Unitary? {unitary_check}\")\n",
    "print(\"Is R upper triangular?\", R_uppertricheck)\n"
   ]
  },
  {
   "cell_type": "markdown",
   "id": "948c072b-1a2c-41dc-8d4f-a668cd652595",
   "metadata": {},
   "source": [
    "## 251 X 251 Case"
   ]
  },
  {
   "cell_type": "code",
   "execution_count": 25,
   "id": "86eff68b-4549-48f5-8796-98c9a4af8304",
   "metadata": {},
   "outputs": [
    {
     "name": "stdout",
     "output_type": "stream",
     "text": [
      "A ≈ QR? True\n",
      "Is Q Unitary? True\n",
      "Is R upper triangular? True\n"
     ]
    }
   ],
   "source": [
    "import numpy as np\n",
    "def QR_factorization(A):\n",
    "    m, n = A.shape\n",
    "    Q = np.zeros((m,n)) + 1j * np.zeros((m,n))\n",
    "    R = np.zeros((n,n)) + 1j * np.zeros((m,n))\n",
    "\n",
    "    for i in range(n): \n",
    "        col_A = A[:,i].copy() \n",
    "        for j in range(i): \n",
    "            R[j,i] = np.vdot(Q[:,j],A[:,i]) \n",
    "            col_A -= R[j,i] * Q[:,j]\n",
    "        R[i,i] = np.vdot(col_A,col_A)**.5\n",
    "        Q[:,i] = col_A / R[i,i] \n",
    "    \n",
    "    return Q,R\n",
    "\n",
    "A = np.random.rand(251, 251) + 1j * np.random.rand(251, 251)\n",
    "Q,R = QR_factorization(A)\n",
    "check_if_0 = np.allclose(A,np.dot(Q,R))\n",
    "Q_T = Q.transpose()\n",
    "unitary_check = np.allclose(np.dot(Q_T.conj(),Q), np.eye(Q.shape[0]))\n",
    "R_uppertricheck = np.allclose(np.tril(R,-1),0)\n",
    "print(\"A ≈ QR?\", check_if_0)\n",
    "print(f\"Is Q Unitary? {unitary_check}\")\n",
    "print(\"Is R upper triangular?\", R_uppertricheck)"
   ]
  },
  {
   "cell_type": "markdown",
   "id": "13b8cc67-5735-4ebe-a19a-74957823a36c",
   "metadata": {},
   "source": [
    "### 2. Compare results for (3 x 3) and (5 x 5) matrices using built in library version of QR-factorization and comment on the similarities and differences"
   ]
  },
  {
   "cell_type": "markdown",
   "id": "cd139b5a-c9f9-4c58-b739-4b04d4de8857",
   "metadata": {},
   "source": [
    "## 3x3 Case"
   ]
  },
  {
   "cell_type": "code",
   "execution_count": 65,
   "id": "11af8f83-e545-4703-819b-b82d2d29ad4e",
   "metadata": {},
   "outputs": [],
   "source": [
    "A3 = np.random.rand(3,3) + 1j * np.random.rand(3,3)\n",
    "A5 = np.random.rand(5,5) + 1j * np.random.rand(5,5)"
   ]
  },
  {
   "cell_type": "code",
   "execution_count": 67,
   "id": "29edf23f-72b8-4320-ac1c-01c1c9d28731",
   "metadata": {},
   "outputs": [
    {
     "name": "stdout",
     "output_type": "stream",
     "text": [
      "Q:  [[-0.33848588-0.27508396j -0.36062474-0.56192186j  0.53708312+0.27475709j]\n",
      " [-0.51819355-0.49953354j -0.04579181+0.59512062j -0.15390996+0.31935555j]\n",
      " [-0.24395469-0.48185466j  0.3994704 -0.19583558j  0.02797719-0.71385663j]]\n",
      "R:  [[-1.86380576+0.00000000e+00j -1.52859491+3.21059073e-01j\n",
      "  -1.00998742-4.32026572e-01j]\n",
      " [ 0.        +0.00000000e+00j -0.78864218+0.00000000e+00j\n",
      "   0.21246795-2.51886524e-04j]\n",
      " [ 0.        +0.00000000e+00j  0.        +0.00000000e+00j\n",
      "   0.17164681+0.00000000e+00j]]\n",
      "A ≈ QR? True\n",
      "Is Q Unitary? True\n",
      "Is R upper triangular? True\n"
     ]
    }
   ],
   "source": [
    "from scipy.linalg import qr\n",
    "A = A3\n",
    "Q, R = qr(A)\n",
    "check_if_0 = np.allclose(A,np.dot(Q,R))\n",
    "Q_T = Q.transpose()\n",
    "unitary_check = np.allclose(np.dot(Q_T.conj(),Q), np.eye(Q.shape[0]))\n",
    "R_uppertricheck = np.allclose(np.tril(R,-1),0)\n",
    "print(\"Q: \", Q)\n",
    "print(\"R: \", R)\n",
    "print(\"A ≈ QR?\", check_if_0)\n",
    "print(f\"Is Q Unitary? {unitary_check}\")\n",
    "print(\"Is R upper triangular?\", R_uppertricheck)"
   ]
  },
  {
   "cell_type": "code",
   "execution_count": 69,
   "id": "41c1a9ea-8833-4a22-8608-8cbce667bd97",
   "metadata": {},
   "outputs": [
    {
     "name": "stdout",
     "output_type": "stream",
     "text": [
      "Q:  [[-0.33848588-0.27508396j -0.36062474-0.56192186j  0.53708312+0.27475709j]\n",
      " [-0.51819355-0.49953354j -0.04579181+0.59512062j -0.15390996+0.31935555j]\n",
      " [-0.24395469-0.48185466j  0.3994704 -0.19583558j  0.02797719-0.71385663j]]\n",
      "R:  [[-1.86380576+0.00000000e+00j -1.52859491+3.21059073e-01j\n",
      "  -1.00998742-4.32026572e-01j]\n",
      " [ 0.        +0.00000000e+00j -0.78864218+0.00000000e+00j\n",
      "   0.21246795-2.51886524e-04j]\n",
      " [ 0.        +0.00000000e+00j  0.        +0.00000000e+00j\n",
      "   0.17164681+0.00000000e+00j]]\n",
      "A ≈ QR? True\n",
      "Is Q Unitary? True\n",
      "Is R upper triangular? True\n"
     ]
    }
   ],
   "source": [
    "import numpy as np\n",
    "A = A3\n",
    "def QR_factorization(A):\n",
    "    m, n = A.shape\n",
    "    Q = np.zeros((m,n)) + 1j * np.zeros((m,n))\n",
    "    R = np.zeros((n,n)) + 1j * np.zeros((m,n))\n",
    "    \n",
    "    for i in range(n): \n",
    "        col_A = A[:,i].copy() \n",
    "        for j in range(i): \n",
    "            R[j,i] = np.vdot(Q[:,j],A[:,i]) \n",
    "            col_A -= R[j,i] * Q[:,j]\n",
    "        R[i,i] = np.vdot(col_A,col_A)**.5\n",
    "        Q[:,i] = col_A / R[i,i] \n",
    "    \n",
    "    return Q,R\n",
    "check_if_0 = np.allclose(A,np.dot(Q,R))\n",
    "Q_T = Q.transpose()\n",
    "unitary_check = np.allclose(np.dot(Q_T.conj(),Q), np.eye(Q.shape[0]))\n",
    "R_uppertricheck = np.allclose(np.tril(R,-1),0)\n",
    "print(\"Q: \", Q)\n",
    "print(\"R: \", R)\n",
    "print(\"A ≈ QR?\", check_if_0)\n",
    "print(f\"Is Q Unitary? {unitary_check}\")\n",
    "print(\"Is R upper triangular?\", R_uppertricheck)"
   ]
  },
  {
   "cell_type": "markdown",
   "id": "040b19ec-5635-4119-b6f3-e2e3900b723b",
   "metadata": {},
   "source": [
    "## 5x5 Case"
   ]
  },
  {
   "cell_type": "code",
   "execution_count": 71,
   "id": "486d2b59-4720-4ad7-b415-450a1c5e17c5",
   "metadata": {},
   "outputs": [
    {
     "name": "stdout",
     "output_type": "stream",
     "text": [
      "Q:  [[-0.35409755-0.10789356j  0.11621777-0.61417772j -0.09223941-0.33390815j\n",
      "  -0.11059971-0.38730031j  0.42149658+0.11116251j]\n",
      " [-0.18913356-0.32395322j -0.43055474+0.16231542j -0.08440725-0.29195802j\n",
      "  -0.3188564 -0.0494223j  -0.40643828+0.53468777j]\n",
      " [-0.29009751-0.2451895j   0.30288539-0.32665254j -0.39031267+0.57017423j\n",
      "  -0.11877487+0.19198758j -0.35863867+0.01590826j]\n",
      " [-0.58380142-0.06054459j  0.21579251+0.3070286j   0.4719125 -0.0373282j\n",
      "  -0.35713078-0.05431433j -0.08485936-0.39101014j]\n",
      " [-0.44341182-0.19203766j -0.23838461+0.03812937j -0.1676481 -0.24081081j\n",
      "   0.71263063+0.2106007j  -0.08092819-0.25176628j]]\n",
      "R:  [[-1.30133619+0.j         -1.58867256-0.68115917j -1.4352662 -0.75311726j\n",
      "  -1.1185435 -0.4204484j  -1.53793821-0.47723562j]\n",
      " [ 0.        +0.j         -0.91811948+0.j          0.00281029+0.31451846j\n",
      "  -0.19628333+0.18933826j  0.01722305+0.13934662j]\n",
      " [ 0.        +0.j          0.        +0.j         -0.80600445+0.j\n",
      "  -0.67205676+0.16678865j -0.23464852-0.30987055j]\n",
      " [ 0.        +0.j          0.        +0.j          0.        +0.j\n",
      "   0.41076224+0.j         -0.53942998+0.175869j  ]\n",
      " [ 0.        +0.j          0.        +0.j          0.        +0.j\n",
      "   0.        +0.j         -0.44628402+0.j        ]]\n",
      "A ≈ QR? True\n",
      "Is Q Unitary? True\n",
      "Is R upper triangular? True\n"
     ]
    }
   ],
   "source": [
    "from scipy.linalg import qr\n",
    "A = A5\n",
    "Q, R = qr(A)\n",
    "check_if_0 = np.allclose((A - np.dot(Q,R)),np.zeros(A.shape))\n",
    "Q_T = Q.transpose()\n",
    "unitary_check = np.allclose(np.dot(Q_T.conj(),Q), np.eye(Q.shape[0]))\n",
    "R_uppertricheck = np.allclose(np.tril(R,-1),0)\n",
    "print(\"Q: \", Q)\n",
    "print(\"R: \", R)\n",
    "print(\"A ≈ QR?\", check_if_0)\n",
    "print(f\"Is Q Unitary? {unitary_check}\")\n",
    "print(\"Is R upper triangular?\", R_uppertricheck)"
   ]
  },
  {
   "cell_type": "code",
   "execution_count": 73,
   "id": "78a92dfc-4663-4549-9cbb-89cbb6a1a924",
   "metadata": {},
   "outputs": [
    {
     "name": "stdout",
     "output_type": "stream",
     "text": [
      "Q:  [[-0.35409755-0.10789356j  0.11621777-0.61417772j -0.09223941-0.33390815j\n",
      "  -0.11059971-0.38730031j  0.42149658+0.11116251j]\n",
      " [-0.18913356-0.32395322j -0.43055474+0.16231542j -0.08440725-0.29195802j\n",
      "  -0.3188564 -0.0494223j  -0.40643828+0.53468777j]\n",
      " [-0.29009751-0.2451895j   0.30288539-0.32665254j -0.39031267+0.57017423j\n",
      "  -0.11877487+0.19198758j -0.35863867+0.01590826j]\n",
      " [-0.58380142-0.06054459j  0.21579251+0.3070286j   0.4719125 -0.0373282j\n",
      "  -0.35713078-0.05431433j -0.08485936-0.39101014j]\n",
      " [-0.44341182-0.19203766j -0.23838461+0.03812937j -0.1676481 -0.24081081j\n",
      "   0.71263063+0.2106007j  -0.08092819-0.25176628j]]\n",
      "R:  [[-1.30133619+0.j         -1.58867256-0.68115917j -1.4352662 -0.75311726j\n",
      "  -1.1185435 -0.4204484j  -1.53793821-0.47723562j]\n",
      " [ 0.        +0.j         -0.91811948+0.j          0.00281029+0.31451846j\n",
      "  -0.19628333+0.18933826j  0.01722305+0.13934662j]\n",
      " [ 0.        +0.j          0.        +0.j         -0.80600445+0.j\n",
      "  -0.67205676+0.16678865j -0.23464852-0.30987055j]\n",
      " [ 0.        +0.j          0.        +0.j          0.        +0.j\n",
      "   0.41076224+0.j         -0.53942998+0.175869j  ]\n",
      " [ 0.        +0.j          0.        +0.j          0.        +0.j\n",
      "   0.        +0.j         -0.44628402+0.j        ]]\n",
      "A ≈ QR? True\n",
      "Is Q Unitary? True\n",
      "Is R upper triangular? True\n"
     ]
    }
   ],
   "source": [
    "import numpy as np\n",
    "A = A5\n",
    "def QR_factorization(A):\n",
    "    m, n = A.shape\n",
    "    Q = np.zeros((m,n)) + 1j * np.zeros((m,n))\n",
    "    R = np.zeros((n,n)) + 1j * np.zeros((m,n))\n",
    "    \n",
    "    for i in range(n): \n",
    "        col_A = A[:,i].copy() \n",
    "        for j in range(i): \n",
    "            R[j,i] = np.vdot(Q[:,j],A[:,i]) \n",
    "            col_A -= R[j,i] * Q[:,j]\n",
    "        R[i,i] = np.vdot(col_A,col_A)**.5\n",
    "        Q[:,i] = col_A / R[i,i] \n",
    "    \n",
    "    return Q,R\n",
    "    \n",
    "check_if_0 = np.allclose((A - np.dot(Q,R)),np.zeros(A.shape))\n",
    "Q_T = Q.transpose()\n",
    "unitary_check = np.allclose(np.dot(Q_T.conj(),Q), np.eye(Q.shape[0]))\n",
    "R_uppertricheck = np.allclose(np.tril(R,-1),0)\n",
    "print(\"Q: \", Q)\n",
    "print(\"R: \", R)\n",
    "print(\"A ≈ QR?\", check_if_0)\n",
    "print(f\"Is Q Unitary? {unitary_check}\")\n",
    "print(\"Is R upper triangular?\", R_uppertricheck)"
   ]
  },
  {
   "cell_type": "markdown",
   "id": "1529ba69-9a35-405b-bfff-130c359ed8da",
   "metadata": {},
   "source": [
    "It seems I got the same results from my function and the build in function. I used the same randomly generated matrix for both scenarios and the Q and R matrices were the exact same."
   ]
  },
  {
   "cell_type": "markdown",
   "id": "eb33b785-7c42-46d3-8caa-01e517b20776",
   "metadata": {},
   "source": [
    "### 3. Can you find a non-zero matrix where your QR-factorization breaks?"
   ]
  },
  {
   "cell_type": "markdown",
   "id": "ee8fee8b-8de5-4d44-9e2a-8dc2c16772ca",
   "metadata": {},
   "source": [
    "#### R[i,i] = np.vdot(col_A,col_A)**.5 \n",
    "#### Q[:,i] = col_A / R[i,i]\n",
    "\n",
    "The columns of Q are constructed as scalar multiples of the columns of A. The columns of A are divided by the projection calcuated in R[i,i]. This step may cause problems if R[i, i] is equal to zero. The happens when a column of A is a linear combination of previous columns. In this algorithm, we subtract projections from A[:, i] to ensure it is orthogonal to all prior columns. If A[:, i] lies in the span of the previous columns, it will be a zero vector, making R[i, i] = 0. Sinc e we divide by R[i, i] to construct the columns of Q, this results in a division-by-zero error. This means my function only works if the columns of A are linearly independent."
   ]
  },
  {
   "cell_type": "code",
   "execution_count": null,
   "id": "ba81413b-3ac1-4c0c-88ea-4b1ed8a78d74",
   "metadata": {},
   "outputs": [],
   "source": []
  }
 ],
 "metadata": {
  "kernelspec": {
   "display_name": "Python [conda env:base] *",
   "language": "python",
   "name": "conda-base-py"
  },
  "language_info": {
   "codemirror_mode": {
    "name": "ipython",
    "version": 3
   },
   "file_extension": ".py",
   "mimetype": "text/x-python",
   "name": "python",
   "nbconvert_exporter": "python",
   "pygments_lexer": "ipython3",
   "version": "3.12.7"
  }
 },
 "nbformat": 4,
 "nbformat_minor": 5
}

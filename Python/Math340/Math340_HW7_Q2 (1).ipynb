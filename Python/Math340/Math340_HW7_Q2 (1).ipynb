{
  "nbformat": 4,
  "nbformat_minor": 0,
  "metadata": {
    "colab": {
      "provenance": []
    },
    "kernelspec": {
      "name": "python3",
      "display_name": "Python 3"
    },
    "language_info": {
      "name": "python"
    }
  },
  "cells": [
    {
      "cell_type": "markdown",
      "source": [
        "Run #1\n",
        "\n"
      ],
      "metadata": {
        "id": "tGdHckUv9Jfm"
      }
    },
    {
      "cell_type": "code",
      "execution_count": 1,
      "metadata": {
        "colab": {
          "base_uri": "https://localhost:8080/"
        },
        "id": "At4--2VsoUfZ",
        "outputId": "30e88b18-abfa-401d-bbce-aaf4f1feef37"
      },
      "outputs": [
        {
          "output_type": "stream",
          "name": "stdout",
          "text": [
            "CPU Specs: x86_64\n",
            "Operating System: Linux 6.1.85+\n",
            "Time's up! Largest prime found within the time limit: 2750653\n"
          ]
        }
      ],
      "source": [
        "import signal\n",
        "import time\n",
        "import platform\n",
        "\n",
        "# Function to check if a number is prime\n",
        "def is_prime(num):\n",
        "    if num <= 1:\n",
        "        return False\n",
        "    if num == 2:\n",
        "        return True\n",
        "    if num % 2 == 0:\n",
        "        return False\n",
        "    for i in range(3, int(num**0.5) + 1, 2):\n",
        "        if num % i == 0:\n",
        "            return False\n",
        "    return True\n",
        "\n",
        "# Function to find the largest prime number within a time limit\n",
        "def find_largest_prime():\n",
        "    largest_prime = 2\n",
        "    num = 3\n",
        "\n",
        "    def alarm_handler(signum, frame):\n",
        "        raise TimeoutError(\"Time's up!\")\n",
        "\n",
        "    signal.signal(signal.SIGALRM, alarm_handler)\n",
        "    signal.alarm(20)  # Set the alarm for 20 seconds\n",
        "\n",
        "    try:\n",
        "        while True:\n",
        "            if is_prime(num):\n",
        "                largest_prime = num\n",
        "            num += 2\n",
        "    except TimeoutError:\n",
        "        print(\"Time's up! Largest prime found within the time limit:\", largest_prime)\n",
        "        signal.alarm(0)  # Disable the alarm\n",
        "\n",
        "if __name__ == \"__main__\":\n",
        "    print(\"CPU Specs:\", platform.processor())\n",
        "    print(\"Operating System:\", platform.system(), platform.release())\n",
        "    find_largest_prime()"
      ]
    },
    {
      "cell_type": "markdown",
      "source": [
        "Run #2"
      ],
      "metadata": {
        "id": "wgJ34LOu9Q5S"
      }
    },
    {
      "cell_type": "code",
      "source": [
        "import signal\n",
        "import time\n",
        "import platform\n",
        "\n",
        "# Function to check if a number is prime\n",
        "def is_prime(num):\n",
        "    if num <= 1:\n",
        "        return False\n",
        "    if num == 2:\n",
        "        return True\n",
        "    if num % 2 == 0:\n",
        "        return False\n",
        "    for i in range(3, int(num**0.5) + 1, 2):\n",
        "        if num % i == 0:\n",
        "            return False\n",
        "    return True\n",
        "\n",
        "# Function to find the largest prime number within a time limit\n",
        "def find_largest_prime():\n",
        "    largest_prime = 2\n",
        "    num = 3\n",
        "\n",
        "    def alarm_handler(signum, frame):\n",
        "        raise TimeoutError(\"Time's up!\")\n",
        "\n",
        "    signal.signal(signal.SIGALRM, alarm_handler)\n",
        "    signal.alarm(20)  # Set the alarm for 20 seconds\n",
        "\n",
        "    try:\n",
        "        while True:\n",
        "            if is_prime(num):\n",
        "                largest_prime = num\n",
        "            num += 2\n",
        "    except TimeoutError:\n",
        "        print(\"Time's up! Largest prime found within the time limit:\", largest_prime)\n",
        "        signal.alarm(0)  # Disable the alarm\n",
        "\n",
        "if __name__ == \"__main__\":\n",
        "    print(\"CPU Specs:\", platform.processor())\n",
        "    print(\"Operating System:\", platform.system(), platform.release())\n",
        "    find_largest_prime()"
      ],
      "metadata": {
        "colab": {
          "base_uri": "https://localhost:8080/"
        },
        "id": "kE42G-Fn9Fs0",
        "outputId": "1bdcb83e-b855-4633-979f-32c1797c7b48"
      },
      "execution_count": 2,
      "outputs": [
        {
          "output_type": "stream",
          "name": "stdout",
          "text": [
            "CPU Specs: x86_64\n",
            "Operating System: Linux 6.1.85+\n",
            "Time's up! Largest prime found within the time limit: 4803209\n"
          ]
        }
      ]
    },
    {
      "cell_type": "markdown",
      "source": [
        "Run #3"
      ],
      "metadata": {
        "id": "V710U5S99TbV"
      }
    },
    {
      "cell_type": "code",
      "source": [
        "import signal\n",
        "import time\n",
        "import platform\n",
        "\n",
        "# Function to check if a number is prime\n",
        "def is_prime(num):\n",
        "    if num <= 1:\n",
        "        return False\n",
        "    if num == 2:\n",
        "        return True\n",
        "    if num % 2 == 0:\n",
        "        return False\n",
        "    for i in range(3, int(num**0.5) + 1, 2):\n",
        "        if num % i == 0:\n",
        "            return False\n",
        "    return True\n",
        "\n",
        "# Function to find the largest prime number within a time limit\n",
        "def find_largest_prime():\n",
        "    largest_prime = 2\n",
        "    num = 3\n",
        "\n",
        "    def alarm_handler(signum, frame):\n",
        "        raise TimeoutError(\"Time's up!\")\n",
        "\n",
        "    signal.signal(signal.SIGALRM, alarm_handler)\n",
        "    signal.alarm(20)  # Set the alarm for 20 seconds\n",
        "\n",
        "    try:\n",
        "        while True:\n",
        "            if is_prime(num):\n",
        "                largest_prime = num\n",
        "            num += 2\n",
        "    except TimeoutError:\n",
        "        print(\"Time's up! Largest prime found within the time limit:\", largest_prime)\n",
        "        signal.alarm(0)  # Disable the alarm\n",
        "\n",
        "if __name__ == \"__main__\":\n",
        "    print(\"CPU Specs:\", platform.processor())\n",
        "    print(\"Operating System:\", platform.system(), platform.release())\n",
        "    find_largest_prime()"
      ],
      "metadata": {
        "colab": {
          "base_uri": "https://localhost:8080/"
        },
        "id": "vH-odq7w9F7z",
        "outputId": "9b8290c8-b77c-445d-afc5-77a64c9802b7"
      },
      "execution_count": 3,
      "outputs": [
        {
          "output_type": "stream",
          "name": "stdout",
          "text": [
            "CPU Specs: x86_64\n",
            "Operating System: Linux 6.1.85+\n",
            "Time's up! Largest prime found within the time limit: 4804627\n"
          ]
        }
      ]
    },
    {
      "cell_type": "markdown",
      "source": [
        "Run #4"
      ],
      "metadata": {
        "id": "8G8eBMsd9VH5"
      }
    },
    {
      "cell_type": "code",
      "source": [
        "import signal\n",
        "import time\n",
        "import platform\n",
        "\n",
        "# Function to check if a number is prime\n",
        "def is_prime(num):\n",
        "    if num <= 1:\n",
        "        return False\n",
        "    if num == 2:\n",
        "        return True\n",
        "    if num % 2 == 0:\n",
        "        return False\n",
        "    for i in range(3, int(num**0.5) + 1, 2):\n",
        "        if num % i == 0:\n",
        "            return False\n",
        "    return True\n",
        "\n",
        "# Function to find the largest prime number within a time limit\n",
        "def find_largest_prime():\n",
        "    largest_prime = 2\n",
        "    num = 3\n",
        "\n",
        "    def alarm_handler(signum, frame):\n",
        "        raise TimeoutError(\"Time's up!\")\n",
        "\n",
        "    signal.signal(signal.SIGALRM, alarm_handler)\n",
        "    signal.alarm(20)  # Set the alarm for 20 seconds\n",
        "\n",
        "    try:\n",
        "        while True:\n",
        "            if is_prime(num):\n",
        "                largest_prime = num\n",
        "            num += 2\n",
        "    except TimeoutError:\n",
        "        print(\"Time's up! Largest prime found within the time limit:\", largest_prime)\n",
        "        signal.alarm(0)  # Disable the alarm\n",
        "\n",
        "if __name__ == \"__main__\":\n",
        "    print(\"CPU Specs:\", platform.processor())\n",
        "    print(\"Operating System:\", platform.system(), platform.release())\n",
        "    find_largest_prime()"
      ],
      "metadata": {
        "colab": {
          "base_uri": "https://localhost:8080/"
        },
        "id": "vgkTDFYR9GEa",
        "outputId": "1e7eb727-dda1-4fba-cb09-65546dd3f30a"
      },
      "execution_count": 4,
      "outputs": [
        {
          "output_type": "stream",
          "name": "stdout",
          "text": [
            "CPU Specs: x86_64\n",
            "Operating System: Linux 6.1.85+\n",
            "Time's up! Largest prime found within the time limit: 4689611\n"
          ]
        }
      ]
    },
    {
      "cell_type": "markdown",
      "source": [
        "Run #5"
      ],
      "metadata": {
        "id": "trHePk0X9WuV"
      }
    },
    {
      "cell_type": "code",
      "source": [
        "import signal\n",
        "import time\n",
        "import platform\n",
        "\n",
        "# Function to check if a number is prime\n",
        "def is_prime(num):\n",
        "    if num <= 1:\n",
        "        return False\n",
        "    if num == 2:\n",
        "        return True\n",
        "    if num % 2 == 0:\n",
        "        return False\n",
        "    for i in range(3, int(num**0.5) + 1, 2):\n",
        "        if num % i == 0:\n",
        "            return False\n",
        "    return True\n",
        "\n",
        "# Function to find the largest prime number within a time limit\n",
        "def find_largest_prime():\n",
        "    largest_prime = 2\n",
        "    num = 3\n",
        "\n",
        "    def alarm_handler(signum, frame):\n",
        "        raise TimeoutError(\"Time's up!\")\n",
        "\n",
        "    signal.signal(signal.SIGALRM, alarm_handler)\n",
        "    signal.alarm(20)  # Set the alarm for 20 seconds\n",
        "\n",
        "    try:\n",
        "        while True:\n",
        "            if is_prime(num):\n",
        "                largest_prime = num\n",
        "            num += 2\n",
        "    except TimeoutError:\n",
        "        print(\"Time's up! Largest prime found within the time limit:\", largest_prime)\n",
        "        signal.alarm(0)  # Disable the alarm\n",
        "\n",
        "if __name__ == \"__main__\":\n",
        "    print(\"CPU Specs:\", platform.processor())\n",
        "    print(\"Operating System:\", platform.system(), platform.release())\n",
        "    find_largest_prime()"
      ],
      "metadata": {
        "colab": {
          "base_uri": "https://localhost:8080/"
        },
        "id": "3o-MK7od9GMo",
        "outputId": "c51bc1b7-024a-4370-a996-3c54a0a585c7"
      },
      "execution_count": 5,
      "outputs": [
        {
          "output_type": "stream",
          "name": "stdout",
          "text": [
            "CPU Specs: x86_64\n",
            "Operating System: Linux 6.1.85+\n",
            "Time's up! Largest prime found within the time limit: 4751701\n"
          ]
        }
      ]
    },
    {
      "cell_type": "markdown",
      "source": [
        "New time limit: 1 minute"
      ],
      "metadata": {
        "id": "ATzCn9PD91hI"
      }
    },
    {
      "cell_type": "code",
      "source": [
        "import signal\n",
        "import time\n",
        "import platform\n",
        "\n",
        "# Function to check if a number is prime\n",
        "def is_prime(num):\n",
        "    if num <= 1:\n",
        "        return False\n",
        "    if num == 2:\n",
        "        return True\n",
        "    if num % 2 == 0:\n",
        "        return False\n",
        "    for i in range(3, int(num**0.5) + 1, 2):\n",
        "        if num % i == 0:\n",
        "            return False\n",
        "    return True\n",
        "\n",
        "# Function to find the largest prime number within a time limit\n",
        "def find_largest_prime():\n",
        "    largest_prime = 2\n",
        "    num = 3\n",
        "\n",
        "    def alarm_handler(signum, frame):\n",
        "        raise TimeoutError(\"Time's up!\")\n",
        "\n",
        "    signal.signal(signal.SIGALRM, alarm_handler)\n",
        "    signal.alarm(60)  # Set the alarm for 60 seconds\n",
        "\n",
        "    try:\n",
        "        while True:\n",
        "            if is_prime(num):\n",
        "                largest_prime = num\n",
        "            num += 2\n",
        "    except TimeoutError:\n",
        "        print(\"Time's up! Largest prime found within the time limit:\", largest_prime)\n",
        "        signal.alarm(0)  # Disable the alarm\n",
        "\n",
        "if __name__ == \"__main__\":\n",
        "    print(\"CPU Specs:\", platform.processor())\n",
        "    print(\"Operating System:\", platform.system(), platform.release())\n",
        "    find_largest_prime()"
      ],
      "metadata": {
        "colab": {
          "base_uri": "https://localhost:8080/"
        },
        "id": "gblCaBYO94VV",
        "outputId": "437c903d-fe76-4e95-bb17-1f11bba04747"
      },
      "execution_count": 6,
      "outputs": [
        {
          "output_type": "stream",
          "name": "stdout",
          "text": [
            "CPU Specs: x86_64\n",
            "Operating System: Linux 6.1.85+\n",
            "Time's up! Largest prime found within the time limit: 10707701\n"
          ]
        }
      ]
    }
  ]
}
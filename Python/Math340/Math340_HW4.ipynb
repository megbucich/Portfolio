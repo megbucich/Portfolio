{
 "cells": [
  {
   "cell_type": "markdown",
   "id": "7250a5ee-12fc-4e2c-bfcf-685c60db31e6",
   "metadata": {},
   "source": [
    "<center>\n",
    "<div class=\"alert alert-block alert-info\">\n",
    "    <h1> </h1>\n",
    "    <h1><font size=\"+3\"> <b> Math340 HW4 </b> </font></h1>\n",
    "    <h1><font size=\"+3\"> <b> Programming in Mathematics </b> </font></h1>\n",
    "    <h1><font size=\"+3\"> <b> Due February 21th, 2025 </b> </font></h1>\n",
    "    \n",
    "</div>\n",
    "</center>\n",
    "\n",
    "<br>\n",
    "\n",
    "\n",
    "\n",
    "<center>\n",
    "<font size=\"+2\">\n",
    "Department of Mathematics and Statistics <br> <br>\n",
    "San Diego State University <br> <br>\n",
    "Spring 2025\n",
    "</font>\n",
    "</center>\n",
    "\n",
    "\n",
    "\n",
    "\n",
    "\n",
    "\n"
   ]
  },
  {
   "cell_type": "markdown",
   "id": "02977943-8663-4cf1-bd53-2fabf0a7ca7a",
   "metadata": {},
   "source": [
    "## Meg Bucich"
   ]
  },
  {
   "cell_type": "markdown",
   "id": "6a6fac4f-1cf2-469c-9064-798a599760f2",
   "metadata": {},
   "source": [
    "## 1. Summary"
   ]
  },
  {
   "cell_type": "markdown",
   "id": "9d124b77-6206-475f-bd40-6590bfc8cd79",
   "metadata": {},
   "source": [
    "(Problem 1) We were tasked with building a 7x7 matrix that has entries of the cosine similarities of ROYGBIV against every color. The diagonal would be 1 because the cosine similarity is the dot product of the two vectors divided by the magnitudes of the two vectors multiplied together. But, if you take the dot product of two equal vectors (i.e of the same color), its equal to the multiplication of their magnitudes. This means the cosine similarity is 1 because any number divided by itself is 1. This makes sense because cos(0) = 1, where the angle represents the angle between the two vectors. (Problem 2) We are asked to discuss the differences between rounding and truncation; in short, decimal approximations are handled slightly differently. (Problem 3) We were given a code that extracted the main article from a Wikipedia page called the Butterfly effect. We were tasked with extending the code so that it counts the number of times the phrase 'butterfly effect' appears in the article."
   ]
  },
  {
   "cell_type": "markdown",
   "id": "d2f8c15b-c353-4d2d-88b3-fbe78399780a",
   "metadata": {},
   "source": [
    "## 2. Methodolody "
   ]
  },
  {
   "cell_type": "markdown",
   "id": "7459630b-795f-4aa3-97af-6be7419ab5c3",
   "metadata": {},
   "source": [
    "(Problem 1) To create the 7x7 cosine similarity matrix, I broke it up into two segments. Step 1 is to compute each cosine similarity. This requires 3 quantities and 3 functions. We need the dot product and the magnitude of both vectors. I created a function for each of those, then made my final function a combination of the two to get a cosine similarity function. This works for any two vectors. The 7 colors we are concerned with were written in vector form to be used in the function. Step 2 was to create the matrix. I started with an empty 7x7 matrix and used two for loops to fill the entries with the cosine similarities. I made sure my loop gets every single combination of all 7 colors, a total of 49, and took each of their operations and added it to the appropriate entry of the matrix. I used the round function to only put 3 decimals in each entry. (Problem 3) to find the number of times the phrase 'butterfly effect' appears in the article, I started by adding .lower() to the variable that extracted the words to not have to worry about upper/lower case. I then defined \"freq\" to be zero. I used one loop to see if one element entry was \"butterfly\" AND the second entry was \"effect\", then it would add 1 to the frequency count. Finally, it printed the frequency after iterating through every word. "
   ]
  },
  {
   "cell_type": "markdown",
   "id": "56878861-8de5-4890-9896-5b4a5490cd75",
   "metadata": {},
   "source": [
    "## 3. Code and Results"
   ]
  },
  {
   "cell_type": "markdown",
   "id": "8681dbe8-146e-45e3-ad3a-27ca27955a70",
   "metadata": {},
   "source": [
    "### Results for Q1"
   ]
  },
  {
   "cell_type": "code",
   "execution_count": 20,
   "id": "56bd3e3f-c27e-47b5-bb9e-30cac5127d5b",
   "metadata": {},
   "outputs": [
    {
     "name": "stdout",
     "output_type": "stream",
     "text": [
      "Cosine Similarity Matrix for ROYGBIV:\n",
      "\n",
      " [[1.    0.84  0.707 0.    0.    0.282 0.707]\n",
      " [0.84  1.    0.978 0.543 0.    0.237 0.594]\n",
      " [0.707 0.978 1.    0.707 0.    0.2   0.5  ]\n",
      " [0.    0.543 0.707 1.    0.    0.    0.   ]\n",
      " [0.    0.    0.    0.    1.    0.959 0.707]\n",
      " [0.282 0.237 0.2   0.    0.959 1.    0.878]\n",
      " [0.707 0.594 0.5   0.    0.707 0.878 1.   ]]\n"
     ]
    }
   ],
   "source": [
    "import numpy as np\n",
    "red = [255,0,0]\n",
    "orange = [255,165,0]\n",
    "yellow = [255,255,0]\n",
    "green = [0,128,0]\n",
    "blue = [0,0,255]\n",
    "indigo = [75,0,255]\n",
    "violet = [128,0,128]\n",
    "\n",
    "def dot_product(a,b):\n",
    "    products = []\n",
    "    for i in range(len(b)):\n",
    "        prod = a[i]*b[i]\n",
    "        products.append(prod)\n",
    "    return(sum(products))\n",
    "\n",
    "\n",
    "def magnitude(a):\n",
    "    squares = []\n",
    "    for i in range(len(a)):\n",
    "        a_squared = a[i]**2\n",
    "        squares.append(a_squared)\n",
    "    \n",
    "    return((sum(squares)**(1/2)))\n",
    "    \n",
    "def cosine_sim(a,b):\n",
    "    return dot_product(a,b) / (magnitude(a)*magnitude(b))\n",
    "    \n",
    "colors = [red, orange, yellow, green, blue, indigo, violet]\n",
    "cosine_matrix = np.zeros((7,7))\n",
    "for i in range(len(colors)):\n",
    "    for j in range(len(colors)):\n",
    "        dot = cosine_sim(colors[i],colors[j])\n",
    "        cosine_matrix[i,j] = round(dot,3)\n",
    "print(\"Cosine Similarity Matrix for ROYGBIV:\\n\\n\" , cosine_matrix)"
   ]
  },
  {
   "cell_type": "markdown",
   "id": "c986333b-0405-48a1-ac16-d8024104ce55",
   "metadata": {},
   "source": [
    "### Results for Q2"
   ]
  },
  {
   "cell_type": "markdown",
   "id": "3096356e-a745-4a43-9b9a-c5ad5b793271",
   "metadata": {},
   "source": [
    "#### Using information from #1b and lecture notes, explore the ideas of rounding and truncation."
   ]
  },
  {
   "cell_type": "markdown",
   "id": "84decbae-4882-4884-a733-37f5ac44065a",
   "metadata": {},
   "source": [
    "Rounding and truncation are both methods of decimal approximations but have different approaches. When rounding a number to n digits, we consider whether the (n+1)th >= 5 or < 5. This tells us if we are going to round up or down. Rounding is a generally more accurate method of decimal approximation than truncation. Truncation has a a similar approach but does not consider the (n+1)th digit and cuts it off without adjusting the nth digit. Truncation can cause errors that progress during lengthy calcuations. "
   ]
  },
  {
   "cell_type": "markdown",
   "id": "88490704-2049-4fd2-8ac6-1e1843c8a23a",
   "metadata": {},
   "source": [
    "### Results for Q3\n",
    "\n",
    "Extend the given code to compute the frequency of the term \"butterfly effect\" within the Wikipedia article titled \"Butterfly Effect\""
   ]
  },
  {
   "cell_type": "code",
   "execution_count": 41,
   "id": "836ee2a0-d16f-4c59-8e55-6381419ec388",
   "metadata": {},
   "outputs": [
    {
     "name": "stdout",
     "output_type": "stream",
     "text": [
      "butterfly effect, butterfly effect, butterfly effect, butterfly effect, butterfly effect, butterfly effect, butterfly effect, butterfly effect, butterfly effect, butterfly effect, butterfly effect, butterfly effect, butterfly effects, butterfly effect, butterfly effects, butterfly effect, butterfly effect, butterfly effect, butterfly effects, butterfly effect, butterfly effect, butterfly effects, butterfly effect, butterfly effect, butterfly effect, butterfly effect, butterfly effect, butterfly effect, butterfly effect, butterfly effect, butterfly effect, butterfly effect, butterfly effect, butterfly effect, butterfly effect, butterfly effect, butterfly effect, butterfly effect, butterfly effects, butterfly effect, butterfly effects, butterfly effect, butterfly effect, butterfly effects, butterfly effects, butterfly effects, butterfly effect, butterfly effect, butterfly effect, butterfly effect, butterfly effect, butterfly effect, butterfly effect, butterfly effect, butterfly effect, butterfly effect, \n",
      "The phrase 'butterfly effect' appears 56 times in the Wikipedia article titled 'Butterfly Effect\n"
     ]
    }
   ],
   "source": [
    "import requests\n",
    "from bs4 import BeautifulSoup\n",
    "import re\n",
    "\n",
    "url = \"https://en.wikipedia.org/wiki/Butterfly_effect\"\n",
    "response = requests.get(url)\n",
    "if response.status_code == 200:\n",
    "    soup = BeautifulSoup(response.text, 'html.parser')\n",
    "    content = soup.find(id='mw-content-text')\n",
    "    text = content.get_text(\" \",strip=True).lower() #so we dont have to worry about upper vs lower  \n",
    "    text = re.sub(r'[^\\w\\s]', '', text)\n",
    "    #my method of counting frequencies only got the main text. this line allows to count the cases\n",
    "    #that the phrase shows up along the side of the page.\n",
    "    words = text.split()\n",
    "    freq = 0\n",
    "    n = len(words)\n",
    "    for i in range(n-1): #in case 'butterfly' were to be the last word in the article, we want to avoid indexing out of range for i+1\n",
    "        if words[i] == \"butterfly\" and (words[i+1] == \"effect\" or words[i+1] == \"effects\"):\n",
    "            freq += 1\n",
    "            print(f\"{words[i]} {words[i+1]}, \",end=\"\")\n",
    "    print(\"\\nThe phrase 'butterfly effect' appears\", freq, \"times in the Wikipedia article titled 'Butterfly Effect\")         \n",
    "else: \n",
    "    print(\"Failed to fetch the Wikipedia page.\")"
   ]
  },
  {
   "cell_type": "code",
   "execution_count": null,
   "id": "4ef57360-58b7-48d6-aa6a-2016c223507a",
   "metadata": {},
   "outputs": [],
   "source": []
  }
 ],
 "metadata": {
  "kernelspec": {
   "display_name": "Python [conda env:base] *",
   "language": "python",
   "name": "conda-base-py"
  },
  "language_info": {
   "codemirror_mode": {
    "name": "ipython",
    "version": 3
   },
   "file_extension": ".py",
   "mimetype": "text/x-python",
   "name": "python",
   "nbconvert_exporter": "python",
   "pygments_lexer": "ipython3",
   "version": "3.12.7"
  }
 },
 "nbformat": 4,
 "nbformat_minor": 5
}

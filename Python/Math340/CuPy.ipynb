{
  "nbformat": 4,
  "nbformat_minor": 0,
  "metadata": {
    "colab": {
      "provenance": [],
      "gpuType": "T4"
    },
    "kernelspec": {
      "name": "python3",
      "display_name": "Python 3"
    },
    "language_info": {
      "name": "python"
    },
    "accelerator": "GPU"
  },
  "cells": [
    {
      "cell_type": "code",
      "execution_count": null,
      "metadata": {
        "colab": {
          "base_uri": "https://localhost:8080/"
        },
        "id": "7T59tHUaOo_w",
        "outputId": "69f348f8-301e-41a9-d7c1-81460a6ec127"
      },
      "outputs": [
        {
          "output_type": "stream",
          "name": "stdout",
          "text": [
            "+--------------+-------------------+-------------------+----------------------------------+\n",
            "|   Array Size |   Time using Loop |   Time using CuPy |   Time using In-place Arithmetic |\n",
            "+==============+===================+===================+==================================+\n",
            "|      1000000 |          0.12811  |       0.00101972  |                      9.10759e-05 |\n",
            "+--------------+-------------------+-------------------+----------------------------------+\n",
            "|     10000000 |          0.848475 |       0.000789165 |                      4.79221e-05 |\n",
            "+--------------+-------------------+-------------------+----------------------------------+\n"
          ]
        }
      ],
      "source": [
        "#pip install tabulate\n",
        "import numpy as np\n",
        "import cupy as cp\n",
        "import time\n",
        "from tabulate import tabulate  # Import tabulate to format the output into a table\n",
        "\n",
        "# Function to compute the time taken for each method\n",
        "def compute_time(array_size):\n",
        "    # Create a large array using Python lists\n",
        "    a_list = list(range(array_size))\n",
        "\n",
        "    # Create a large array using NumPy\n",
        "    a_numpy = cp.arange(array_size)\n",
        "\n",
        "    # Using loop to compute b = 3 * a + 1\n",
        "    start_time = time.time()\n",
        "    b_loop = []\n",
        "    for element in a_list:\n",
        "        b_loop.append(3 * element + 1)\n",
        "    loop_time = time.time() - start_time\n",
        "\n",
        "    # Using NumPy arrays to compute b = 3 * a + 1\n",
        "    start_time = time.time()\n",
        "    b_numpy = 3 * a_numpy + 1\n",
        "    cupy_time = time.time() - start_time\n",
        "\n",
        "    # Using in-place arithmetic to compute b = 3 * a + 1\n",
        "    start_time = time.time()\n",
        "    a_numpy *= 3\n",
        "    a_numpy += 1\n",
        "    inplace_time = time.time() - start_time\n",
        "\n",
        "    return [array_size, loop_time, cupy_time, inplace_time]\n",
        "\n",
        "# Table headers\n",
        "headers = [\"Array Size\", \"Time using Loop\", \"Time using CuPy\", \"Time using In-place Arithmetic\"]\n",
        "\n",
        "# Array sizes to test\n",
        "array_sizes = [10**6, 10**7]\n",
        "\n",
        "# Generate the table\n",
        "table_data = []\n",
        "for size in array_sizes:\n",
        "    table_data.append(compute_time(size))\n",
        "\n",
        "# Print the table\n",
        "print(tabulate(table_data, headers=headers, tablefmt=\"grid\"))\n",
        "\n"
      ]
    }
  ]
}

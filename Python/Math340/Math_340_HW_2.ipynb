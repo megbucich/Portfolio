{
  "cells": [
    {
      "cell_type": "markdown",
      "id": "ab3a79e5-4f2e-4e91-bef4-3ed87ab1ce2a",
      "metadata": {
        "id": "ab3a79e5-4f2e-4e91-bef4-3ed87ab1ce2a"
      },
      "source": [
        "<center>\n",
        "<div class=\"alert alert-block alert-info\">\n",
        "    <h1> </h1>\n",
        "    <h1><font size=\"+3\"> <b> Math340 HW2 </b> </font></h1>\n",
        "    <h1><font size=\"+3\"> <b> Programming in Mathematics </b> </font></h1>\n",
        "    <h1><font size=\"+3\"> <b> Due Feburary 7, 2025 </b> </font></h1>\n",
        "    \n",
        "</div>\n",
        "</center>\n",
        "\n",
        "<br>\n",
        "\n",
        "\n",
        "\n",
        "<center>\n",
        "<font size=\"+2\">\n",
        "Department of Mathematics and Statistics <br> <br>\n",
        "San Diego State University <br> <br>\n",
        "Spring 2025\n",
        "</font>\n",
        "</center>\n",
        "\n",
        "\n",
        "\n",
        "\n",
        "\n",
        "\n"
      ]
    },
    {
      "cell_type": "markdown",
      "id": "d1d7dfac",
      "metadata": {
        "id": "d1d7dfac"
      },
      "source": [
        "## Your Name: Meg Bucich\n",
        "\n",
        "## Your ID:"
      ]
    },
    {
      "cell_type": "markdown",
      "id": "ac00d7e8-7894-471c-b22c-534f7bb771c5",
      "metadata": {
        "id": "ac00d7e8-7894-471c-b22c-534f7bb771c5"
      },
      "source": [
        "## 1. Summary"
      ]
    },
    {
      "cell_type": "markdown",
      "id": "e5e767c2-73b8-4c0e-97e4-4e44b568eba4",
      "metadata": {
        "id": "e5e767c2-73b8-4c0e-97e4-4e44b568eba4"
      },
      "source": [
        "In this homework, we focused on using for and while loops to reproduce existing code that was given to us. This allowed for us to think deeply about what each line of the code is doing. We also showed the \"by hand\" calcuations to understand what loops are doing. We learned how to use basic functions in LaTex to type mathematical symbols and write systems of ODE's. We also asked ChatGPT to explain the difference between mutable and immutable objects in python."
      ]
    },
    {
      "cell_type": "markdown",
      "id": "c2d32951-96b7-4688-a721-8c2468b075e5",
      "metadata": {
        "id": "c2d32951-96b7-4688-a721-8c2468b075e5"
      },
      "source": [
        "## 2. Methodology"
      ]
    },
    {
      "cell_type": "markdown",
      "id": "06e8a2a7",
      "metadata": {
        "id": "06e8a2a7"
      },
      "source": [
        "Methods used in this homework was basic for and while loop structures as well as basic LaTeX functions for writing symbols. We learned in lab how to write these symbols."
      ]
    },
    {
      "cell_type": "markdown",
      "id": "6241913d-4853-4c7d-b624-709b27e427e5",
      "metadata": {
        "id": "6241913d-4853-4c7d-b624-709b27e427e5"
      },
      "source": [
        "## 3. Code and Results (e.g., Tables, Figures, Outputs)"
      ]
    },
    {
      "cell_type": "markdown",
      "id": "875c1e32",
      "metadata": {
        "id": "875c1e32"
      },
      "source": [
        "### Results for Question 1"
      ]
    },
    {
      "cell_type": "code",
      "execution_count": 1,
      "id": "36708339",
      "metadata": {
        "id": "36708339",
        "colab": {
          "base_uri": "https://localhost:8080/"
        },
        "outputId": "6e9caa36-c0d7-4e82-bca0-1fe2c88a9d4d"
      },
      "outputs": [
        {
          "output_type": "stream",
          "name": "stdout",
          "text": [
            "10\n",
            "9\n",
            "8\n",
            "7\n",
            "6\n",
            "5\n",
            "4\n",
            "3\n"
          ]
        }
      ],
      "source": [
        "a = 10\n",
        "while a > 2:\n",
        "  print(a)\n",
        "  a -= 1"
      ]
    },
    {
      "cell_type": "code",
      "source": [
        "for i in range(10,2,-1): #negative indicates that we are going in decending order. just range(10,2) does not work.\n",
        "  print(i)"
      ],
      "metadata": {
        "colab": {
          "base_uri": "https://localhost:8080/"
        },
        "id": "fS0ybH3dlwk1",
        "outputId": "57c234d5-0d61-42fe-a0d1-de7778073c9e"
      },
      "id": "fS0ybH3dlwk1",
      "execution_count": 7,
      "outputs": [
        {
          "output_type": "stream",
          "name": "stdout",
          "text": [
            "10\n",
            "9\n",
            "8\n",
            "7\n",
            "6\n",
            "5\n",
            "4\n",
            "3\n"
          ]
        }
      ]
    },
    {
      "cell_type": "markdown",
      "id": "a08c5884",
      "metadata": {
        "id": "a08c5884"
      },
      "source": [
        "### Results for Question 2"
      ]
    },
    {
      "cell_type": "markdown",
      "source": [
        "#### Original Code for Calendar"
      ],
      "metadata": {
        "id": "JPcCy8nHn2l1"
      },
      "id": "JPcCy8nHn2l1"
    },
    {
      "cell_type": "code",
      "execution_count": 8,
      "id": "db376cb8",
      "metadata": {
        "id": "db376cb8",
        "colab": {
          "base_uri": "https://localhost:8080/",
          "height": 139
        },
        "outputId": "d65da2ae-6cb2-4f74-efbc-de41e36839e9"
      },
      "outputs": [
        {
          "output_type": "execute_result",
          "data": {
            "text/plain": [
              "<IPython.core.display.HTML object>"
            ],
            "text/html": [
              "<table border=\"0\" cellpadding=\"0\" cellspacing=\"0\" class=\"month\">\n",
              "<tr><th colspan=\"7\" class=\"month\">February 2025</th></tr>\n",
              "<tr><th class=\"mon\">Mon</th><th class=\"tue\">Tue</th><th class=\"wed\">Wed</th><th class=\"thu\">Thu</th><th class=\"fri\">Fri</th><th class=\"sat\">Sat</th><th class=\"sun\">Sun</th></tr>\n",
              "<tr><td class=\"noday\">&nbsp;</td><td class=\"noday\">&nbsp;</td><td class=\"noday\">&nbsp;</td><td class=\"noday\">&nbsp;</td><td class=\"noday\">&nbsp;</td><td class=\"sat\" bgcolor=\"pink\">1</td><td class=\"sun\" bgcolor=\"pink\">2</td></tr>\n",
              "<tr><td class=\"mon\" bgcolor=\"pink\">3</td><td class=\"tue\" bgcolor=\"pink\">4</td><td class=\"wed\" bgcolor=\"pink\">5</td><td class=\"thu\" bgcolor=\"pink\">6</td><td class=\"fri\">7</td><td class=\"sat\">8</td><td class=\"sun\">9</td></tr>\n",
              "<tr><td class=\"mon\">10</td><td class=\"tue\">11</td><td class=\"wed\">12</td><td class=\"thu\">13</td><td class=\"fri\">14</td><td class=\"sat\">15</td><td class=\"sun\">16</td></tr>\n",
              "<tr><td class=\"mon\">17</td><td class=\"tue\">18</td><td class=\"wed\">19</td><td class=\"thu\">20</td><td class=\"fri\">21</td><td class=\"sat\">22</td><td class=\"sun\">23</td></tr>\n",
              "<tr><td class=\"mon\">24</td><td class=\"tue\">25</td><td class=\"wed\">26</td><td class=\"thu\">27</td><td class=\"fri\">28</td><td class=\"noday\">&nbsp;</td><td class=\"noday\">&nbsp;</td></tr>\n",
              "</table>\n"
            ]
          },
          "metadata": {},
          "execution_count": 8
        }
      ],
      "source": [
        "import calendar\n",
        "from calendar import HTMLCalendar\n",
        "from IPython.display import HTML\n",
        "\n",
        "# Based on https://stackoverflow.com/a/1458077/1639671\n",
        "class HighlightedCalendar(HTMLCalendar):\n",
        "    def __init__(self, highlight=[], *args, **kwargs):\n",
        "        super().__init__(*args, **kwargs)\n",
        "        self._highlight = highlight\n",
        "\n",
        "    def formatday(self, day, weekday):\n",
        "        \"\"\"\n",
        "        Return a day as a table cell.\n",
        "        \"\"\"\n",
        "        if day in self._highlight:\n",
        "            return '<td class=\"%s\" bgcolor=\"pink\">%d</td>' % (self.cssclasses[weekday], day)\n",
        "        else:\n",
        "            return super().formatday(day, weekday)\n",
        "\n",
        "highlight = range(1, 7)\n",
        "\n",
        "\n",
        "HTML(HighlightedCalendar(highlight=highlight).formatmonth(2025, 2))"
      ]
    },
    {
      "cell_type": "markdown",
      "source": [
        "### My code for Calendar\n"
      ],
      "metadata": {
        "id": "1lO5IE_koCiv"
      },
      "id": "1lO5IE_koCiv"
    },
    {
      "cell_type": "code",
      "source": [
        "\n",
        "print(f\"\\nFebruary 2025\\n\")\n",
        "print(\"Mon Tues Wed Thu Fri Sat Sun\")\n",
        "pink = range(1,7)\n",
        "dates = list(range(1,29))\n",
        "day = 1\n",
        "weekday = 5\n",
        "for i in range(weekday):\n",
        "  print(\"    \", end=\"\")\n",
        "while day <= len(dates):\n",
        "    if day in pink:\n",
        "      print(f\" \\033[95m{day}\\033[0m  \",end = \"\") #to make the numbers pink\n",
        "    else:\n",
        "      print(f\" {day} \",end = \"\")\n",
        "    day += 1\n",
        "    weekday += 1\n",
        "    if weekday == 7:\n",
        "      print()\n",
        "      weekday = 0\n",
        "\n"
      ],
      "metadata": {
        "colab": {
          "base_uri": "https://localhost:8080/"
        },
        "id": "7sdM-S4G2Gh3",
        "outputId": "ea3e6534-978b-470d-eedd-7708ff68ce39"
      },
      "id": "7sdM-S4G2Gh3",
      "execution_count": 90,
      "outputs": [
        {
          "output_type": "stream",
          "name": "stdout",
          "text": [
            "\n",
            "February 2025\n",
            "\n",
            "Mon Tues Wed Thu Fri Sat Sun\n",
            "                     \u001b[95m1\u001b[0m   \u001b[95m2\u001b[0m  \n",
            " \u001b[95m3\u001b[0m   \u001b[95m4\u001b[0m   \u001b[95m5\u001b[0m   \u001b[95m6\u001b[0m   7  8  9 \n",
            " 10  11  12  13  14  15  16 \n",
            " 17  18  19  20  21  22  23 \n",
            " 24  25  26  27  28 "
          ]
        }
      ]
    },
    {
      "cell_type": "markdown",
      "id": "7d605a4c",
      "metadata": {
        "id": "7d605a4c"
      },
      "source": [
        "### Results for Question 3a"
      ]
    },
    {
      "cell_type": "code",
      "source": [
        "initial_funds = 100\n",
        "current_funds = initial_funds\n",
        "interest_rate = 5.6\n",
        "for years in range(1,8):\n",
        "  current_funds = current_funds + (interest_rate / 100) * current_funds\n",
        "  print(f\"For {years} {'year' if years == 1 else 'years'}, Current Funds :${current_funds:.2f}\")"
      ],
      "metadata": {
        "colab": {
          "base_uri": "https://localhost:8080/"
        },
        "id": "iC_sd4VzGP1b",
        "outputId": "c9f33390-adce-4300-a558-d0929f5cdba8"
      },
      "id": "iC_sd4VzGP1b",
      "execution_count": 83,
      "outputs": [
        {
          "output_type": "stream",
          "name": "stdout",
          "text": [
            "For 1 year, Current Funds :$105.60\n",
            "For 2 years, Current Funds :$111.51\n",
            "For 3 years, Current Funds :$117.76\n",
            "For 4 years, Current Funds :$124.35\n",
            "For 5 years, Current Funds :$131.32\n",
            "For 6 years, Current Funds :$138.67\n",
            "For 7 years, Current Funds :$146.44\n"
          ]
        }
      ]
    },
    {
      "cell_type": "markdown",
      "source": [
        "### Results for Question 3b"
      ],
      "metadata": {
        "id": "nY1C5bGOGG-_"
      },
      "id": "nY1C5bGOGG-_"
    },
    {
      "cell_type": "code",
      "source": [
        "year_1 = 100 + (5.6/100) * 100\n",
        "print(f\"For 1 year, Current Funds :${year_1:.2f}\")\n",
        "year_2 = year_1 + (5.6/100) * year_1\n",
        "print(f\"For 2 years, Current Funds :${year_2:.2f}\")\n",
        "year_3 = year_2 + (5.6/100) * year_2\n",
        "print(f\"For 3 years, Current Funds :${year_3:.2f}\")\n",
        "year_4 = year_3 + (5.6/100) * year_3\n",
        "print(f\"For 4 years, Current Funds :${year_4:.2f}\")\n",
        "year_5 = year_4 + (5.6/100) * year_4\n",
        "print(f\"For 5 years, Current Funds :${year_5:.2f}\")\n",
        "year_6 = year_5 + (5.6/100) * year_5\n",
        "print(f\"For 6 years, Current Funds :${year_6:.2f}\")\n",
        "year_7 = year_6 + (5.6/100) * year_6\n",
        "print(f\"For 7 years, Current Funds :${year_7:.2f}\")"
      ],
      "metadata": {
        "colab": {
          "base_uri": "https://localhost:8080/"
        },
        "id": "c02TAFZ_Gax6",
        "outputId": "a05bbf7d-c2c5-4a7d-c394-ecfa9589e060"
      },
      "id": "c02TAFZ_Gax6",
      "execution_count": 2,
      "outputs": [
        {
          "output_type": "stream",
          "name": "stdout",
          "text": [
            "For 1 year, Current Funds :$105.60\n",
            "For 2 years, Current Funds :$111.51\n",
            "For 3 years, Current Funds :$117.76\n",
            "For 4 years, Current Funds :$124.35\n",
            "For 5 years, Current Funds :$131.32\n",
            "For 6 years, Current Funds :$138.67\n",
            "For 7 years, Current Funds :$146.44\n"
          ]
        }
      ]
    },
    {
      "cell_type": "markdown",
      "source": [
        "### Results for Question 3c"
      ],
      "metadata": {
        "id": "sBaG3mSlGMNb"
      },
      "id": "sBaG3mSlGMNb"
    },
    {
      "cell_type": "code",
      "source": [
        "initial_funds = 100\n",
        "current_funds = initial_funds\n",
        "interest_rate = 5.6\n",
        "years = 1\n",
        "while years < 8:\n",
        "  current_funds +=  (interest_rate / 100) * current_funds\n",
        "  print(f\"For {years} {'year' if years == 1 else 'years'}, Current Funds :${current_funds:.2f}\")\n",
        "  years += 1"
      ],
      "metadata": {
        "colab": {
          "base_uri": "https://localhost:8080/"
        },
        "id": "JgN60yfVGQ-P",
        "outputId": "9c51d982-8a1d-429a-cc7e-0284a2ec1098"
      },
      "id": "JgN60yfVGQ-P",
      "execution_count": 87,
      "outputs": [
        {
          "output_type": "stream",
          "name": "stdout",
          "text": [
            "For 1 year, Current Funds :$105.60\n",
            "For 2 years, Current Funds :$111.51\n",
            "For 3 years, Current Funds :$117.76\n",
            "For 4 years, Current Funds :$124.35\n",
            "For 5 years, Current Funds :$131.32\n",
            "For 6 years, Current Funds :$138.67\n",
            "For 7 years, Current Funds :$146.44\n"
          ]
        }
      ]
    },
    {
      "cell_type": "markdown",
      "source": [
        "### Results for Question 4\n"
      ],
      "metadata": {
        "id": "jjxO86i1WhOF"
      },
      "id": "jjxO86i1WhOF"
    },
    {
      "cell_type": "markdown",
      "source": [
        "When promted with the question: please provide a concise explanation of the differences between mutable and immutable variables in Python, ChatGPT responded: \"Mutable Variables: These can be changed after creation, meaning their contents (like elements in a list or values in a dictionary) can be modified without changing their identity. Examples include list, dict, set.\n",
        "\n",
        "Immutable Variables: These cannot be changed after creation. Any modification creates a new object with a new identity. Examples include int, float, str, tuple.\n",
        "\n",
        "Key difference: Mutables can be updated in place, while immutables require creating new objects for changes.\""
      ],
      "metadata": {
        "id": "xEP4_JOrWlRk"
      },
      "id": "xEP4_JOrWlRk"
    },
    {
      "cell_type": "markdown",
      "source": [
        "### Results for Question 5A"
      ],
      "metadata": {
        "id": "XMxL-D77kC60"
      },
      "id": "XMxL-D77kC60"
    },
    {
      "cell_type": "markdown",
      "source": [
        "$$\\frac{\\partial X}{\\partial \\tau} = \\sigma Y - \\sigma X $$\n",
        "$$\\frac{\\partial Y}{\\partial \\tau} = -XZ +  rX - Y $$\n",
        "$$\\frac{\\partial Z}{\\partial \\tau} = XY - \\beta Z $$"
      ],
      "metadata": {
        "id": "9DR3Ccj7kJpG"
      },
      "id": "9DR3Ccj7kJpG"
    },
    {
      "cell_type": "markdown",
      "source": [
        "### Results for Question 5B"
      ],
      "metadata": {
        "id": "Jt-yfaqFkYi_"
      },
      "id": "Jt-yfaqFkYi_"
    },
    {
      "cell_type": "markdown",
      "source": [
        "$$\\frac{\\partial X}{\\partial \\tau} = \\sigma Y - \\sigma X $$\n",
        "$$\\frac{\\partial Y}{\\partial \\tau} = -XZ + \\rho X - Y $$\n",
        "$$\\frac{\\partial Z}{\\partial \\tau} = XY - \\beta Z $$"
      ],
      "metadata": {
        "id": "CP9V2Hu3kiz7"
      },
      "id": "CP9V2Hu3kiz7"
    },
    {
      "cell_type": "markdown",
      "source": [
        "### Results for Question 6"
      ],
      "metadata": {
        "id": "KoDRk0jskDL1"
      },
      "id": "KoDRk0jskDL1"
    },
    {
      "cell_type": "markdown",
      "source": [
        "Submitted the Overleaf PDF in Canvas"
      ],
      "metadata": {
        "id": "UQZVFY2ckt4E"
      },
      "id": "UQZVFY2ckt4E"
    }
  ],
  "metadata": {
    "kernelspec": {
      "display_name": "Python 3 (ipykernel)",
      "language": "python",
      "name": "python3"
    },
    "language_info": {
      "codemirror_mode": {
        "name": "ipython",
        "version": 3
      },
      "file_extension": ".py",
      "mimetype": "text/x-python",
      "name": "python",
      "nbconvert_exporter": "python",
      "pygments_lexer": "ipython3",
      "version": "3.9.18"
    },
    "colab": {
      "provenance": []
    }
  },
  "nbformat": 4,
  "nbformat_minor": 5
}
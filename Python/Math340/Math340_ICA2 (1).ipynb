{
 "cells": [
  {
   "cell_type": "markdown",
   "id": "47760cf6-40ff-48dc-85ed-3e4bd3cb3702",
   "metadata": {},
   "source": [
    "<center>\n",
    "<div class=\"alert alert-block alert-info\">\n",
    "    <h1> </h1>\n",
    "    <h1><font size=\"+3\"> <b> Math340 ICA 2 </b> </font></h1>\n",
    "    <h1><font size=\"+3\"> <b> Programming in Mathematics </b> </font></h1>\n",
    "    <h1><font size=\"+3\"> <b> Due March 28, 2025 </b> </font></h1>\n",
    "    \n",
    "</div>\n",
    "</center>\n",
    "\n",
    "<br>\n",
    "\n",
    "\n",
    "\n",
    "<center>\n",
    "<font size=\"+2\">\n",
    "Department of Mathematics and Statistics <br> <br>\n",
    "San Diego State University <br> <br>\n",
    "Spring 2025\n",
    "</font>\n",
    "</center>\n",
    "\n",
    "\n",
    "\n",
    "\n",
    "\n",
    "\n"
   ]
  },
  {
   "cell_type": "markdown",
   "id": "d4762584-5789-4e8f-80f8-0ee36157270f",
   "metadata": {},
   "source": [
    "## Your Name: Meg Bucich\n",
    "\n",
    "## Your ID: 131787276\n",
    "\n",
    "## 1. Summary"
   ]
  },
  {
   "cell_type": "markdown",
   "id": "2eb4f8a2-2613-437f-9636-d500409b110c",
   "metadata": {},
   "source": [
    "(1) We were asked to run code that was already provided and just changed 2 values. (2) we did a series of steps with the recursive formula for the Fibonacci sequence where we computed the golden ratio and also approximated it using e. (3) We used backpropagation to compute a deriavtive (chain rule) then were asked to use sympy to compute the derivative of a partial and plot it. (4) we were asked to run a code and explain its results. (5) We had to use the provide code the illustrate the differences of pass by reference and pass by value."
   ]
  },
  {
   "cell_type": "markdown",
   "id": "38f22eb0-6186-415d-bb33-683b246169a0",
   "metadata": {},
   "source": [
    "## 2. Methodology"
   ]
  },
  {
   "cell_type": "markdown",
   "id": "12a9ba35-bb43-4cca-b3a6-02f4b6bcfc30",
   "metadata": {},
   "source": [
    "(1) All i did was change the numbers as asked. (2) We used markdown to complete this using a series of basic arithemetric and careful evaluation. (3). I used the quotient rule to take the derivative of the needed term. I used sympy to symbolically compute the derivative and used lambdify to plot my results by converting from sympy to numpy to use matplotlib.(4) I used my knowlegde of what numerical value $\\Phi$ is and considered what $log_{10}(\\Phi)$ might be and used that to analzye the resulting graphs. (5) I used ran a series of code to show how the original variable changes or stays the same based on how we reference it using other variables. "
   ]
  },
  {
   "cell_type": "markdown",
   "id": "cc67c18e-c882-4475-86ef-90f8ad267dac",
   "metadata": {},
   "source": [
    "## 3. Code and Results (e.g., Tables, Figures, Outputs)"
   ]
  },
  {
   "cell_type": "markdown",
   "id": "3e274ce4-0edf-43ac-becc-209473b6a554",
   "metadata": {},
   "source": [
    "### Results for Question 1"
   ]
  },
  {
   "cell_type": "markdown",
   "id": "6ea2547a-648a-4063-b2eb-9e0e287683a2",
   "metadata": {},
   "source": [
    "see attached google collab document"
   ]
  },
  {
   "cell_type": "markdown",
   "id": "e76e3442-aafc-4b00-9805-bdf6295be8bc",
   "metadata": {},
   "source": [
    "### Results for Question 2"
   ]
  },
  {
   "cell_type": "markdown",
   "id": "e05b65e6-a3ed-4b38-a150-abd294bedb6e",
   "metadata": {},
   "source": [
    "plugging $$Z_{n} = \\lambda^{n}$$ in for $$Z_{n+1} = Z_{n-1} + Z_{n}$$ we get \n",
    "$$\\lambda^{n+1} = \\lambda^{n-1} + \\lambda^{n}$$ dividing both sides by $\\lambda_{n-1}$ we get $$\\lambda^{2} = \\lambda + 1$$ moving everything over to the left hand side we now have $$\\lambda^{2} - \\lambda - 1 = 0$$ which is a quadratic so it has 2 roots. Using the quadratic equation, our roots are $$\\frac{1 \\pm \\sqrt{1^{2}-4(1)(-1)}}{2(1)}$$  which simplifies to $$\\frac{1 \\pm \\sqrt{5}}{2}$$. so $$\\lambda_{1} = \\frac{1 + \\sqrt{5}}{2}$$ (the golden ratio) as well as $$\\lambda_{2} = \\frac{1 - \\sqrt{5}}{2}$$. After discretization, $t = m\\Delta t$ we get the equation $$Z(m\\Delta t) = Z_{0}e^{\\sigma m \\Delta t}$$. This means that $$Z_{m+1} = Z_{0}e^{\\sigma (m+1) \\Delta t}$$. If we divide both sides of the equation by $Z_{m}$ where $Z_{m} = Z_{0}e^{\\sigma m \\Delta t}$, we have $$\\frac{Z_{m+1}}{Z_{m}} = \\frac{Z_{0}e^{\\sigma (m+1) \\Delta t}}{Z_{m} = Z_{0}e^{\\sigma m \\Delta t}}$$ which simplies to $e^{\\sigma \\Delta t}$. Therefore, we have $$\\frac{Z_{m+1}}{Z_{m}} = e^{\\sigma \\Delta t}$$. Using $\\sigma \\Delta t = \\frac{1}{2}$, we get $e^{1}{2} \\approx \\Phi (\\frac{1 + \\sqrt{5}}{2}) $"
   ]
  },
  {
   "cell_type": "markdown",
   "id": "17859285-7ce0-41f1-bad4-9c2db27cd73b",
   "metadata": {},
   "source": [
    "### Results for Question 3"
   ]
  },
  {
   "cell_type": "markdown",
   "id": "6e0c49a4-8263-40ea-960c-296afb1322ea",
   "metadata": {},
   "source": [
    "### From homework 7 #3\n",
    "$\\frac{\\partial L}{\\partial w_{1}} = -(q-\\hat{q}) \\frac{e^{-z}}{(1+e^{-z})^{2}} w_{3} \\frac{e^{-x}}{(1+e^{-x})^{2}} * u$\n",
    "where $$\\frac{\\partial a}{\\partial x} = \\frac{e^{-x}}{(1+e^{-x})^{2}}$$"
   ]
  },
  {
   "cell_type": "code",
   "execution_count": 83,
   "id": "a6911f34-a048-4c25-9023-e922d93f5ba9",
   "metadata": {},
   "outputs": [
    {
     "data": {
      "text/latex": [
       "$\\displaystyle - \\frac{e^{- x}}{\\left(1 + e^{- x}\\right)^{2}} + \\frac{2 e^{- 2 x}}{\\left(1 + e^{- x}\\right)^{3}}$"
      ],
      "text/plain": [
       "-exp(-x)/(1 + exp(-x))**2 + 2*exp(-2*x)/(1 + exp(-x))**3"
      ]
     },
     "metadata": {},
     "output_type": "display_data"
    },
    {
     "data": {
      "text/plain": [
       "[<matplotlib.lines.Line2D at 0x21ed8b46690>]"
      ]
     },
     "execution_count": 83,
     "metadata": {},
     "output_type": "execute_result"
    },
    {
     "data": {
      "image/png": "[encoded data removed]",
      "text/plain": [
       "<Figure size 640x480 with 1 Axes>"
      ]
     },
     "metadata": {},
     "output_type": "display_data"
    }
   ],
   "source": [
    "import sympy as sp\n",
    "import IPython.display as IPy\n",
    "x = sp.symbols('x')\n",
    "partial_a = (sp.exp(-x))/((1+sp.exp(-x))**2)\n",
    "derivative = sp.diff(partial_a)\n",
    "IPy.display(derivative)\n",
    "derivative_func = sp.lambdify(x, derivative, 'numpy')\n",
    "y_values = y_values = derivative_func(x_values)\n",
    "x_values = np.linspace(1,10,100)\n",
    "plt.plot(x_values,y_values)\n"
   ]
  },
  {
   "cell_type": "code",
   "execution_count": null,
   "id": "de9a5248-20a7-42f8-b9a6-79d59c458316",
   "metadata": {},
   "outputs": [],
   "source": []
  },
  {
   "cell_type": "code",
   "execution_count": null,
   "id": "58c0bc6e-76f1-497d-962e-3668db888237",
   "metadata": {},
   "outputs": [],
   "source": []
  },
  {
   "cell_type": "markdown",
   "id": "72485601-3761-41e6-9ef7-d4d8a671d2df",
   "metadata": {},
   "source": [
    "### Results for Question 4"
   ]
  },
  {
   "cell_type": "code",
   "execution_count": 34,
   "id": "f8b9f8d7-4655-4e85-8356-bc72f00f034e",
   "metadata": {},
   "outputs": [
    {
     "data": {
      "image/png": "[encoded data removed]",
      "text/plain": [
       "<Figure size 640x480 with 3 Axes>"
      ]
     },
     "metadata": {},
     "output_type": "display_data"
    }
   ],
   "source": [
    "import numpy as np\n",
    "import matplotlib.pyplot as plt\n",
    "\n",
    "def fibo_seq_array(n):\n",
    "    pn = np.ones(n+1,dtype = np.int64)\n",
    "    if n>= 2:\n",
    "        for jj in range(2,n+1):\n",
    "            pn[jj] = pn[jj - 1] + pn[jj - 2]\n",
    "    return pn\n",
    "Num = 30\n",
    "y = fibo_seq_array(Num)\n",
    "x = np.arange(1,Num+2)\n",
    "ylog = np.log10(y)\n",
    "\n",
    "plt.subplot(3,1,1)\n",
    "plt.plot(x,ylog)\n",
    "plt.subplot(3,1,2)\n",
    "plt.plot(ylog/x)\n",
    "plt.subplot(3,1,3)\n",
    "plt.plot((ylog[1:] - ylog[0:-1])/(x[1]-x[0]))\n",
    "plt.show()"
   ]
  },
  {
   "cell_type": "markdown",
   "id": "52c200e6-e2ca-4b12-84f6-86bbb659e3bc",
   "metadata": {},
   "source": [
    "The first plot is x values from 0,30 and we plotted their fibonacci number on a log scale. It gives a straight line which i assume has a slope of the golden ratio (dont know though). Its a linear line becasue the sequence grows exponentially, so taking the log of an exponent should give us something linear. The second plot is plotting x versus the log of its fibonacci number divided by x. This plot levels off around $log_{10} (\\Phi)$. The third plot approximate the growth rate of the sequence and since we plotted it log, we also see that it flattens out right around $log_{10} (\\Phi)$ as well. "
   ]
  },
  {
   "cell_type": "markdown",
   "id": "1f2d5bd9-a344-4c18-9b39-7232cec1cd5c",
   "metadata": {},
   "source": [
    "### Results for Question 5"
   ]
  },
  {
   "cell_type": "code",
   "execution_count": 16,
   "id": "7d34f34f-6863-4402-907d-eea2cffcf05b",
   "metadata": {},
   "outputs": [
    {
     "name": "stdout",
     "output_type": "stream",
     "text": [
      "[1, 4, 3]\n",
      "[1, 4, 3]\n"
     ]
    }
   ],
   "source": [
    "a = [1,2,3]\n",
    "c1 = a #a reference to a. any modifications to c1 will also modify a \n",
    "c1[1] = 4\n",
    "print(c1)\n",
    "print(a)\n"
   ]
  },
  {
   "cell_type": "markdown",
   "id": "29235b99-a425-4f40-833f-e0e0e1b1d6ec",
   "metadata": {},
   "source": [
    "I changed the second element of c1 to be 4, which then changes the second element of a to also be 4. This is because we made c1 a reference to a. Any modifications to c1 will also modify a."
   ]
  },
  {
   "cell_type": "code",
   "execution_count": 28,
   "id": "66c5c89c-064e-478d-b722-74c5b63f5bd6",
   "metadata": {},
   "outputs": [
    {
     "name": "stdout",
     "output_type": "stream",
     "text": [
      "[1, 5, 3]\n",
      "[1, 2, 3]\n"
     ]
    }
   ],
   "source": [
    "a = [1,2,3]\n",
    "c2 = a[:] #a shallow copy, creates a new object but does not recursively copy nested mutable objects\n",
    "c2[1] = 5\n",
    "print(c2)\n",
    "print(a)"
   ]
  },
  {
   "cell_type": "markdown",
   "id": "f75da160-1400-4e61-9266-f136c179b74d",
   "metadata": {},
   "source": [
    "I changed the second element of c2 to be 5, but this does not change the second element of a. This is becasue c2 is a shallow copy of a. This creates a new object but does not recursively copy nested mutable objects. "
   ]
  },
  {
   "cell_type": "code",
   "execution_count": 22,
   "id": "1fca0413-2051-414a-820f-10920d17cfc7",
   "metadata": {},
   "outputs": [
    {
     "name": "stdout",
     "output_type": "stream",
     "text": [
      "[1 6 3]\n",
      "[1 6 3]\n"
     ]
    }
   ],
   "source": [
    "import numpy as np\n",
    "b = np.arange(1,4,1)\n",
    "c3 = b\n",
    "c3[1] = 6\n",
    "print(c3)\n",
    "print(b)"
   ]
  },
  {
   "cell_type": "markdown",
   "id": "f5dfae35-721f-4887-a1bf-b39a09a99700",
   "metadata": {},
   "source": [
    "same thing as part 1. changes to c3 will also be changed to b. This is a reference to b. "
   ]
  },
  {
   "cell_type": "code",
   "execution_count": 24,
   "id": "7323d049-9933-4258-bfb1-26389047c245",
   "metadata": {},
   "outputs": [
    {
     "name": "stdout",
     "output_type": "stream",
     "text": [
      "[1 7 3]\n",
      "[1 7 3]\n"
     ]
    }
   ],
   "source": [
    "b = np.arange(1,4,1)\n",
    "c4 = b[:]\n",
    "c4[1] = 7\n",
    "print(c4)\n",
    "print(b)"
   ]
  },
  {
   "cell_type": "markdown",
   "id": "59042886-8be0-40a9-b167-f231d470c22c",
   "metadata": {},
   "source": [
    "this is the same thing as a reference "
   ]
  },
  {
   "cell_type": "code",
   "execution_count": 26,
   "id": "9abb45cf-51f6-4253-adf2-34764beb16fe",
   "metadata": {},
   "outputs": [
    {
     "name": "stdout",
     "output_type": "stream",
     "text": [
      "[1 8 3]\n",
      "[1 2 3]\n"
     ]
    }
   ],
   "source": [
    "b = np.arange(1,4,1)\n",
    "c5 = b.copy()\n",
    "c5[1] = 8\n",
    "print(c5)\n",
    "print(b)"
   ]
  },
  {
   "cell_type": "code",
   "execution_count": null,
   "id": "defe196d-1acf-44f7-9645-50cdf77a0157",
   "metadata": {},
   "outputs": [],
   "source": []
  }
 ],
 "metadata": {
  "kernelspec": {
   "display_name": "Python [conda env:base] *",
   "language": "python",
   "name": "conda-base-py"
  },
  "language_info": {
   "codemirror_mode": {
    "name": "ipython",
    "version": 3
   },
   "file_extension": ".py",
   "mimetype": "text/x-python",
   "name": "python",
   "nbconvert_exporter": "python",
   "pygments_lexer": "ipython3",
   "version": "3.12.7"
  }
 },
 "nbformat": 4,
 "nbformat_minor": 5
}

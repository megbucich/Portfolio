{
 "cells": [
  {
   "cell_type": "markdown",
   "id": "ab3a79e5-4f2e-4e91-bef4-3ed87ab1ce2a",
   "metadata": {
    "id": "ab3a79e5-4f2e-4e91-bef4-3ed87ab1ce2a"
   },
   "source": [
    "<center>\n",
    "<div class=\"alert alert-block alert-info\">\n",
    "    <h1> </h1>\n",
    "    <h1><font size=\"+3\"> <b> Math340 HW1 </b> </font></h1>\n",
    "    <h1><font size=\"+3\"> <b> Programming in Mathematics </b> </font></h1>\n",
    "    <h1><font size=\"+3\"> <b> Due September 6, 2024 </b> </font></h1>\n",
    "    \n",
    "</div>\n",
    "</center>\n",
    "\n",
    "<br>\n",
    "\n",
    "\n",
    "\n",
    "<center>\n",
    "<font size=\"+2\">\n",
    "Department of Mathematics and Statistics <br> <br>\n",
    "San Diego State University <br> <br>\n",
    "Fall 2024\n",
    "</font>\n",
    "</center>\n",
    "\n",
    "\n",
    "\n",
    "\n",
    "\n",
    "\n"
   ]
  },
  {
   "attachments": {},
   "cell_type": "markdown",
   "id": "5accc2c3-90f9-4a44-89bb-f1ca363cc3f6",
   "metadata": {
    "id": "d1d7dfac"
   },
   "source": [
    "## Your Name: Meg Bucich\n",
    "\n",
    "## Your ID: 131787276\n",
    "\n",
    "## 1. Summary"
   ]
  },
  {
   "cell_type": "markdown",
   "id": "e5e767c2-73b8-4c0e-97e4-4e44b568eba4",
   "metadata": {
    "id": "e5e767c2-73b8-4c0e-97e4-4e44b568eba4"
   },
   "source": [
    "For this homework, we were required to complete a pre-semester Google survey, install Anaconda Python, launch Jupyter Notebook, and type a few statements. "
   ]
  },
  {
   "cell_type": "markdown",
   "id": "c2d32951-96b7-4688-a721-8c2468b075e5",
   "metadata": {
    "id": "c2d32951-96b7-4688-a721-8c2468b075e5"
   },
   "source": [
    "## 2. Methodology"
   ]
  },
  {
   "cell_type": "markdown",
   "id": "06e8a2a7",
   "metadata": {
    "id": "06e8a2a7"
   },
   "source": [
    "Audrey walked us through the process of how to download everything and made sure everyone was on the same page. She then walked us through the statements we had to type and showed us a couple things about how Jupyter works. "
   ]
  },
  {
   "cell_type": "markdown",
   "id": "6241913d-4853-4c7d-b624-709b27e427e5",
   "metadata": {
    "id": "6241913d-4853-4c7d-b624-709b27e427e5"
   },
   "source": [
    "## 3. Code and Results (e.g., Tables, Figures, Outputs)"
   ]
  },
  {
   "cell_type": "markdown",
   "id": "875c1e32",
   "metadata": {
    "id": "875c1e32"
   },
   "source": [
    "### Results for Question 1"
   ]
  },
  {
   "cell_type": "markdown",
   "id": "ce2d9b2e-25df-4c76-9eac-a09823371a96",
   "metadata": {
    "id": "36708339"
   },
   "source": [
    "I compl"
   ]
  },
  {
   "cell_type": "markdown",
   "id": "a08c5884",
   "metadata": {
    "id": "a08c5884"
   },
   "source": [
    "### Results for Question 2"
   ]
  },
  {
   "cell_type": "markdown",
   "id": "599aad69-ced3-4a82-8a53-fa86b13360c0",
   "metadata": {
    "id": "db376cb8"
   },
   "source": [
    "I submitted a screenshot of my downloaded anaconda navigator in my canvas submission of launching jupyter notebook"
   ]
  },
  {
   "cell_type": "markdown",
   "id": "7d605a4c",
   "metadata": {
    "id": "7d605a4c"
   },
   "source": [
    "### Results for Question 3"
   ]
  },
  {
   "cell_type": "code",
   "execution_count": 22,
   "id": "e9a18bdd",
   "metadata": {
    "id": "e9a18bdd"
   },
   "outputs": [
    {
     "name": "stdout",
     "output_type": "stream",
     "text": [
      "Hello World\n"
     ]
    }
   ],
   "source": [
    "print(\"Hello World\")"
   ]
  },
  {
   "cell_type": "code",
   "execution_count": 26,
   "id": "7f7b7200",
   "metadata": {
    "id": "7f7b7200"
   },
   "outputs": [
    {
     "name": "stdout",
     "output_type": "stream",
     "text": [
      "Current Time =  10:08:57 2025-01-24\n"
     ]
    }
   ],
   "source": [
    "from datetime import datetime\n",
    "now = datetime.now()\n",
    "current_time = now.strftime(\"%H:%M:%S %Y-%m-%d\")\n",
    "print(\"Current Time = \" , current_time)\n"
   ]
  }
 ],
 "metadata": {
  "colab": {
   "provenance": []
  },
  "kernelspec": {
   "display_name": "Python [conda env:base] *",
   "language": "python",
   "name": "conda-base-py"
  },
  "language_info": {
   "codemirror_mode": {
    "name": "ipython",
    "version": 3
   },
   "file_extension": ".py",
   "mimetype": "text/x-python",
   "name": "python",
   "nbconvert_exporter": "python",
   "pygments_lexer": "ipython3",
   "version": "3.12.7"
  }
 },
 "nbformat": 4,
 "nbformat_minor": 5
}

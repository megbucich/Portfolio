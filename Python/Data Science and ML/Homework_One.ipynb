{
 "cells": [
  {
   "cell_type": "code",
   "execution_count": 3,
   "metadata": {},
   "outputs": [],
   "source": [
    "import numpy as np\n",
    "import matplotlib.pyplot as plt\n",
    "%matplotlib inline"
   ]
  },
  {
   "cell_type": "markdown",
   "metadata": {},
   "source": [
    "**Problem 1**: For a $n\\times n$ unitary matrix $U$, so that $U^{-1}=U^{\\dagger}$ show that \n",
    "\n",
    "$$\n",
    "\\left|\\left|U{\\bf x}\\right|\\right| = \\left|\\left|{\\bf x}\\right|\\right|, ~ {\\bf x}\\in \\mathbb{C}^{n}\n",
    "$$\n",
    "\n",
    "Please explain in words what this means.  "
   ]
  },
  {
   "cell_type": "code",
   "execution_count": null,
   "metadata": {},
   "outputs": [],
   "source": []
  },
  {
   "cell_type": "markdown",
   "metadata": {},
   "source": [
    "This means that the size of the vector X is not affected when it's multipled by a matrix because it has a size of 1 unit. "
   ]
  },
  {
   "cell_type": "markdown",
   "metadata": {},
   "source": [
    "**Problem 2**: For the matrix $A:\\mathbb{R}^{2}\\rightarrow \\mathbb{R}^{3}$ where \n",
    "\n",
    "$$\n",
    "A = \\begin{pmatrix} 1 & 3 \\\\ 3 & 2 \\\\ 1 & 2 \\end{pmatrix}\n",
    "$$\n",
    "\n",
    "using `np.linalg.svd`, numerically compute its full and economy SVD.\n",
    "\n",
    "* Explain, as in literally show, the differences between the economy and full SVD.  \n",
    "* Using `np.linalg.norm` test the orthonomality of the orthogonal matrices in your SVD.  Comment on what you find.  "
   ]
  },
  {
   "cell_type": "code",
   "execution_count": 9,
   "metadata": {},
   "outputs": [],
   "source": [
    "A = np.array([[1,3],[3,2],[1,2]])\n",
    "full_SVD = np.linalg.svd(A,full_matrices =True)\n",
    "econ_SVD = np.linalg.svd(A,full_matrices=False)"
   ]
  },
  {
   "cell_type": "code",
   "execution_count": 18,
   "metadata": {},
   "outputs": [
    {
     "name": "stdout",
     "output_type": "stream",
     "text": [
      "Full SVD\n",
      "U:\n",
      " [[-0.59347314  0.63668312 -0.49236596]\n",
      " [-0.67666349 -0.72593045 -0.12309149]\n",
      " [-0.43579372  0.26011458  0.86164044]] \n",
      "D:\n",
      "  [5.0400153  1.61190749] \n",
      "V: \n",
      " [[-0.60699365 -0.79470668]\n",
      " [-0.79470668  0.60699365]]\n",
      "Economy SVD\n",
      "U:\n",
      " [[-0.59347314  0.63668312]\n",
      " [-0.67666349 -0.72593045]\n",
      " [-0.43579372  0.26011458]] \n",
      "D:\n",
      "  [5.0400153  1.61190749] \n",
      "V: \n",
      " [[-0.60699365 -0.79470668]\n",
      " [-0.79470668  0.60699365]]\n"
     ]
    }
   ],
   "source": [
    "U_full,D_full,V_full = full_SVD\n",
    "U_econ,D_econ,V_econ = econ_SVD\n",
    "print(\"Full SVD\")\n",
    "print(\"U:\\n\", U_full,\"\\nD:\\n \", D_full,\"\\nV: \\n\", V_full)\n",
    "print(\"Economy SVD\")\n",
    "print(\"U:\\n\", U_econ,\"\\nD:\\n \", D_econ,\"\\nV: \\n\", V_econ)\n"
   ]
  },
  {
   "cell_type": "markdown",
   "metadata": {},
   "source": [
    "**Problem 3**: For given real-valued, $n\\times n$ square matrix $A$ with SVD $A=U\\Sigma V^{T}$, if we order the singular values $\\sigma_{j}$ such that $\\sigma_{1}\\geq \\sigma_{2}\\geq \\cdots \\geq \\sigma_{n}$, then we define its *condition number*, say $c(A)$, to be \n",
    "\n",
    "$$\n",
    "c(A) = \\frac{\\sigma_{1}}{\\sigma_{n}}\n",
    "$$\n",
    "\n",
    "Note, if $A$ is not of full rank then $\\sigma_{n}=0$ and $c(A)=\\infty$.\n",
    "\n",
    "For $2 \\leq n \\leq 30$, using `np.random.randn` which generates random matrices using a normal distribution, find the average condition number as a function of $n$.  Plot your results and comment upon them.  Use the code skeleton below to get started.  "
   ]
  },
  {
   "cell_type": "code",
   "execution_count": null,
   "metadata": {},
   "outputs": [],
   "source": [
    "nvals = np.arange(2,31) # range of n-vals\n",
    "nsamples = # how many different random samples per dimension do we want to generate?  how do your results change as you change this number?\n",
    "average_condition_numbers = np.zeros(nvals.size)\n",
    "for cnt, nval in enumerate(nvals):\n",
    "    tot = 0\n",
    "    for jj in range(nsamples):\n",
    "        Amat = np.random.randn(nval, nval)\n",
    "        # find the svd of Amat\n",
    "        if : # don't include matrices that don't have full rank\n",
    "            # update your average here \n",
    "            # keep track of how many terms you're including in your average\n",
    "    average_condition_numbers[cnt] /= tot # make sure you compute an average\n",
    "\n",
    "plt.plot(average_condition_numbers)\n",
    "plt.xlabel(r\"$n$\")\n"
   ]
  },
  {
   "cell_type": "markdown",
   "metadata": {},
   "source": [
    "**Problem 4** (Graduate/Extra Credit): When using the economy SVD, only one of the products $U^{\\dagger}U$ and $UU^{\\dagger}$ is guaranteed to be the identity,\n",
    "while the other is a projection. Which is which and why?"
   ]
  },
  {
   "cell_type": "markdown",
   "metadata": {},
   "source": [
    "**Problem 5** (Graduate/Extra Credit): For $m\\times n$ complex valued matrix $A$, we define its *Frobenius norm* $\\left|\\left|A\\right|\\right|_{F}$ via the formula\n",
    "\n",
    "$$\n",
    "\\left|\\left|A\\right|\\right|^{2}_{F} = \\text{tr}\\left(A^{\\dagger}A \\right).\n",
    "$$\n",
    "\n",
    "Using the SVD $A = U\\Sigma V^{\\dagger}$, show that \n",
    "\n",
    "$$\n",
    "\\left|\\left|A\\right|\\right|^{2}_{F} = \\sum_{l=1}^{r}\\sigma_{l}^{2}, ~ r = \\text{rank}(A).\n",
    "$$"
   ]
  },
  {
   "cell_type": "markdown",
   "metadata": {},
   "source": []
  }
 ],
 "metadata": {
  "kernelspec": {
   "display_name": "Python [conda env:base] *",
   "language": "python",
   "name": "conda-base-py"
  },
  "language_info": {
   "codemirror_mode": {
    "name": "ipython",
    "version": 3
   },
   "file_extension": ".py",
   "mimetype": "text/x-python",
   "name": "python",
   "nbconvert_exporter": "python",
   "pygments_lexer": "ipython3",
   "version": "3.13.5"
  }
 },
 "nbformat": 4,
 "nbformat_minor": 4
}
